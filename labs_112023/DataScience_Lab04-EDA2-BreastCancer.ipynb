{
 "cells": [
  {
   "cell_type": "markdown",
   "id": "6bb9fe5c",
   "metadata": {},
   "source": [
    "***\n",
    "# <font> Exploratory Data Analysis on Breast Cancer Dataset</font>\n",
    "<p style=\"margin-left:10%; margin-right:10%;\"> <font color=teal> \n",
    "\n",
    "***"
   ]
  },
  {
   "cell_type": "markdown",
   "id": "df2861bd",
   "metadata": {},
   "source": [
    "## Overview of this Notebook\n",
    "The most important element in any data science project is the data itself. It is extremely important that this data is as clear as possible, so that we do not misinterpret any structure inherent to the problem.  \n",
    "Data Preparations for training a Machine Learning model involves Data Transformations and Manipulations. This step is a very important step and takes typically 80% of the time in the entire life cycle of a Machine Learning Model. The real world data is mostly incomplete, and has several missing values. Missing values can be because of the unavailability of data or inconsistancy present in the data. There might be several errors and outliers present in the data. \n",
    "Preprocessing of data involves various steps\n",
    "1. Combinating attributes or columns  \n",
    "2. Data Imputation\n",
    "3. Data Cleaning\n",
    "4. Dummy Variables Encoding\n",
    "5. Outlier Detection\n",
    "6. Feature Scaling\n",
    "7. Feature Engineering\n",
    "8. Feature Selection\n",
    "9. Feature Extration.\n",
    "\n",
    "\n",
    "This notebook will demonstrate the core functionality of the Dataset Factory class. In this notebook, you will learn some of the many ways to clean and transform data in an `ADSDatasetFactory` Object.\n",
    "When datasets are loaded with DatasetFactory, they can be transformed and manipulated easily with the built-in functions. Underlying, an ADSDataset object is a Pandas dataframe. Any operation that can be performed to a Pandas dataframe can also be applied to an ADS Dataset.\n"
   ]
  },
  {
   "cell_type": "markdown",
   "id": "5bd9af29",
   "metadata": {},
   "source": [
    "First the necessary imports are made. From ads, DatasetBrowser, dataset factory, feature_engineering are imported. pandas, numpy packages are also imported. From plots matplotlib.pyplot is imported."
   ]
  },
  {
   "cell_type": "markdown",
   "id": "e2dd34bb",
   "metadata": {},
   "source": [
    "Please select the  pubhished conda envionment data-science-gmlv1_0_v1 before proceeding further. "
   ]
  },
  {
   "cell_type": "code",
   "execution_count": 1,
   "id": "21875f5f",
   "metadata": {},
   "outputs": [],
   "source": [
    "import ads\n",
    "import logging\n",
    "import numpy as np\n",
    "import os\n",
    "import pandas as pd\n",
    "import shutil\n",
    "import tempfile\n",
    "import warnings\n",
    "from ads.dataset.dataset_browser import DatasetBrowser\n",
    "from ads.dataset.factory import DatasetFactory\n",
    "from os import path\n",
    "from sqlalchemy import create_engine\n",
    "import seaborn as sns\n",
    "\n",
    "from ads.dataset.dataset_browser import DatasetBrowser\n",
    "from ads.feature_engineering import feature_type_manager, FeatureType\n",
    "import matplotlib.pyplot as plt\n",
    "from os import path\n",
    "\n",
    "warnings.filterwarnings('ignore')\n",
    "logging.basicConfig(format='%(levelname)s:%(message)s', level=logging.ERROR)"
   ]
  },
  {
   "cell_type": "code",
   "execution_count": 2,
   "id": "0983403a",
   "metadata": {},
   "outputs": [
    {
     "name": "stdout",
     "output_type": "stream",
     "text": [
      "\n",
      "\n",
      "  O  o-o   o-o\n",
      " / \\ |  \\ |\n",
      "o---o|   O o-o\n",
      "|   ||  /     |\n",
      "o   oo-o  o--o\n",
      "\n",
      "ads v2.8.11\n",
      "oci v2.114.0\n",
      "ocifs v1.1.3\n",
      "\n",
      "\n"
     ]
    }
   ],
   "source": [
    "ads.hello()"
   ]
  },
  {
   "cell_type": "markdown",
   "id": "0b23f0c5",
   "metadata": {},
   "source": [
    "## Load The Dataset\n",
    "\n",
    "<font color=gray>Datasets are provided as a convenience.  Datasets are considered Third Party\n",
    "Content and are not considered Materials under Your agreement with Oracle\n",
    "applicable to the Services.  </font>"
   ]
  },
  {
   "cell_type": "markdown",
   "id": "ddefcd4a",
   "metadata": {},
   "source": [
    "There are many ways of Loading the Dataset. The simplest among them is to Download the csv and upload it. The csv file will be available in the left pane. You can open datasets with DatasetFactory or DatasetBrowser. DatasetFactory allows datasets to be loaded into ADS. \n",
    "DatasetBrowser supports opening the datasets from web sites and libraries, such as scikit-learn directly into ADS. \n",
    "When you open a dataset in DatasetFactory, you can get the summary statistics, correlations, and visualizations of the dataset. \n",
    "The dataset used in this practise session is the Breast Cancer dataset. This dataset is available in sklearn. Alternatively it can be downloaded <here> (https://www.kaggle.com/datasets/uciml/breast-cancer-wisconsin-data). In the first practise session, both ways of loading the dataset is shown. To start with the breast cancer dataset is downloaded as csv file and is uploaded. "
   ]
  },
  {
   "cell_type": "code",
   "execution_count": 3,
   "id": "a8c23fc2",
   "metadata": {},
   "outputs": [
    {
     "data": {
      "application/vnd.jupyter.widget-view+json": {
       "model_id": "",
       "version_major": 2,
       "version_minor": 0
      },
      "text/plain": [
       "loop1:   0%|          | 0/4 [00:00<?, ?it/s]"
      ]
     },
     "metadata": {},
     "output_type": "display_data"
    }
   ],
   "source": [
    "breastcancer = DatasetFactory.open(\"bc.csv\")"
   ]
  },
  {
   "cell_type": "code",
   "execution_count": 4,
   "id": "d92a6891",
   "metadata": {},
   "outputs": [
    {
     "data": {
      "text/plain": [
       "(569, 33)"
      ]
     },
     "execution_count": 4,
     "metadata": {},
     "output_type": "execute_result"
    }
   ],
   "source": [
    "breastcancer.shape"
   ]
  },
  {
   "cell_type": "markdown",
   "id": "1c5f522e",
   "metadata": {},
   "source": [
    "The shape method is used for finding the size of the dataset. Breastcancer dataset has 33 columns and 569 rows. Let us see the summary of the dataset"
   ]
  },
  {
   "cell_type": "code",
   "execution_count": 5,
   "id": "d9a07e4c",
   "metadata": {},
   "outputs": [
    {
     "data": {
      "text/html": [
       "<div>\n",
       "<style scoped>\n",
       "    .dataframe tbody tr th:only-of-type {\n",
       "        vertical-align: middle;\n",
       "    }\n",
       "\n",
       "    .dataframe tbody tr th {\n",
       "        vertical-align: top;\n",
       "    }\n",
       "\n",
       "    .dataframe thead th {\n",
       "        text-align: right;\n",
       "    }\n",
       "</style>\n",
       "<table border=\"1\" class=\"dataframe\">\n",
       "  <thead>\n",
       "    <tr style=\"text-align: right;\">\n",
       "      <th></th>\n",
       "      <th>Feature</th>\n",
       "      <th>Datatype</th>\n",
       "    </tr>\n",
       "  </thead>\n",
       "  <tbody>\n",
       "    <tr>\n",
       "      <th>0</th>\n",
       "      <td>id</td>\n",
       "      <td>ordinal/int64</td>\n",
       "    </tr>\n",
       "    <tr>\n",
       "      <th>1</th>\n",
       "      <td>diagnosis</td>\n",
       "      <td>categorical/object</td>\n",
       "    </tr>\n",
       "    <tr>\n",
       "      <th>2</th>\n",
       "      <td>radius_mean</td>\n",
       "      <td>continuous/float64</td>\n",
       "    </tr>\n",
       "    <tr>\n",
       "      <th>3</th>\n",
       "      <td>texture_mean</td>\n",
       "      <td>continuous/float64</td>\n",
       "    </tr>\n",
       "    <tr>\n",
       "      <th>4</th>\n",
       "      <td>perimeter_mean</td>\n",
       "      <td>continuous/float64</td>\n",
       "    </tr>\n",
       "    <tr>\n",
       "      <th>5</th>\n",
       "      <td>area_mean</td>\n",
       "      <td>continuous/float64</td>\n",
       "    </tr>\n",
       "    <tr>\n",
       "      <th>6</th>\n",
       "      <td>smoothness_mean</td>\n",
       "      <td>continuous/float64</td>\n",
       "    </tr>\n",
       "    <tr>\n",
       "      <th>7</th>\n",
       "      <td>compactness_mean</td>\n",
       "      <td>continuous/float64</td>\n",
       "    </tr>\n",
       "    <tr>\n",
       "      <th>8</th>\n",
       "      <td>concavity_mean</td>\n",
       "      <td>continuous/float64</td>\n",
       "    </tr>\n",
       "    <tr>\n",
       "      <th>9</th>\n",
       "      <td>concave_points_mean</td>\n",
       "      <td>continuous/float64</td>\n",
       "    </tr>\n",
       "    <tr>\n",
       "      <th>10</th>\n",
       "      <td>symmetry_mean</td>\n",
       "      <td>continuous/float64</td>\n",
       "    </tr>\n",
       "    <tr>\n",
       "      <th>11</th>\n",
       "      <td>fractal_dimension_mean</td>\n",
       "      <td>continuous/float64</td>\n",
       "    </tr>\n",
       "    <tr>\n",
       "      <th>12</th>\n",
       "      <td>radius_se</td>\n",
       "      <td>continuous/float64</td>\n",
       "    </tr>\n",
       "    <tr>\n",
       "      <th>13</th>\n",
       "      <td>texture_se</td>\n",
       "      <td>continuous/float64</td>\n",
       "    </tr>\n",
       "    <tr>\n",
       "      <th>14</th>\n",
       "      <td>perimeter_se</td>\n",
       "      <td>continuous/float64</td>\n",
       "    </tr>\n",
       "    <tr>\n",
       "      <th>15</th>\n",
       "      <td>area_se</td>\n",
       "      <td>continuous/float64</td>\n",
       "    </tr>\n",
       "    <tr>\n",
       "      <th>16</th>\n",
       "      <td>smoothness_se</td>\n",
       "      <td>continuous/float64</td>\n",
       "    </tr>\n",
       "    <tr>\n",
       "      <th>17</th>\n",
       "      <td>compactness_se</td>\n",
       "      <td>continuous/float64</td>\n",
       "    </tr>\n",
       "    <tr>\n",
       "      <th>18</th>\n",
       "      <td>concavity_se</td>\n",
       "      <td>continuous/float64</td>\n",
       "    </tr>\n",
       "    <tr>\n",
       "      <th>19</th>\n",
       "      <td>concave_points_se</td>\n",
       "      <td>continuous/float64</td>\n",
       "    </tr>\n",
       "    <tr>\n",
       "      <th>20</th>\n",
       "      <td>symmetry_se</td>\n",
       "      <td>continuous/float64</td>\n",
       "    </tr>\n",
       "    <tr>\n",
       "      <th>21</th>\n",
       "      <td>fractal_dimension_se</td>\n",
       "      <td>continuous/float64</td>\n",
       "    </tr>\n",
       "    <tr>\n",
       "      <th>22</th>\n",
       "      <td>radius_worst</td>\n",
       "      <td>continuous/float64</td>\n",
       "    </tr>\n",
       "    <tr>\n",
       "      <th>23</th>\n",
       "      <td>texture_worst</td>\n",
       "      <td>continuous/float64</td>\n",
       "    </tr>\n",
       "    <tr>\n",
       "      <th>24</th>\n",
       "      <td>perimeter_worst</td>\n",
       "      <td>continuous/float64</td>\n",
       "    </tr>\n",
       "    <tr>\n",
       "      <th>25</th>\n",
       "      <td>area_worst</td>\n",
       "      <td>continuous/float64</td>\n",
       "    </tr>\n",
       "    <tr>\n",
       "      <th>26</th>\n",
       "      <td>smoothness_worst</td>\n",
       "      <td>continuous/float64</td>\n",
       "    </tr>\n",
       "    <tr>\n",
       "      <th>27</th>\n",
       "      <td>compactness_worst</td>\n",
       "      <td>continuous/float64</td>\n",
       "    </tr>\n",
       "    <tr>\n",
       "      <th>28</th>\n",
       "      <td>concavity_worst</td>\n",
       "      <td>continuous/float64</td>\n",
       "    </tr>\n",
       "    <tr>\n",
       "      <th>29</th>\n",
       "      <td>concave_points_worst</td>\n",
       "      <td>continuous/float64</td>\n",
       "    </tr>\n",
       "    <tr>\n",
       "      <th>30</th>\n",
       "      <td>symmetry_worst</td>\n",
       "      <td>continuous/float64</td>\n",
       "    </tr>\n",
       "    <tr>\n",
       "      <th>31</th>\n",
       "      <td>fractal_dimension_worst</td>\n",
       "      <td>continuous/float64</td>\n",
       "    </tr>\n",
       "    <tr>\n",
       "      <th>32</th>\n",
       "      <td>Unnamed:_32</td>\n",
       "      <td>constant/float64</td>\n",
       "    </tr>\n",
       "  </tbody>\n",
       "</table>\n",
       "</div>"
      ],
      "text/plain": [
       "                    Feature            Datatype\n",
       "0                        id       ordinal/int64\n",
       "1                 diagnosis  categorical/object\n",
       "2               radius_mean  continuous/float64\n",
       "3              texture_mean  continuous/float64\n",
       "4            perimeter_mean  continuous/float64\n",
       "5                 area_mean  continuous/float64\n",
       "6           smoothness_mean  continuous/float64\n",
       "7          compactness_mean  continuous/float64\n",
       "8            concavity_mean  continuous/float64\n",
       "9       concave_points_mean  continuous/float64\n",
       "10            symmetry_mean  continuous/float64\n",
       "11   fractal_dimension_mean  continuous/float64\n",
       "12                radius_se  continuous/float64\n",
       "13               texture_se  continuous/float64\n",
       "14             perimeter_se  continuous/float64\n",
       "15                  area_se  continuous/float64\n",
       "16            smoothness_se  continuous/float64\n",
       "17           compactness_se  continuous/float64\n",
       "18             concavity_se  continuous/float64\n",
       "19        concave_points_se  continuous/float64\n",
       "20              symmetry_se  continuous/float64\n",
       "21     fractal_dimension_se  continuous/float64\n",
       "22             radius_worst  continuous/float64\n",
       "23            texture_worst  continuous/float64\n",
       "24          perimeter_worst  continuous/float64\n",
       "25               area_worst  continuous/float64\n",
       "26         smoothness_worst  continuous/float64\n",
       "27        compactness_worst  continuous/float64\n",
       "28          concavity_worst  continuous/float64\n",
       "29     concave_points_worst  continuous/float64\n",
       "30           symmetry_worst  continuous/float64\n",
       "31  fractal_dimension_worst  continuous/float64\n",
       "32              Unnamed:_32    constant/float64"
      ]
     },
     "execution_count": 5,
     "metadata": {},
     "output_type": "execute_result"
    }
   ],
   "source": [
    "breastcancer.summary()"
   ]
  },
  {
   "cell_type": "markdown",
   "id": "02575b23",
   "metadata": {},
   "source": [
    "There are 33 columns. The colums define the type of feature pertaining to breast cancer. The target or output is diagnosis. "
   ]
  },
  {
   "cell_type": "code",
   "execution_count": 6,
   "id": "82fa6e40",
   "metadata": {},
   "outputs": [
    {
     "data": {
      "text/html": [
       "<div>\n",
       "<style scoped>\n",
       "    .dataframe tbody tr th:only-of-type {\n",
       "        vertical-align: middle;\n",
       "    }\n",
       "\n",
       "    .dataframe tbody tr th {\n",
       "        vertical-align: top;\n",
       "    }\n",
       "\n",
       "    .dataframe thead th {\n",
       "        text-align: right;\n",
       "    }\n",
       "</style>\n",
       "<table border=\"1\" class=\"dataframe\">\n",
       "  <thead>\n",
       "    <tr style=\"text-align: right;\">\n",
       "      <th></th>\n",
       "      <th>id</th>\n",
       "      <th>diagnosis</th>\n",
       "      <th>radius_mean</th>\n",
       "      <th>texture_mean</th>\n",
       "      <th>perimeter_mean</th>\n",
       "      <th>area_mean</th>\n",
       "      <th>smoothness_mean</th>\n",
       "      <th>compactness_mean</th>\n",
       "      <th>concavity_mean</th>\n",
       "      <th>concave_points_mean</th>\n",
       "      <th>...</th>\n",
       "      <th>texture_worst</th>\n",
       "      <th>perimeter_worst</th>\n",
       "      <th>area_worst</th>\n",
       "      <th>smoothness_worst</th>\n",
       "      <th>compactness_worst</th>\n",
       "      <th>concavity_worst</th>\n",
       "      <th>concave_points_worst</th>\n",
       "      <th>symmetry_worst</th>\n",
       "      <th>fractal_dimension_worst</th>\n",
       "      <th>Unnamed:_32</th>\n",
       "    </tr>\n",
       "  </thead>\n",
       "  <tbody>\n",
       "    <tr>\n",
       "      <th>0</th>\n",
       "      <td>842302</td>\n",
       "      <td>M</td>\n",
       "      <td>17.99</td>\n",
       "      <td>10.38</td>\n",
       "      <td>122.80</td>\n",
       "      <td>1001.0</td>\n",
       "      <td>0.11840</td>\n",
       "      <td>0.27760</td>\n",
       "      <td>0.3001</td>\n",
       "      <td>0.14710</td>\n",
       "      <td>...</td>\n",
       "      <td>17.33</td>\n",
       "      <td>184.60</td>\n",
       "      <td>2019.0</td>\n",
       "      <td>0.1622</td>\n",
       "      <td>0.6656</td>\n",
       "      <td>0.7119</td>\n",
       "      <td>0.2654</td>\n",
       "      <td>0.4601</td>\n",
       "      <td>0.11890</td>\n",
       "      <td>NaN</td>\n",
       "    </tr>\n",
       "    <tr>\n",
       "      <th>1</th>\n",
       "      <td>842517</td>\n",
       "      <td>M</td>\n",
       "      <td>20.57</td>\n",
       "      <td>17.77</td>\n",
       "      <td>132.90</td>\n",
       "      <td>1326.0</td>\n",
       "      <td>0.08474</td>\n",
       "      <td>0.07864</td>\n",
       "      <td>0.0869</td>\n",
       "      <td>0.07017</td>\n",
       "      <td>...</td>\n",
       "      <td>23.41</td>\n",
       "      <td>158.80</td>\n",
       "      <td>1956.0</td>\n",
       "      <td>0.1238</td>\n",
       "      <td>0.1866</td>\n",
       "      <td>0.2416</td>\n",
       "      <td>0.1860</td>\n",
       "      <td>0.2750</td>\n",
       "      <td>0.08902</td>\n",
       "      <td>NaN</td>\n",
       "    </tr>\n",
       "    <tr>\n",
       "      <th>2</th>\n",
       "      <td>84300903</td>\n",
       "      <td>M</td>\n",
       "      <td>19.69</td>\n",
       "      <td>21.25</td>\n",
       "      <td>130.00</td>\n",
       "      <td>1203.0</td>\n",
       "      <td>0.10960</td>\n",
       "      <td>0.15990</td>\n",
       "      <td>0.1974</td>\n",
       "      <td>0.12790</td>\n",
       "      <td>...</td>\n",
       "      <td>25.53</td>\n",
       "      <td>152.50</td>\n",
       "      <td>1709.0</td>\n",
       "      <td>0.1444</td>\n",
       "      <td>0.4245</td>\n",
       "      <td>0.4504</td>\n",
       "      <td>0.2430</td>\n",
       "      <td>0.3613</td>\n",
       "      <td>0.08758</td>\n",
       "      <td>NaN</td>\n",
       "    </tr>\n",
       "    <tr>\n",
       "      <th>3</th>\n",
       "      <td>84348301</td>\n",
       "      <td>M</td>\n",
       "      <td>11.42</td>\n",
       "      <td>20.38</td>\n",
       "      <td>77.58</td>\n",
       "      <td>386.1</td>\n",
       "      <td>0.14250</td>\n",
       "      <td>0.28390</td>\n",
       "      <td>0.2414</td>\n",
       "      <td>0.10520</td>\n",
       "      <td>...</td>\n",
       "      <td>26.50</td>\n",
       "      <td>98.87</td>\n",
       "      <td>567.7</td>\n",
       "      <td>0.2098</td>\n",
       "      <td>0.8663</td>\n",
       "      <td>0.6869</td>\n",
       "      <td>0.2575</td>\n",
       "      <td>0.6638</td>\n",
       "      <td>0.17300</td>\n",
       "      <td>NaN</td>\n",
       "    </tr>\n",
       "    <tr>\n",
       "      <th>4</th>\n",
       "      <td>84358402</td>\n",
       "      <td>M</td>\n",
       "      <td>20.29</td>\n",
       "      <td>14.34</td>\n",
       "      <td>135.10</td>\n",
       "      <td>1297.0</td>\n",
       "      <td>0.10030</td>\n",
       "      <td>0.13280</td>\n",
       "      <td>0.1980</td>\n",
       "      <td>0.10430</td>\n",
       "      <td>...</td>\n",
       "      <td>16.67</td>\n",
       "      <td>152.20</td>\n",
       "      <td>1575.0</td>\n",
       "      <td>0.1374</td>\n",
       "      <td>0.2050</td>\n",
       "      <td>0.4000</td>\n",
       "      <td>0.1625</td>\n",
       "      <td>0.2364</td>\n",
       "      <td>0.07678</td>\n",
       "      <td>NaN</td>\n",
       "    </tr>\n",
       "  </tbody>\n",
       "</table>\n",
       "<p>5 rows × 33 columns</p>\n",
       "</div>"
      ],
      "text/plain": [
       "         id diagnosis  radius_mean  texture_mean  perimeter_mean  area_mean  \\\n",
       "0    842302         M        17.99         10.38          122.80     1001.0   \n",
       "1    842517         M        20.57         17.77          132.90     1326.0   \n",
       "2  84300903         M        19.69         21.25          130.00     1203.0   \n",
       "3  84348301         M        11.42         20.38           77.58      386.1   \n",
       "4  84358402         M        20.29         14.34          135.10     1297.0   \n",
       "\n",
       "   smoothness_mean  compactness_mean  concavity_mean  concave_points_mean  \\\n",
       "0          0.11840           0.27760          0.3001              0.14710   \n",
       "1          0.08474           0.07864          0.0869              0.07017   \n",
       "2          0.10960           0.15990          0.1974              0.12790   \n",
       "3          0.14250           0.28390          0.2414              0.10520   \n",
       "4          0.10030           0.13280          0.1980              0.10430   \n",
       "\n",
       "   ...  texture_worst  perimeter_worst  area_worst  smoothness_worst  \\\n",
       "0  ...          17.33           184.60      2019.0            0.1622   \n",
       "1  ...          23.41           158.80      1956.0            0.1238   \n",
       "2  ...          25.53           152.50      1709.0            0.1444   \n",
       "3  ...          26.50            98.87       567.7            0.2098   \n",
       "4  ...          16.67           152.20      1575.0            0.1374   \n",
       "\n",
       "   compactness_worst  concavity_worst  concave_points_worst  symmetry_worst  \\\n",
       "0             0.6656           0.7119                0.2654          0.4601   \n",
       "1             0.1866           0.2416                0.1860          0.2750   \n",
       "2             0.4245           0.4504                0.2430          0.3613   \n",
       "3             0.8663           0.6869                0.2575          0.6638   \n",
       "4             0.2050           0.4000                0.1625          0.2364   \n",
       "\n",
       "   fractal_dimension_worst  Unnamed:_32  \n",
       "0                  0.11890          NaN  \n",
       "1                  0.08902          NaN  \n",
       "2                  0.08758          NaN  \n",
       "3                  0.17300          NaN  \n",
       "4                  0.07678          NaN  \n",
       "\n",
       "[5 rows x 33 columns]"
      ]
     },
     "execution_count": 6,
     "metadata": {},
     "output_type": "execute_result"
    }
   ],
   "source": [
    "breastcancer.head()"
   ]
  },
  {
   "cell_type": "markdown",
   "id": "1dc213ff",
   "metadata": {},
   "source": [
    "The target Diagnosis takes two values \"B\" and \"M\" which stands for Benign and Malignant respectively\n",
    "We can use `value_counts` to get the class label and frequency for a specific column in our dataset."
   ]
  },
  {
   "cell_type": "code",
   "execution_count": 7,
   "id": "de0f8336",
   "metadata": {},
   "outputs": [
    {
     "data": {
      "text/plain": [
       "B    357\n",
       "M    212\n",
       "Name: diagnosis, dtype: int64"
      ]
     },
     "execution_count": 7,
     "metadata": {},
     "output_type": "execute_result"
    }
   ],
   "source": [
    "breastcancer['diagnosis'].value_counts()"
   ]
  },
  {
   "cell_type": "markdown",
   "id": "dfb9fb73",
   "metadata": {},
   "source": [
    "The target diagnosis has around 63% Benign and 37% Malignant. So this is not a clear case of class imbalance problem. Let us check out for the null values present in the dataset. The 'isna()' function is used to check null values. "
   ]
  },
  {
   "cell_type": "code",
   "execution_count": 8,
   "id": "56d1f2dd",
   "metadata": {},
   "outputs": [
    {
     "data": {
      "text/plain": [
       "id                           0\n",
       "diagnosis                    0\n",
       "radius_mean                  0\n",
       "texture_mean                 0\n",
       "perimeter_mean               0\n",
       "area_mean                    0\n",
       "smoothness_mean              0\n",
       "compactness_mean             0\n",
       "concavity_mean               0\n",
       "concave_points_mean          0\n",
       "symmetry_mean                0\n",
       "fractal_dimension_mean       0\n",
       "radius_se                    0\n",
       "texture_se                   0\n",
       "perimeter_se                 0\n",
       "area_se                      0\n",
       "smoothness_se                0\n",
       "compactness_se               0\n",
       "concavity_se                 0\n",
       "concave_points_se            0\n",
       "symmetry_se                  0\n",
       "fractal_dimension_se         0\n",
       "radius_worst                 0\n",
       "texture_worst                0\n",
       "perimeter_worst              0\n",
       "area_worst                   0\n",
       "smoothness_worst             0\n",
       "compactness_worst            0\n",
       "concavity_worst              0\n",
       "concave_points_worst         0\n",
       "symmetry_worst               0\n",
       "fractal_dimension_worst      0\n",
       "Unnamed:_32                569\n",
       "dtype: int64"
      ]
     },
     "execution_count": 8,
     "metadata": {},
     "output_type": "execute_result"
    }
   ],
   "source": [
    "breastcancer.isna().sum()"
   ]
  },
  {
   "cell_type": "markdown",
   "id": "f2a0926f",
   "metadata": {},
   "source": [
    "Out of the 33 attributes, the last column has no values present and can be removed"
   ]
  },
  {
   "cell_type": "code",
   "execution_count": 9,
   "id": "9347ed2d",
   "metadata": {},
   "outputs": [],
   "source": [
    "transformed_breastcancer = breastcancer.drop(breastcancer.columns[[-1, 0]], axis=1)\n",
    "#transformed_breastcancer.head()"
   ]
  },
  {
   "cell_type": "code",
   "execution_count": 10,
   "id": "d75970b4",
   "metadata": {},
   "outputs": [
    {
     "data": {
      "text/plain": [
       "(569, 31)"
      ]
     },
     "execution_count": 10,
     "metadata": {},
     "output_type": "execute_result"
    }
   ],
   "source": [
    "transformed_breastcancer.shape"
   ]
  },
  {
   "cell_type": "markdown",
   "id": "4063c3f0",
   "metadata": {},
   "source": [
    "The drop method is used to drop a column. The axis=1 indicates that it is a column which needs to be dropped"
   ]
  },
  {
   "cell_type": "code",
   "execution_count": 11,
   "id": "742295e2",
   "metadata": {},
   "outputs": [
    {
     "data": {
      "text/html": [
       "<div>\n",
       "<style scoped>\n",
       "    .dataframe tbody tr th:only-of-type {\n",
       "        vertical-align: middle;\n",
       "    }\n",
       "\n",
       "    .dataframe tbody tr th {\n",
       "        vertical-align: top;\n",
       "    }\n",
       "\n",
       "    .dataframe thead th {\n",
       "        text-align: right;\n",
       "    }\n",
       "</style>\n",
       "<table border=\"1\" class=\"dataframe\">\n",
       "  <thead>\n",
       "    <tr style=\"text-align: right;\">\n",
       "      <th></th>\n",
       "      <th>diagnosis</th>\n",
       "      <th>radius_mean</th>\n",
       "      <th>texture_mean</th>\n",
       "      <th>perimeter_mean</th>\n",
       "      <th>area_mean</th>\n",
       "      <th>smoothness_mean</th>\n",
       "      <th>compactness_mean</th>\n",
       "      <th>concavity_mean</th>\n",
       "      <th>concave_points_mean</th>\n",
       "      <th>symmetry_mean</th>\n",
       "      <th>...</th>\n",
       "      <th>radius_worst</th>\n",
       "      <th>texture_worst</th>\n",
       "      <th>perimeter_worst</th>\n",
       "      <th>area_worst</th>\n",
       "      <th>smoothness_worst</th>\n",
       "      <th>compactness_worst</th>\n",
       "      <th>concavity_worst</th>\n",
       "      <th>concave_points_worst</th>\n",
       "      <th>symmetry_worst</th>\n",
       "      <th>fractal_dimension_worst</th>\n",
       "    </tr>\n",
       "  </thead>\n",
       "  <tbody>\n",
       "    <tr>\n",
       "      <th>0</th>\n",
       "      <td>M</td>\n",
       "      <td>17.99</td>\n",
       "      <td>10.38</td>\n",
       "      <td>122.80</td>\n",
       "      <td>1001.0</td>\n",
       "      <td>0.11840</td>\n",
       "      <td>0.27760</td>\n",
       "      <td>0.3001</td>\n",
       "      <td>0.14710</td>\n",
       "      <td>0.2419</td>\n",
       "      <td>...</td>\n",
       "      <td>25.38</td>\n",
       "      <td>17.33</td>\n",
       "      <td>184.60</td>\n",
       "      <td>2019.0</td>\n",
       "      <td>0.1622</td>\n",
       "      <td>0.6656</td>\n",
       "      <td>0.7119</td>\n",
       "      <td>0.2654</td>\n",
       "      <td>0.4601</td>\n",
       "      <td>0.11890</td>\n",
       "    </tr>\n",
       "    <tr>\n",
       "      <th>1</th>\n",
       "      <td>M</td>\n",
       "      <td>20.57</td>\n",
       "      <td>17.77</td>\n",
       "      <td>132.90</td>\n",
       "      <td>1326.0</td>\n",
       "      <td>0.08474</td>\n",
       "      <td>0.07864</td>\n",
       "      <td>0.0869</td>\n",
       "      <td>0.07017</td>\n",
       "      <td>0.1812</td>\n",
       "      <td>...</td>\n",
       "      <td>24.99</td>\n",
       "      <td>23.41</td>\n",
       "      <td>158.80</td>\n",
       "      <td>1956.0</td>\n",
       "      <td>0.1238</td>\n",
       "      <td>0.1866</td>\n",
       "      <td>0.2416</td>\n",
       "      <td>0.1860</td>\n",
       "      <td>0.2750</td>\n",
       "      <td>0.08902</td>\n",
       "    </tr>\n",
       "    <tr>\n",
       "      <th>2</th>\n",
       "      <td>M</td>\n",
       "      <td>19.69</td>\n",
       "      <td>21.25</td>\n",
       "      <td>130.00</td>\n",
       "      <td>1203.0</td>\n",
       "      <td>0.10960</td>\n",
       "      <td>0.15990</td>\n",
       "      <td>0.1974</td>\n",
       "      <td>0.12790</td>\n",
       "      <td>0.2069</td>\n",
       "      <td>...</td>\n",
       "      <td>23.57</td>\n",
       "      <td>25.53</td>\n",
       "      <td>152.50</td>\n",
       "      <td>1709.0</td>\n",
       "      <td>0.1444</td>\n",
       "      <td>0.4245</td>\n",
       "      <td>0.4504</td>\n",
       "      <td>0.2430</td>\n",
       "      <td>0.3613</td>\n",
       "      <td>0.08758</td>\n",
       "    </tr>\n",
       "    <tr>\n",
       "      <th>3</th>\n",
       "      <td>M</td>\n",
       "      <td>11.42</td>\n",
       "      <td>20.38</td>\n",
       "      <td>77.58</td>\n",
       "      <td>386.1</td>\n",
       "      <td>0.14250</td>\n",
       "      <td>0.28390</td>\n",
       "      <td>0.2414</td>\n",
       "      <td>0.10520</td>\n",
       "      <td>0.2597</td>\n",
       "      <td>...</td>\n",
       "      <td>14.91</td>\n",
       "      <td>26.50</td>\n",
       "      <td>98.87</td>\n",
       "      <td>567.7</td>\n",
       "      <td>0.2098</td>\n",
       "      <td>0.8663</td>\n",
       "      <td>0.6869</td>\n",
       "      <td>0.2575</td>\n",
       "      <td>0.6638</td>\n",
       "      <td>0.17300</td>\n",
       "    </tr>\n",
       "    <tr>\n",
       "      <th>4</th>\n",
       "      <td>M</td>\n",
       "      <td>20.29</td>\n",
       "      <td>14.34</td>\n",
       "      <td>135.10</td>\n",
       "      <td>1297.0</td>\n",
       "      <td>0.10030</td>\n",
       "      <td>0.13280</td>\n",
       "      <td>0.1980</td>\n",
       "      <td>0.10430</td>\n",
       "      <td>0.1809</td>\n",
       "      <td>...</td>\n",
       "      <td>22.54</td>\n",
       "      <td>16.67</td>\n",
       "      <td>152.20</td>\n",
       "      <td>1575.0</td>\n",
       "      <td>0.1374</td>\n",
       "      <td>0.2050</td>\n",
       "      <td>0.4000</td>\n",
       "      <td>0.1625</td>\n",
       "      <td>0.2364</td>\n",
       "      <td>0.07678</td>\n",
       "    </tr>\n",
       "  </tbody>\n",
       "</table>\n",
       "<p>5 rows × 31 columns</p>\n",
       "</div>"
      ],
      "text/plain": [
       "  diagnosis  radius_mean  texture_mean  perimeter_mean  area_mean  \\\n",
       "0         M        17.99         10.38          122.80     1001.0   \n",
       "1         M        20.57         17.77          132.90     1326.0   \n",
       "2         M        19.69         21.25          130.00     1203.0   \n",
       "3         M        11.42         20.38           77.58      386.1   \n",
       "4         M        20.29         14.34          135.10     1297.0   \n",
       "\n",
       "   smoothness_mean  compactness_mean  concavity_mean  concave_points_mean  \\\n",
       "0          0.11840           0.27760          0.3001              0.14710   \n",
       "1          0.08474           0.07864          0.0869              0.07017   \n",
       "2          0.10960           0.15990          0.1974              0.12790   \n",
       "3          0.14250           0.28390          0.2414              0.10520   \n",
       "4          0.10030           0.13280          0.1980              0.10430   \n",
       "\n",
       "   symmetry_mean  ...  radius_worst  texture_worst  perimeter_worst  \\\n",
       "0         0.2419  ...         25.38          17.33           184.60   \n",
       "1         0.1812  ...         24.99          23.41           158.80   \n",
       "2         0.2069  ...         23.57          25.53           152.50   \n",
       "3         0.2597  ...         14.91          26.50            98.87   \n",
       "4         0.1809  ...         22.54          16.67           152.20   \n",
       "\n",
       "   area_worst  smoothness_worst  compactness_worst  concavity_worst  \\\n",
       "0      2019.0            0.1622             0.6656           0.7119   \n",
       "1      1956.0            0.1238             0.1866           0.2416   \n",
       "2      1709.0            0.1444             0.4245           0.4504   \n",
       "3       567.7            0.2098             0.8663           0.6869   \n",
       "4      1575.0            0.1374             0.2050           0.4000   \n",
       "\n",
       "   concave_points_worst  symmetry_worst  fractal_dimension_worst  \n",
       "0                0.2654          0.4601                  0.11890  \n",
       "1                0.1860          0.2750                  0.08902  \n",
       "2                0.2430          0.3613                  0.08758  \n",
       "3                0.2575          0.6638                  0.17300  \n",
       "4                0.1625          0.2364                  0.07678  \n",
       "\n",
       "[5 rows x 31 columns]"
      ]
     },
     "execution_count": 11,
     "metadata": {},
     "output_type": "execute_result"
    }
   ],
   "source": [
    "transformed_breastcancer.head()"
   ]
  },
  {
   "cell_type": "code",
   "execution_count": 12,
   "id": "dbd1d77e",
   "metadata": {},
   "outputs": [],
   "source": [
    "perimeter_max = transformed_breastcancer['perimeter_mean'].max()\n",
    "perimeter_min = transformed_breastcancer['perimeter_mean'].min()\n",
    "perimeter_range = perimeter_max - perimeter_min\n",
    "perimeter_norm = (transformed_breastcancer['perimeter_mean'] - perimeter_min) / (perimeter_max - perimeter_min)\n",
    "perimeter_norm = transformed_breastcancer.assign_column('perimeter_norm', perimeter_norm)"
   ]
  },
  {
   "cell_type": "markdown",
   "id": "170c7d6f",
   "metadata": {},
   "source": [
    "This task needs to be performed to normalize columns. This is cumbersome process performed by datascientist. The columns with continuous values needs normalization. Data Normalisation involves adjusting values measured on different scales to a common scale. When dealing with dataframes, data normalization permits to adjust values referred to different columns to a common scale. This operation is strongly recommended when the columns of a dataframe are considered as input features of a machine learning algorithm, because it permits to give all the features the same weight.\n",
    "\n",
    "Normalization applies only to columns containing numeric values. In the breast cancer dataset, texture_worst, perimeter_worst, area_worst, area_mean, perimeter_mean, texture_mean, radius_mean needs to be normalized. "
   ]
  },
  {
   "cell_type": "markdown",
   "id": "93c861f6",
   "metadata": {},
   "source": [
    "### Categorical Encoding\n",
    "`ADSDataset` has a built-in categorical encoder. We can access it directly using the import in the following cell. Simply pass in our dataset object, and it will be automatically encoded. We demonstrate this in the following cell and use the `value_counts` function as verification."
   ]
  },
  {
   "cell_type": "code",
   "execution_count": 13,
   "id": "b6e4fd27",
   "metadata": {},
   "outputs": [
    {
     "data": {
      "text/plain": [
       "0    357\n",
       "1    212\n",
       "Name: diagnosis, dtype: int64"
      ]
     },
     "execution_count": 13,
     "metadata": {},
     "output_type": "execute_result"
    }
   ],
   "source": [
    "from ads.dataset.label_encoder import DataFrameLabelEncoder\n",
    "breastcancer_encoded = DataFrameLabelEncoder().fit_transform(transformed_breastcancer.to_pandas_dataframe())\n",
    "breastcancer_encoded['diagnosis'].value_counts()"
   ]
  },
  {
   "cell_type": "markdown",
   "id": "f73759ae",
   "metadata": {},
   "source": [
    "By using categorical Encoding, the Malignent and Benign cases are coded as 0 and 1 respectively"
   ]
  },
  {
   "cell_type": "markdown",
   "id": "1d59e009",
   "metadata": {},
   "source": [
    "## Using Feature Types in Exploratory data analysis\n",
    "In exploratory data analysis (EDA) the data scientist uses plots and statistics to summarize the characteristics of the data. The feature type system, in the ADS library, has been designed to speed up this process. The feature type system allows data scientists to separate the concept of how data is represented physically from what the data actually measures. The data can have feature types that classify the data based on what it represents and not how the data is stored in memory. In doing so, a feature type can have a set of built-in summary statistics and a plot."
   ]
  },
  {
   "cell_type": "code",
   "execution_count": 14,
   "id": "426541dc",
   "metadata": {},
   "outputs": [
    {
     "data": {
      "text/plain": [
       "{'diagnosis': ['integer'],\n",
       " 'radius_mean': ['continuous'],\n",
       " 'texture_mean': ['continuous'],\n",
       " 'perimeter_mean': ['continuous'],\n",
       " 'area_mean': ['continuous'],\n",
       " 'smoothness_mean': ['continuous'],\n",
       " 'compactness_mean': ['continuous'],\n",
       " 'concavity_mean': ['continuous'],\n",
       " 'concave_points_mean': ['continuous'],\n",
       " 'symmetry_mean': ['continuous'],\n",
       " 'fractal_dimension_mean': ['continuous'],\n",
       " 'radius_se': ['continuous'],\n",
       " 'texture_se': ['continuous'],\n",
       " 'perimeter_se': ['continuous'],\n",
       " 'area_se': ['continuous'],\n",
       " 'smoothness_se': ['continuous'],\n",
       " 'compactness_se': ['continuous'],\n",
       " 'concavity_se': ['continuous'],\n",
       " 'concave_points_se': ['continuous'],\n",
       " 'symmetry_se': ['continuous'],\n",
       " 'fractal_dimension_se': ['continuous'],\n",
       " 'radius_worst': ['continuous'],\n",
       " 'texture_worst': ['continuous'],\n",
       " 'perimeter_worst': ['continuous'],\n",
       " 'area_worst': ['continuous'],\n",
       " 'smoothness_worst': ['continuous'],\n",
       " 'compactness_worst': ['continuous'],\n",
       " 'concavity_worst': ['continuous'],\n",
       " 'concave_points_worst': ['continuous'],\n",
       " 'symmetry_worst': ['continuous'],\n",
       " 'fractal_dimension_worst': ['continuous']}"
      ]
     },
     "execution_count": 14,
     "metadata": {},
     "output_type": "execute_result"
    }
   ],
   "source": [
    "breastcancer_encoded.ads.feature_type"
   ]
  },
  {
   "cell_type": "markdown",
   "id": "a900b0e7",
   "metadata": {},
   "source": [
    "The feature_type property is used to store the feature types that are to be associated with a dataset. It accepts an ordered list of the feature types that are to be associated with the dataset. "
   ]
  },
  {
   "cell_type": "markdown",
   "id": "47b0eaaf",
   "metadata": {},
   "source": [
    "The `.feature_count()` method is called on the dataframe in the next cell. It provides a summary of what features are being used across all features in the dataframe. The output dataframe has one row for each feature type that is represented in the dataframe. This is listed in the Feature Type column. The next column lists the number of times the feature type appears in any of the columns."
   ]
  },
  {
   "cell_type": "code",
   "execution_count": 15,
   "id": "20fefcfc",
   "metadata": {},
   "outputs": [
    {
     "data": {
      "text/html": [
       "<div>\n",
       "<style scoped>\n",
       "    .dataframe tbody tr th:only-of-type {\n",
       "        vertical-align: middle;\n",
       "    }\n",
       "\n",
       "    .dataframe tbody tr th {\n",
       "        vertical-align: top;\n",
       "    }\n",
       "\n",
       "    .dataframe thead th {\n",
       "        text-align: right;\n",
       "    }\n",
       "</style>\n",
       "<table border=\"1\" class=\"dataframe\">\n",
       "  <thead>\n",
       "    <tr style=\"text-align: right;\">\n",
       "      <th></th>\n",
       "      <th>Feature Type</th>\n",
       "      <th>Count</th>\n",
       "      <th>Primary</th>\n",
       "    </tr>\n",
       "  </thead>\n",
       "  <tbody>\n",
       "    <tr>\n",
       "      <th>0</th>\n",
       "      <td>integer</td>\n",
       "      <td>1</td>\n",
       "      <td>1</td>\n",
       "    </tr>\n",
       "    <tr>\n",
       "      <th>1</th>\n",
       "      <td>continuous</td>\n",
       "      <td>30</td>\n",
       "      <td>30</td>\n",
       "    </tr>\n",
       "  </tbody>\n",
       "</table>\n",
       "</div>"
      ],
      "text/plain": [
       "  Feature Type  Count  Primary\n",
       "0      integer      1        1\n",
       "1   continuous     30       30"
      ]
     },
     "execution_count": 15,
     "metadata": {},
     "output_type": "execute_result"
    }
   ],
   "source": [
    "breastcancer_encoded.ads.feature_count()"
   ]
  },
  {
   "cell_type": "markdown",
   "id": "49878bc1",
   "metadata": {},
   "source": [
    "The `.feature_stat()` method also works at the dataframe level. It will produce a similar output to the output for the series, except it will have an additional column that lists the column name where the metric was computed."
   ]
  },
  {
   "cell_type": "code",
   "execution_count": 16,
   "id": "860a2d20",
   "metadata": {},
   "outputs": [
    {
     "data": {
      "text/html": [
       "<div>\n",
       "<style scoped>\n",
       "    .dataframe tbody tr th:only-of-type {\n",
       "        vertical-align: middle;\n",
       "    }\n",
       "\n",
       "    .dataframe tbody tr th {\n",
       "        vertical-align: top;\n",
       "    }\n",
       "\n",
       "    .dataframe thead th {\n",
       "        text-align: right;\n",
       "    }\n",
       "</style>\n",
       "<table border=\"1\" class=\"dataframe\">\n",
       "  <thead>\n",
       "    <tr style=\"text-align: right;\">\n",
       "      <th></th>\n",
       "      <th>Column</th>\n",
       "      <th>Metric</th>\n",
       "      <th>Value</th>\n",
       "    </tr>\n",
       "  </thead>\n",
       "  <tbody>\n",
       "    <tr>\n",
       "      <th>0</th>\n",
       "      <td>diagnosis</td>\n",
       "      <td>count</td>\n",
       "      <td>569.000000</td>\n",
       "    </tr>\n",
       "    <tr>\n",
       "      <th>1</th>\n",
       "      <td>diagnosis</td>\n",
       "      <td>mean</td>\n",
       "      <td>0.372583</td>\n",
       "    </tr>\n",
       "    <tr>\n",
       "      <th>2</th>\n",
       "      <td>diagnosis</td>\n",
       "      <td>standard deviation</td>\n",
       "      <td>0.483918</td>\n",
       "    </tr>\n",
       "    <tr>\n",
       "      <th>3</th>\n",
       "      <td>diagnosis</td>\n",
       "      <td>sample minimum</td>\n",
       "      <td>0.000000</td>\n",
       "    </tr>\n",
       "    <tr>\n",
       "      <th>4</th>\n",
       "      <td>diagnosis</td>\n",
       "      <td>lower quartile</td>\n",
       "      <td>0.000000</td>\n",
       "    </tr>\n",
       "    <tr>\n",
       "      <th>...</th>\n",
       "      <td>...</td>\n",
       "      <td>...</td>\n",
       "      <td>...</td>\n",
       "    </tr>\n",
       "    <tr>\n",
       "      <th>273</th>\n",
       "      <td>fractal_dimension_worst</td>\n",
       "      <td>lower quartile</td>\n",
       "      <td>0.071000</td>\n",
       "    </tr>\n",
       "    <tr>\n",
       "      <th>274</th>\n",
       "      <td>fractal_dimension_worst</td>\n",
       "      <td>median</td>\n",
       "      <td>0.080000</td>\n",
       "    </tr>\n",
       "    <tr>\n",
       "      <th>275</th>\n",
       "      <td>fractal_dimension_worst</td>\n",
       "      <td>upper quartile</td>\n",
       "      <td>0.092000</td>\n",
       "    </tr>\n",
       "    <tr>\n",
       "      <th>276</th>\n",
       "      <td>fractal_dimension_worst</td>\n",
       "      <td>sample maximum</td>\n",
       "      <td>0.208000</td>\n",
       "    </tr>\n",
       "    <tr>\n",
       "      <th>277</th>\n",
       "      <td>fractal_dimension_worst</td>\n",
       "      <td>skew</td>\n",
       "      <td>1.663000</td>\n",
       "    </tr>\n",
       "  </tbody>\n",
       "</table>\n",
       "<p>278 rows × 3 columns</p>\n",
       "</div>"
      ],
      "text/plain": [
       "                      Column              Metric       Value\n",
       "0                  diagnosis               count  569.000000\n",
       "1                  diagnosis                mean    0.372583\n",
       "2                  diagnosis  standard deviation    0.483918\n",
       "3                  diagnosis      sample minimum    0.000000\n",
       "4                  diagnosis      lower quartile    0.000000\n",
       "..                       ...                 ...         ...\n",
       "273  fractal_dimension_worst      lower quartile    0.071000\n",
       "274  fractal_dimension_worst              median    0.080000\n",
       "275  fractal_dimension_worst      upper quartile    0.092000\n",
       "276  fractal_dimension_worst      sample maximum    0.208000\n",
       "277  fractal_dimension_worst                skew    1.663000\n",
       "\n",
       "[278 rows x 3 columns]"
      ]
     },
     "execution_count": 16,
     "metadata": {},
     "output_type": "execute_result"
    }
   ],
   "source": [
    "breastcancer_encoded.ads.feature_stat()"
   ]
  },
  {
   "cell_type": "markdown",
   "id": "7e136fec",
   "metadata": {},
   "source": [
    "# Correlation\n",
    "\n",
    "Generally, a data scientist wants to make a model as parsimonious as possible. This often involves determining what features are highly correlated and removing some of them. While some models such as decision trees are not sensitive to correlated variables, other ones such as ordinary least squares regression are. You may also want to remove correlated variables at it reduces the cost of collecting and processing the data.\n",
    "\n",
    "The EDA features in ADS speed up your analysis by providing methods to compute different types of correlations. There are several different correlation techniques provided as they have different use cases. Further, there are two sets of methods. One method returns a dataframe with the correlation information and it has a partner method that generates a plot.\n",
    "\n",
    "What correlation technique you use depends on the type of data that you are working with. When using these correlation techniques you will need to slice your dataframe so that only the appropriate feature types are used in the calculation."
   ]
  },
  {
   "cell_type": "code",
   "execution_count": 17,
   "id": "78411927",
   "metadata": {},
   "outputs": [
    {
     "data": {
      "text/plain": [
       "<AxesSubplot:title={'center':\"Pearson's Correlation\"}>"
      ]
     },
     "execution_count": 17,
     "metadata": {},
     "output_type": "execute_result"
    },
    {
     "data": {
      "image/png": "[encoded data removed]",
      "text/plain": [
       "<Figure size 640x480 with 2 Axes>"
      ]
     },
     "metadata": {},
     "output_type": "display_data"
    }
   ],
   "source": [
    "breastcancer_encoded.ads.pearson_plot()"
   ]
  },
  {
   "cell_type": "markdown",
   "id": "83d6369b",
   "metadata": {},
   "source": [
    "ADS offers a smart visualization tool that automatically detects the type of your data columns and offers the best way to plot your data. You can also create custom visualizations with ADS by using your preferred plotting libraries and packages. The correlation plot gives an idea on totally correlated pairwise attributes. Highly correlated attributes contribute less to decision making. So it is better to avoid those attributes. So the tranformed dataset ensures that such attributes are avoided. The drop column feature drops those columns which are correlated. Show_in_notebook() shows these correlations in the form of heatmaps. "
   ]
  },
  {
   "cell_type": "markdown",
   "id": "e40e3395",
   "metadata": {},
   "source": [
    "The ADS show_in_notebook() method creates a comprehensive preview of all the basic information about a dataset including:\n",
    "\n",
    "a. The predictive data type (for example, regression, binary classification, or multinomial classification).\n",
    "\n",
    "b. The number of columns and rows.\n",
    "\n",
    "c. Feature type information.\n",
    "\n",
    "d. Summary visualization of each feature.\n",
    "\n",
    "e. The correlation map.\n",
    "\n",
    "f. Any warnings about data conditions that you should be aware of.\n",
    "\n",
    "To improve plotting performance, the ADS show_in_notebook() method uses an optimized subset of the data. This smart sample is selected so that it is statistically representative of the full dataset. The correlation map is only displayed when the data only has numerical (continuous or oridinal) columns."
   ]
  },
  {
   "cell_type": "code",
   "execution_count": 18,
   "id": "603b1ba8",
   "metadata": {},
   "outputs": [
    {
     "data": {
      "application/vnd.jupyter.widget-view+json": {
       "model_id": "511d83ddd5ce4c76bd35bfc844a066f7",
       "version_major": 2,
       "version_minor": 0
      },
      "text/plain": [
       "Accordion(children=(HTML(value='<h1>Name: DataFrame from bc.csv</h1><h3>Type: ADSDataset</h3><h3>569 Rows, 33 …"
      ]
     },
     "metadata": {},
     "output_type": "display_data"
    }
   ],
   "source": [
    "breastcancer.show_in_notebook()"
   ]
  },
  {
   "cell_type": "markdown",
   "id": "f41c4cfe",
   "metadata": {},
   "source": [
    "## Automated Transformations\n",
    "ADS has built in automatic transform tools for datasets. When the get_recommendations() tool is applied to an ADSDataset object, it shows the user detected issues with the data and recommends changes to apply to the dataset. You can accept the changes is as easy as clicking a button in the drop down menu. After all the changes are applied, the transformed dataset can be retrieved by calling get_transformed_dataset().\n",
    "We first open the datasets available in sklearn DatasetBrowser. sklearn has a list of 5 datasets. Breast-cancer, wine, diabetes, iris,digits datasets"
   ]
  },
  {
   "cell_type": "code",
   "execution_count": 19,
   "id": "11cdad75",
   "metadata": {},
   "outputs": [
    {
     "data": {
      "application/vnd.jupyter.widget-view+json": {
       "model_id": "",
       "version_major": 2,
       "version_minor": 0
      },
      "text/plain": [
       "loop1:   0%|          | 0/4 [00:00<?, ?it/s]"
      ]
     },
     "metadata": {},
     "output_type": "display_data"
    },
    {
     "data": {
      "text/plain": [
       "['breast_cancer', 'diabetes', 'iris', 'wine', 'digits']"
      ]
     },
     "execution_count": 19,
     "metadata": {},
     "output_type": "execute_result"
    }
   ],
   "source": [
    "sklearn = DatasetBrowser.sklearn()\n",
    "bc = sklearn.open('breast_cancer')\n",
    "sklearn.list()"
   ]
  },
  {
   "cell_type": "code",
   "execution_count": 20,
   "id": "fca6e5d2",
   "metadata": {},
   "outputs": [
    {
     "data": {
      "application/vnd.jupyter.widget-view+json": {
       "model_id": "8c5ec0aa68e54a21bd60dcdb59e4b96e",
       "version_major": 2,
       "version_minor": 0
      },
      "text/plain": [
       "Output()"
      ]
     },
     "metadata": {},
     "output_type": "display_data"
    },
    {
     "data": {
      "text/html": [],
      "text/plain": [
       "<ads.dataset.recommendation.Recommendation at 0x7fe807736f10>"
      ]
     },
     "execution_count": 20,
     "metadata": {},
     "output_type": "execute_result"
    }
   ],
   "source": [
    "bc.get_recommendations()"
   ]
  },
  {
   "cell_type": "code",
   "execution_count": 21,
   "id": "2d67b838",
   "metadata": {},
   "outputs": [
    {
     "data": {
      "text/html": [
       "\n",
       "        <style>\n",
       "            .mostly-customized-scrollbar {\n",
       "              display: block;\n",
       "              width: 100%;\n",
       "              overflow: auto;\n",
       "            }\n",
       "\n",
       "            .mostly-customized-scrollbar::-webkit-scrollbar {\n",
       "              width: 5px;\n",
       "              height: 8px;\n",
       "              background-color: #aaa;\n",
       "            }\n",
       "\n",
       "            .mostly-customized-scrollbar::-webkit-scrollbar-thumb {\n",
       "                background: #000;\n",
       "                border-radius: 10px;\n",
       "            }\n",
       "        </style>\n",
       "\n",
       "        <div style=\"width=100%; display: flex; flex-wrap: nowrap; overflow-x: auto;\">\n",
       "            <div class=\"mostly-customized-scrollbar\">\n",
       "                <style type=\"text/css\">\n",
       "#T_2fbbb_ tbody tr:nth-child(even) {\n",
       "  background-color: #F8F8F8;\n",
       "}\n",
       "#T_2fbbb_ tbody tr:hover {\n",
       "  background-color: #D9EDFD;\n",
       "}\n",
       "#T_2fbbb_ th {\n",
       "  font-size: 12px;\n",
       "  text-align: center;\n",
       "  font-weight: bold;\n",
       "  background-color: #D3D3D3;\n",
       "  padding-left: 5px;\n",
       "  padding-right: 5px;\n",
       "  text-align: right;\n",
       "}\n",
       "#T_2fbbb_ td {\n",
       "  font-size: 12px;\n",
       "  text_wrap: False;\n",
       "  white-space: nowrap;\n",
       "  overflow: hidden;\n",
       "  text-overflow: ellipsis;\n",
       "  max-width: 75px;\n",
       "}\n",
       "</style>\n",
       "<table id=\"T_2fbbb_\" class=table>\n",
       "  <thead>\n",
       "    <tr>\n",
       "      <th class=\"col_heading level0 col0\" >target</th>\n",
       "      <th class=\"col_heading level0 col1\" >worst_concave_points</th>\n",
       "      <th class=\"col_heading level0 col2\" >worst_perimeter</th>\n",
       "      <th class=\"col_heading level0 col3\" >mean_concave_points</th>\n",
       "      <th class=\"col_heading level0 col4\" >worst_radius</th>\n",
       "      <th class=\"col_heading level0 col5\" >mean_perimeter</th>\n",
       "      <th class=\"col_heading level0 col6\" >worst_area</th>\n",
       "      <th class=\"col_heading level0 col7\" >mean_radius</th>\n",
       "      <th class=\"col_heading level0 col8\" >mean_area</th>\n",
       "      <th class=\"col_heading level0 col9\" >mean_concavity</th>\n",
       "      <th class=\"col_heading level0 col10\" >worst_concavity</th>\n",
       "      <th class=\"col_heading level0 col11\" >mean_compactness</th>\n",
       "      <th class=\"col_heading level0 col12\" >worst_compactness</th>\n",
       "    </tr>\n",
       "  </thead>\n",
       "  <tbody>\n",
       "    <tr>\n",
       "      <td id=\"T_2fbbb_row0_col0\" class=\"data row0 col0\" >malignant</td>\n",
       "      <td id=\"T_2fbbb_row0_col1\" class=\"data row0 col1\" >0.265400</td>\n",
       "      <td id=\"T_2fbbb_row0_col2\" class=\"data row0 col2\" >184.600000</td>\n",
       "      <td id=\"T_2fbbb_row0_col3\" class=\"data row0 col3\" >0.147100</td>\n",
       "      <td id=\"T_2fbbb_row0_col4\" class=\"data row0 col4\" >25.380000</td>\n",
       "      <td id=\"T_2fbbb_row0_col5\" class=\"data row0 col5\" >122.800000</td>\n",
       "      <td id=\"T_2fbbb_row0_col6\" class=\"data row0 col6\" >2019.000000</td>\n",
       "      <td id=\"T_2fbbb_row0_col7\" class=\"data row0 col7\" >17.990000</td>\n",
       "      <td id=\"T_2fbbb_row0_col8\" class=\"data row0 col8\" >1001.000000</td>\n",
       "      <td id=\"T_2fbbb_row0_col9\" class=\"data row0 col9\" >0.300100</td>\n",
       "      <td id=\"T_2fbbb_row0_col10\" class=\"data row0 col10\" >0.711900</td>\n",
       "      <td id=\"T_2fbbb_row0_col11\" class=\"data row0 col11\" >0.277600</td>\n",
       "      <td id=\"T_2fbbb_row0_col12\" class=\"data row0 col12\" >0.665600</td>\n",
       "    </tr>\n",
       "    <tr>\n",
       "      <td id=\"T_2fbbb_row1_col0\" class=\"data row1 col0\" >malignant</td>\n",
       "      <td id=\"T_2fbbb_row1_col1\" class=\"data row1 col1\" >0.186000</td>\n",
       "      <td id=\"T_2fbbb_row1_col2\" class=\"data row1 col2\" >158.800000</td>\n",
       "      <td id=\"T_2fbbb_row1_col3\" class=\"data row1 col3\" >0.070170</td>\n",
       "      <td id=\"T_2fbbb_row1_col4\" class=\"data row1 col4\" >24.990000</td>\n",
       "      <td id=\"T_2fbbb_row1_col5\" class=\"data row1 col5\" >132.900000</td>\n",
       "      <td id=\"T_2fbbb_row1_col6\" class=\"data row1 col6\" >1956.000000</td>\n",
       "      <td id=\"T_2fbbb_row1_col7\" class=\"data row1 col7\" >20.570000</td>\n",
       "      <td id=\"T_2fbbb_row1_col8\" class=\"data row1 col8\" >1326.000000</td>\n",
       "      <td id=\"T_2fbbb_row1_col9\" class=\"data row1 col9\" >0.086900</td>\n",
       "      <td id=\"T_2fbbb_row1_col10\" class=\"data row1 col10\" >0.241600</td>\n",
       "      <td id=\"T_2fbbb_row1_col11\" class=\"data row1 col11\" >0.078640</td>\n",
       "      <td id=\"T_2fbbb_row1_col12\" class=\"data row1 col12\" >0.186600</td>\n",
       "    </tr>\n",
       "    <tr>\n",
       "      <td id=\"T_2fbbb_row2_col0\" class=\"data row2 col0\" >malignant</td>\n",
       "      <td id=\"T_2fbbb_row2_col1\" class=\"data row2 col1\" >0.243000</td>\n",
       "      <td id=\"T_2fbbb_row2_col2\" class=\"data row2 col2\" >152.500000</td>\n",
       "      <td id=\"T_2fbbb_row2_col3\" class=\"data row2 col3\" >0.127900</td>\n",
       "      <td id=\"T_2fbbb_row2_col4\" class=\"data row2 col4\" >23.570000</td>\n",
       "      <td id=\"T_2fbbb_row2_col5\" class=\"data row2 col5\" >130.000000</td>\n",
       "      <td id=\"T_2fbbb_row2_col6\" class=\"data row2 col6\" >1709.000000</td>\n",
       "      <td id=\"T_2fbbb_row2_col7\" class=\"data row2 col7\" >19.690000</td>\n",
       "      <td id=\"T_2fbbb_row2_col8\" class=\"data row2 col8\" >1203.000000</td>\n",
       "      <td id=\"T_2fbbb_row2_col9\" class=\"data row2 col9\" >0.197400</td>\n",
       "      <td id=\"T_2fbbb_row2_col10\" class=\"data row2 col10\" >0.450400</td>\n",
       "      <td id=\"T_2fbbb_row2_col11\" class=\"data row2 col11\" >0.159900</td>\n",
       "      <td id=\"T_2fbbb_row2_col12\" class=\"data row2 col12\" >0.424500</td>\n",
       "    </tr>\n",
       "    <tr>\n",
       "      <td id=\"T_2fbbb_row3_col0\" class=\"data row3 col0\" >malignant</td>\n",
       "      <td id=\"T_2fbbb_row3_col1\" class=\"data row3 col1\" >0.257500</td>\n",
       "      <td id=\"T_2fbbb_row3_col2\" class=\"data row3 col2\" >98.870000</td>\n",
       "      <td id=\"T_2fbbb_row3_col3\" class=\"data row3 col3\" >0.105200</td>\n",
       "      <td id=\"T_2fbbb_row3_col4\" class=\"data row3 col4\" >14.910000</td>\n",
       "      <td id=\"T_2fbbb_row3_col5\" class=\"data row3 col5\" >77.580000</td>\n",
       "      <td id=\"T_2fbbb_row3_col6\" class=\"data row3 col6\" >567.700000</td>\n",
       "      <td id=\"T_2fbbb_row3_col7\" class=\"data row3 col7\" >11.420000</td>\n",
       "      <td id=\"T_2fbbb_row3_col8\" class=\"data row3 col8\" >386.100000</td>\n",
       "      <td id=\"T_2fbbb_row3_col9\" class=\"data row3 col9\" >0.241400</td>\n",
       "      <td id=\"T_2fbbb_row3_col10\" class=\"data row3 col10\" >0.686900</td>\n",
       "      <td id=\"T_2fbbb_row3_col11\" class=\"data row3 col11\" >0.283900</td>\n",
       "      <td id=\"T_2fbbb_row3_col12\" class=\"data row3 col12\" >0.866300</td>\n",
       "    </tr>\n",
       "    <tr>\n",
       "      <td id=\"T_2fbbb_row4_col0\" class=\"data row4 col0\" >malignant</td>\n",
       "      <td id=\"T_2fbbb_row4_col1\" class=\"data row4 col1\" >0.162500</td>\n",
       "      <td id=\"T_2fbbb_row4_col2\" class=\"data row4 col2\" >152.200000</td>\n",
       "      <td id=\"T_2fbbb_row4_col3\" class=\"data row4 col3\" >0.104300</td>\n",
       "      <td id=\"T_2fbbb_row4_col4\" class=\"data row4 col4\" >22.540000</td>\n",
       "      <td id=\"T_2fbbb_row4_col5\" class=\"data row4 col5\" >135.100000</td>\n",
       "      <td id=\"T_2fbbb_row4_col6\" class=\"data row4 col6\" >1575.000000</td>\n",
       "      <td id=\"T_2fbbb_row4_col7\" class=\"data row4 col7\" >20.290000</td>\n",
       "      <td id=\"T_2fbbb_row4_col8\" class=\"data row4 col8\" >1297.000000</td>\n",
       "      <td id=\"T_2fbbb_row4_col9\" class=\"data row4 col9\" >0.198000</td>\n",
       "      <td id=\"T_2fbbb_row4_col10\" class=\"data row4 col10\" >0.400000</td>\n",
       "      <td id=\"T_2fbbb_row4_col11\" class=\"data row4 col11\" >0.132800</td>\n",
       "      <td id=\"T_2fbbb_row4_col12\" class=\"data row4 col12\" >0.205000</td>\n",
       "    </tr>\n",
       "  </tbody>\n",
       "</table>\n",
       "\n",
       "            </div>\n",
       "        </div>\n",
       "    "
      ],
      "text/plain": [
       "<IPython.core.display.HTML object>"
      ]
     },
     "metadata": {},
     "output_type": "display_data"
    },
    {
     "data": {
      "text/plain": [
       "BinaryClassificationDataset(target: target) 569 rows, 13 columns"
      ]
     },
     "execution_count": 21,
     "metadata": {},
     "output_type": "execute_result"
    }
   ],
   "source": [
    "bc.select_best_features()"
   ]
  },
  {
   "cell_type": "markdown",
   "id": "5351458e",
   "metadata": {},
   "source": [
    "The 'select_best_features' automatically retains the best features. "
   ]
  },
  {
   "cell_type": "markdown",
   "id": "7b265041",
   "metadata": {},
   "source": [
    "Alternatively, you can use auto_transform() to apply all the recommended transformations at once. auto_transform() returns a transformed dataset with several optimizations applied automatically. The optimizations include:\n",
    "\n",
    "1. Dropping constant and primary key columns, which has no predictive quality.\n",
    "\n",
    "2. Imputation to fill in missing values in noisy data.\n",
    "\n",
    "3. Dropping strongly co-correlated columns that tend to produce less generalizable models.\n",
    "\n",
    "4. Balancing a dataset using up or down sampling. "
   ]
  },
  {
   "cell_type": "code",
   "execution_count": 22,
   "id": "f3ea028b",
   "metadata": {},
   "outputs": [
    {
     "data": {
      "application/vnd.jupyter.widget-view+json": {
       "model_id": "",
       "version_major": 2,
       "version_minor": 0
      },
      "text/plain": [
       "loop1:   0%|          | 0/7 [00:00<?, ?it/s]"
      ]
     },
     "metadata": {},
     "output_type": "display_data"
    }
   ],
   "source": [
    "bc1 = bc.auto_transform()"
   ]
  },
  {
   "cell_type": "markdown",
   "id": "2d33b231",
   "metadata": {},
   "source": [
    "You can visualize the transformation that has been performed on a dataset by calling visualize_transforms()"
   ]
  },
  {
   "cell_type": "code",
   "execution_count": 23,
   "id": "56bc4dae",
   "metadata": {},
   "outputs": [
    {
     "data": {
      "image/svg+xml": [
       "<svg xmlns=\"http://www.w3.org/2000/svg\" xmlns:xlink=\"http://www.w3.org/1999/xlink\" width=\"380pt\" height=\"610pt\" viewBox=\"0.00 0.00 380.00 610.00\">\n",
       "<g id=\"graph0\" class=\"graph\" transform=\"scale(1 1) rotate(0) translate(4 606)\">\n",
       "<title>%3</title>\n",
       "<polygon fill=\"white\" stroke=\"white\" points=\"-4,5 -4,-606 377,-606 377,5 -4,5\"/>\n",
       "<!-- partitions -->\n",
       "<g id=\"node1\" class=\"node\"><title>partitions</title>\n",
       "<polygon fill=\"dimgray\" stroke=\"black\" points=\"134,-602 12,-602 12,-606 0,-606 0,-540 134,-540 134,-602\"/>\n",
       "<polyline fill=\"none\" stroke=\"black\" points=\"0,-602 12,-602 \"/>\n",
       "<text text-anchor=\"start\" x=\"18\" y=\"-574.4\" font-family=\"Courier,monospace\" font-size=\"12.00\" fill=\"white\">- rows: 569</text>\n",
       "<text text-anchor=\"start\" x=\"18\" y=\"-561.4\" font-family=\"Courier,monospace\" font-size=\"12.00\" fill=\"white\">- columns: 13</text>\n",
       "</g>\n",
       "<!-- prepare -->\n",
       "<g id=\"node2\" class=\"node\"><title>prepare</title>\n",
       "<polygon fill=\"azure\" stroke=\"black\" points=\"211.25,-589 152.75,-589 152.75,-585 148.75,-585 148.75,-581 152.75,-581 152.75,-561 148.75,-561 148.75,-557 152.75,-557 152.75,-553 211.25,-553 211.25,-589\"/>\n",
       "<polyline fill=\"none\" stroke=\"black\" points=\"152.75,-585 156.75,-585 156.75,-581 152.75,-581 \"/>\n",
       "<polyline fill=\"none\" stroke=\"black\" points=\"152.75,-561 156.75,-561 156.75,-557 152.75,-557 \"/>\n",
       "<text text-anchor=\"middle\" x=\"182\" y=\"-568.5\" font-family=\"Courier,monospace\" font-size=\"10.00\">prepare</text>\n",
       "</g>\n",
       "<!-- type_discovery -->\n",
       "<g id=\"node3\" class=\"node\"><title>type_discovery</title>\n",
       "<polygon fill=\"azure\" stroke=\"black\" points=\"232.25,-492 131.75,-492 131.75,-488 127.75,-488 127.75,-484 131.75,-484 131.75,-464 127.75,-464 127.75,-460 131.75,-460 131.75,-456 232.25,-456 232.25,-492\"/>\n",
       "<polyline fill=\"none\" stroke=\"black\" points=\"131.75,-488 135.75,-488 135.75,-484 131.75,-484 \"/>\n",
       "<polyline fill=\"none\" stroke=\"black\" points=\"131.75,-464 135.75,-464 135.75,-460 131.75,-460 \"/>\n",
       "<text text-anchor=\"middle\" x=\"182\" y=\"-471.5\" font-family=\"Courier,monospace\" font-size=\"10.00\">type_discovery</text>\n",
       "</g>\n",
       "<!-- prepare&#45;&gt;type_discovery -->\n",
       "<g id=\"edge1\" class=\"edge\"><title>prepare-&gt;type_discovery</title>\n",
       "<path fill=\"none\" stroke=\"black\" d=\"M182,-552.576C182,-538.648 182,-518.861 182,-502.757\"/>\n",
       "<polygon fill=\"black\" stroke=\"black\" points=\"185.5,-502.314 182,-492.314 178.5,-502.314 185.5,-502.314\"/>\n",
       "<text text-anchor=\"start\" x=\"182.5\" y=\"-514.5\" font-family=\"Courier,monospace\" font-size=\"10.00\"> </text>\n",
       "<text text-anchor=\"start\" x=\"189.5\" y=\"-514.5\" font-family=\"Courier,monospace\" font-weight=\"bold\" font-size=\"10.00\">fix_column_names</text>\n",
       "<text text-anchor=\"start\" x=\"280.5\" y=\"-514.5\" font-family=\"Courier,monospace\" font-size=\"10.00\"> </text>\n",
       "</g>\n",
       "<!-- recommendations -->\n",
       "<g id=\"node4\" class=\"node\"><title>recommendations</title>\n",
       "<polygon fill=\"#eec900\" stroke=\"black\" points=\"294,-407.5 70,-407.5 70,-403.5 66,-403.5 66,-399.5 70,-399.5 70,-188.5 66,-188.5 66,-184.5 70,-184.5 70,-180.5 294,-180.5 294,-407.5\"/>\n",
       "<polyline fill=\"none\" stroke=\"black\" points=\"70,-403.5 74,-403.5 74,-399.5 70,-399.5 \"/>\n",
       "<polyline fill=\"none\" stroke=\"black\" points=\"70,-188.5 74,-188.5 74,-184.5 70,-184.5 \"/>\n",
       "<text text-anchor=\"start\" x=\"121.5\" y=\"-382.5\" font-family=\"Courier,monospace\" font-size=\"10.00\"> Drop: &quot;mean_radius&quot;</text>\n",
       "<text text-anchor=\"start\" x=\"121.5\" y=\"-372.5\" font-family=\"Courier,monospace\" font-size=\"10.00\">Drop: &quot;mean_texture&quot;</text>\n",
       "<text text-anchor=\"start\" x=\"115.5\" y=\"-362.5\" font-family=\"Courier,monospace\" font-size=\"10.00\">Drop: &quot;mean_perimeter&quot;</text>\n",
       "<text text-anchor=\"start\" x=\"130.5\" y=\"-352.5\" font-family=\"Courier,monospace\" font-size=\"10.00\">Drop: &quot;mean_area&quot;</text>\n",
       "<text text-anchor=\"start\" x=\"112.5\" y=\"-342.5\" font-family=\"Courier,monospace\" font-size=\"10.00\">Drop: &quot;mean_smoothness&quot;</text>\n",
       "<text text-anchor=\"start\" x=\"109.5\" y=\"-332.5\" font-family=\"Courier,monospace\" font-size=\"10.00\">Drop: &quot;mean_compactness&quot;</text>\n",
       "<text text-anchor=\"start\" x=\"115.5\" y=\"-322.5\" font-family=\"Courier,monospace\" font-size=\"10.00\">Drop: &quot;mean_concavity&quot;</text>\n",
       "<text text-anchor=\"start\" x=\"100.5\" y=\"-312.5\" font-family=\"Courier,monospace\" font-size=\"10.00\">Drop: &quot;mean_concave_points&quot;</text>\n",
       "<text text-anchor=\"start\" x=\"91.5\" y=\"-302.5\" font-family=\"Courier,monospace\" font-size=\"10.00\">Drop: &quot;mean_fractal_dimension&quot;</text>\n",
       "<text text-anchor=\"start\" x=\"121.5\" y=\"-292.5\" font-family=\"Courier,monospace\" font-size=\"10.00\">Drop: &quot;radius_error&quot;</text>\n",
       "<text text-anchor=\"start\" x=\"112.5\" y=\"-282.5\" font-family=\"Courier,monospace\" font-size=\"10.00\">Drop: &quot;perimeter_error&quot;</text>\n",
       "<text text-anchor=\"start\" x=\"127.5\" y=\"-272.5\" font-family=\"Courier,monospace\" font-size=\"10.00\">Drop: &quot;area_error&quot;</text>\n",
       "<text text-anchor=\"start\" x=\"88.5\" y=\"-262.5\" font-family=\"Courier,monospace\" font-size=\"10.00\">Drop: &quot;fractal_dimension_error&quot;</text>\n",
       "<text text-anchor=\"start\" x=\"88.5\" y=\"-252.5\" font-family=\"Courier,monospace\" font-size=\"10.00\">Drop: &quot;fractal_dimension_error&quot;</text>\n",
       "<text text-anchor=\"start\" x=\"121.5\" y=\"-242.5\" font-family=\"Courier,monospace\" font-size=\"10.00\">Drop: &quot;worst_radius&quot;</text>\n",
       "<text text-anchor=\"start\" x=\"112.5\" y=\"-232.5\" font-family=\"Courier,monospace\" font-size=\"10.00\">Drop: &quot;worst_perimeter&quot;</text>\n",
       "<text text-anchor=\"start\" x=\"127.5\" y=\"-222.5\" font-family=\"Courier,monospace\" font-size=\"10.00\">Drop: &quot;worst_area&quot;</text>\n",
       "<text text-anchor=\"start\" x=\"88.5\" y=\"-212.5\" font-family=\"Courier,monospace\" font-size=\"10.00\">Drop: &quot;worst_fractal_dimension&quot;</text>\n",
       "<text text-anchor=\"start\" x=\"109.5\" y=\"-202.5\" font-family=\"Courier,monospace\" font-size=\"10.00\">Drop: &quot;worst_concavity&quot; </text>\n",
       "</g>\n",
       "<!-- type_discovery&#45;&gt;recommendations -->\n",
       "<g id=\"edge2\" class=\"edge\"><title>type_discovery-&gt;recommendations</title>\n",
       "<path fill=\"none\" stroke=\"black\" d=\"M182,-455.933C182,-446.011 182,-432.527 182,-417.559\"/>\n",
       "<polygon fill=\"black\" stroke=\"black\" points=\"185.5,-417.531 182,-407.531 178.5,-417.531 185.5,-417.531\"/>\n",
       "<text text-anchor=\"start\" x=\"182.5\" y=\"-430.5\" font-family=\"Courier,monospace\" font-size=\"10.00\"> </text>\n",
       "<text text-anchor=\"start\" x=\"189.5\" y=\"-430.5\" font-family=\"Courier,monospace\" font-weight=\"bold\" font-size=\"10.00\">convert_columns</text>\n",
       "<text text-anchor=\"start\" x=\"280.5\" y=\"-430.5\" font-family=\"Courier,monospace\" font-size=\"10.00\"> </text>\n",
       "</g>\n",
       "<!-- feature_engineering -->\n",
       "<g id=\"node5\" class=\"node\"><title>feature_engineering</title>\n",
       "<polygon fill=\"#eec900\" stroke=\"black\" points=\"321,-131.5 43,-131.5 43,-127.5 39,-127.5 39,-123.5 43,-123.5 43,-92.5 39,-92.5 39,-88.5 43,-88.5 43,-84.5 321,-84.5 321,-131.5\"/>\n",
       "<polyline fill=\"none\" stroke=\"black\" points=\"43,-127.5 47,-127.5 47,-123.5 43,-123.5 \"/>\n",
       "<polyline fill=\"none\" stroke=\"black\" points=\"43,-92.5 47,-92.5 47,-88.5 43,-88.5 \"/>\n",
       "<text text-anchor=\"start\" x=\"61.5\" y=\"-106.5\" font-family=\"Courier,monospace\" font-size=\"10.00\"> No feature engineering transformations </text>\n",
       "</g>\n",
       "<!-- recommendations&#45;&gt;feature_engineering -->\n",
       "<g id=\"edge3\" class=\"edge\"><title>recommendations-&gt;feature_engineering</title>\n",
       "<path fill=\"none\" stroke=\"black\" d=\"M182,-180.403C182,-166.381 182,-153.033 182,-141.753\"/>\n",
       "<polygon fill=\"black\" stroke=\"black\" points=\"185.5,-141.617 182,-131.617 178.5,-141.617 185.5,-141.617\"/>\n",
       "<text text-anchor=\"start\" x=\"182.5\" y=\"-154.5\" font-family=\"Courier,monospace\" font-size=\"10.00\"> </text>\n",
       "<text text-anchor=\"start\" x=\"189.5\" y=\"-154.5\" font-family=\"Courier,monospace\" font-weight=\"bold\" font-size=\"10.00\">RecommendationTransformer</text>\n",
       "<text text-anchor=\"start\" x=\"340.5\" y=\"-154.5\" font-family=\"Courier,monospace\" font-size=\"10.00\"> </text>\n",
       "</g>\n",
       "<!-- terminus -->\n",
       "<g id=\"node6\" class=\"node\"><title>terminus</title>\n",
       "<polygon fill=\"white\" stroke=\"black\" points=\"185,-18 185,-24 191,-24 191,-30 173,-30 173,-24 179,-24 179,-18 185,-18\"/>\n",
       "<polyline fill=\"none\" stroke=\"black\" points=\"155,-18 209,-18 \"/>\n",
       "</g>\n",
       "<!-- feature_engineering&#45;&gt;terminus -->\n",
       "<g id=\"edge4\" class=\"edge\"><title>feature_engineering-&gt;terminus</title>\n",
       "<path fill=\"none\" stroke=\"black\" d=\"M182,-84.3378C182,-72.6791 182,-58.3831 182,-46.1394\"/>\n",
       "<polygon fill=\"black\" stroke=\"black\" points=\"185.5,-46.0259 182,-36.026 178.5,-46.026 185.5,-46.0259\"/>\n",
       "<text text-anchor=\"start\" x=\"182.5\" y=\"-58.5\" font-family=\"Courier,monospace\" font-size=\"10.00\"> </text>\n",
       "<text text-anchor=\"start\" x=\"189.5\" y=\"-58.5\" font-family=\"Courier,monospace\" font-weight=\"bold\" font-size=\"10.00\">FeatureEngineeringTransformer</text>\n",
       "<text text-anchor=\"start\" x=\"364.5\" y=\"-58.5\" font-family=\"Courier,monospace\" font-size=\"10.00\"> </text>\n",
       "</g>\n",
       "</g>\n",
       "</svg>"
      ],
      "text/plain": [
       "<IPython.core.display.SVG object>"
      ]
     },
     "metadata": {},
     "output_type": "display_data"
    }
   ],
   "source": [
    "bc1.visualize_transforms()"
   ]
  },
  {
   "cell_type": "markdown",
   "id": "4f0e9af7",
   "metadata": {},
   "source": [
    "Breast cancer data was initially loaded as a csv file. It was examined for the prospective data preprocessing steps. Later the breast cancer dataset as part of sklearn was taken and the auto-transform features of ADS was applied on it. The data preprocessing step which is time consuming is completed automated using the rich features of ADS"
   ]
  },
  {
   "cell_type": "code",
   "execution_count": null,
   "id": "18faf4fd",
   "metadata": {},
   "outputs": [],
   "source": []
  }
 ],
 "metadata": {
  "kernelspec": {
   "display_name": "Python [conda env:data-science-gmlv1_0_v1]",
   "language": "python",
   "name": "conda-env-data-science-gmlv1_0_v1-py"
  },
  "language_info": {
   "codemirror_mode": {
    "name": "ipython",
    "version": 3
   },
   "file_extension": ".py",
   "mimetype": "text/x-python",
   "name": "python",
   "nbconvert_exporter": "python",
   "pygments_lexer": "ipython3",
   "version": "3.8.13"
  }
 },
 "nbformat": 4,
 "nbformat_minor": 5
}
