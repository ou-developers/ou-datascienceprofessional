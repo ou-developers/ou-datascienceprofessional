{
 "cells": [
  {
   "cell_type": "markdown",
   "id": "ca87995a",
   "metadata": {},
   "source": [
    "***\n",
    "# <font>OCI AI Speech </font>\n",
    "<p style=\"margin-left:10%; margin-right:10%;\"> <font color=teal> </font></p>\n",
    "\n",
    "***"
   ]
  },
  {
   "cell_type": "markdown",
   "id": "15913587",
   "metadata": {},
   "source": [
    "Oracle Cloud Infrastructure (OCI) Speech is an AI service that applies ASR (Automatic Speech Recognition) technology to transform audio-based content to text. Developers can easily make API calls to integrate OCI Speech’s pretrained models into their applications. OCI Speech can be used for accurate, text-normalized, time-stamped transcription via the Console and REST APIs as well as CLI or SDKs. You can also use OCI Speech in a Data Science notebook session."
   ]
  },
  {
   "cell_type": "markdown",
   "id": "a10dd1b0",
   "metadata": {},
   "source": [
    "Please select the  published conda envionment data-science-gmlv1_0_v1 before proceeding further. "
   ]
  },
  {
   "cell_type": "code",
   "execution_count": 1,
   "id": "63dcfced",
   "metadata": {},
   "outputs": [],
   "source": [
    "import io\n",
    "import warnings\n",
    "import logging\n",
    "import os\n",
    "from os import path \n",
    "from os.path import expanduser\n",
    "from os.path import join\n",
    "\n",
    "import oci\n",
    "\n",
    "import ads \n",
    "ads.set_auth(auth='resource_principal') \n",
    "\n",
    "warnings.filterwarnings('ignore')\n",
    "logging.basicConfig(format='%(levelname)s:%(message)s', level=logging.ERROR)"
   ]
  },
  {
   "cell_type": "code",
   "execution_count": 2,
   "id": "a58c821a",
   "metadata": {},
   "outputs": [
    {
     "name": "stdout",
     "output_type": "stream",
     "text": [
      "\n",
      "\n",
      "  O  o-o   o-o\n",
      " / \\ |  \\ |\n",
      "o---o|   O o-o\n",
      "|   ||  /     |\n",
      "o   oo-o  o--o\n",
      "\n",
      "ads v2.8.11\n",
      "oci v2.114.0\n",
      "ocifs v1.1.3\n",
      "\n",
      "\n"
     ]
    }
   ],
   "source": [
    "# ADS version used in this notebook: \n",
    "ads.hello()"
   ]
  },
  {
   "cell_type": "code",
   "execution_count": 3,
   "id": "701f9ad6",
   "metadata": {},
   "outputs": [],
   "source": [
    "# I am currently using a directory to pass config on runtime, though this is not a safe approach. Kinldy change this to config being called from a file (See cell above). \n",
    "# I didn't have necessary access permissions to create a ~/.oci/config file and write it.\n",
    "config = {\n",
    "    \"user\": \"ocid1.user.oc1..aaaaaaaajp44knbcz4bwojkczqtiqigjqc3zvekl3ovzwgquarkdbqog5xxa\",\n",
    "    \"key_file\": \"/home/datascience/api-priv-10-31.pem\",\n",
    "    \"fingerprint\": \"c6:cf:a1:76:67:91:b6:38:9f:4b:97:41:42:8d:a5:17\",\n",
    "    \"tenancy\": \"ocid1.tenancy.oc1..aaaaaaaawprhiv4vxq5vlj7f27kyidr675jdepem47s7mzfe6tfhxbpo74xq\",\n",
    "    \"region\": \"us-phoenix-1\"\n",
    "}\n",
    "\n",
    "from oci.config import validate_config\n",
    "validate_config(config)"
   ]
  },
  {
   "cell_type": "markdown",
   "id": "26457cfa",
   "metadata": {},
   "source": [
    "## We will create AI Language Client to call API."
   ]
  },
  {
   "cell_type": "code",
   "execution_count": 4,
   "id": "81e9b7f4",
   "metadata": {},
   "outputs": [],
   "source": [
    "ai_speech_client = oci.ai_speech.AIServiceSpeechClient(config)"
   ]
  },
  {
   "cell_type": "markdown",
   "id": "93d35194",
   "metadata": {},
   "source": [
    "## We will create a Transcription Job and Submit it.\n",
    "Repalce compartment id with your compartment id before executing the cell."
   ]
  },
  {
   "cell_type": "code",
   "execution_count": 5,
   "id": "602dc1c9",
   "metadata": {},
   "outputs": [],
   "source": [
    "create_transcription_job_response = ai_speech_client.create_transcription_job(\n",
    "    create_transcription_job_details=oci.ai_speech.models.CreateTranscriptionJobDetails(\n",
    "        compartment_id=\"ocid1.compartment.oc1..aaaaaaaabu6pgqbwe4are4ke7uzkq44rbvbnxwhybhmplialatq54kdvq4jq\",\n",
    "        input_location=oci.ai_speech.models.ObjectListInlineInputLocation(\n",
    "            location_type=\"OBJECT_LIST_INLINE_INPUT_LOCATION\",\n",
    "            object_locations=[oci.ai_speech.models.ObjectLocation(\n",
    "                namespace_name=\"ocuocictrng22\",\n",
    "                bucket_name=\"DSP-SPEECH\",\n",
    "                object_names=[\"real.mp3\",\"sample-2.mp3\"])]),\n",
    "            output_location=oci.ai_speech.models.OutputLocation(\n",
    "            namespace_name=\"ocuocictrng6\",\n",
    "            bucket_name=\"DSP-SPEECH\",\n",
    "            prefix=\"EXAMPLE-prefix-Value\"),\n",
    "        display_name=\"EXAMPLE-displayName-Value\",\n",
    "        description=\"EXAMPLE-description-Value\",\n",
    "        #additional_transcription_formats=[\"SRT\"],\n",
    "        model_details=oci.ai_speech.models.TranscriptionModelDetails(\n",
    "            domain=\"GENERIC\",\n",
    "            language_code=\"en-US\"),\n",
    "        )\n",
    "    )"
   ]
  },
  {
   "cell_type": "code",
   "execution_count": 6,
   "id": "317c75ea",
   "metadata": {},
   "outputs": [
    {
     "name": "stdout",
     "output_type": "stream",
     "text": [
      "{\n",
      "  \"additional_transcription_formats\": [],\n",
      "  \"compartment_id\": \"ocid1.compartment.oc1..aaaaaaaabu6pgqbwe4are4ke7uzkq44rbvbnxwhybhmplialatq54kdvq4jq\",\n",
      "  \"created_by\": \"ocid1.user.oc1..aaaaaaaajp44knbcz4bwojkczqtiqigjqc3zvekl3ovzwgquarkdbqog5xxa\",\n",
      "  \"defined_tags\": {\n",
      "    \"Oracle-Tags\": {\n",
      "      \"CreatedOn\": \"2023-11-09T12:00:47.968Z\"\n",
      "    }\n",
      "  },\n",
      "  \"description\": \"EXAMPLE-description-Value\",\n",
      "  \"display_name\": \"EXAMPLE-displayName-Value\",\n",
      "  \"freeform_tags\": {},\n",
      "  \"id\": \"ocid1.aispeechtranscriptionjob.oc1.phx.amaaaaaas5adu2iavgoumyfmk7zha6ybdic2ivw55ye647udjyb5j7z6ff6q\",\n",
      "  \"input_location\": {\n",
      "    \"location_type\": \"OBJECT_LIST_INLINE_INPUT_LOCATION\",\n",
      "    \"object_locations\": [\n",
      "      {\n",
      "        \"bucket_name\": \"DSP-SPEECH\",\n",
      "        \"namespace_name\": \"ocuocictrng22\",\n",
      "        \"object_names\": [\n",
      "          \"real.mp3\",\n",
      "          \"sample-2.mp3\"\n",
      "        ]\n",
      "      }\n",
      "    ]\n",
      "  },\n",
      "  \"lifecycle_details\": null,\n",
      "  \"lifecycle_state\": \"ACCEPTED\",\n",
      "  \"model_details\": {\n",
      "    \"domain\": \"GENERIC\",\n",
      "    \"language_code\": \"en-US\"\n",
      "  },\n",
      "  \"normalization\": {\n",
      "    \"filters\": [],\n",
      "    \"is_punctuation_enabled\": true\n",
      "  },\n",
      "  \"output_location\": {\n",
      "    \"bucket_name\": \"DSP-SPEECH\",\n",
      "    \"namespace_name\": \"ocuocictrng6\",\n",
      "    \"prefix\": \"EXAMPLE-prefix-Value/job-amaaaaaas5adu2iavgoumyfmk7zha6ybdic2ivw55ye647udjyb5j7z6ff6q/\"\n",
      "  },\n",
      "  \"outstanding_tasks\": 2,\n",
      "  \"percent_complete\": 0,\n",
      "  \"successful_tasks\": 0,\n",
      "  \"system_tags\": {},\n",
      "  \"time_accepted\": \"2023-11-09T12:00:48.095000+00:00\",\n",
      "  \"time_finished\": null,\n",
      "  \"time_started\": null,\n",
      "  \"total_tasks\": 2,\n",
      "  \"ttl_in_days\": 90\n",
      "}\n"
     ]
    }
   ],
   "source": [
    "print(create_transcription_job_response.data)\n"
   ]
  },
  {
   "cell_type": "markdown",
   "id": "b29cad02",
   "metadata": {},
   "source": [
    "Results of the transcription would be available in \"DSP-SPEECH bucket. Navigate to the bucket and check the results."
   ]
  },
  {
   "cell_type": "markdown",
   "id": "3524c0c6",
   "metadata": {},
   "source": [
    "We encourage you to try other audio files in the bucket \"DSP-SPEECH\" in the code above and check the results."
   ]
  }
 ],
 "metadata": {
  "kernelspec": {
   "display_name": "Python [conda env:data-science-gmlv1_0_v1]",
   "language": "python",
   "name": "conda-env-data-science-gmlv1_0_v1-py"
  },
  "language_info": {
   "codemirror_mode": {
    "name": "ipython",
    "version": 3
   },
   "file_extension": ".py",
   "mimetype": "text/x-python",
   "name": "python",
   "nbconvert_exporter": "python",
   "pygments_lexer": "ipython3",
   "version": "3.8.13"
  }
 },
 "nbformat": 4,
 "nbformat_minor": 5
}
