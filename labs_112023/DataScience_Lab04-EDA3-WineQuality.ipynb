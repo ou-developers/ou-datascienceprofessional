{
 "cells": [
  {
   "cell_type": "markdown",
   "id": "d7be5d30",
   "metadata": {},
   "source": [
    "***\n",
    "# <font> Exploratory Data Analysis on WineQuality Dataset</font>\n",
    "<p style=\"margin-left:10%; margin-right:10%;\"> <font color=teal> \n",
    "\n",
    "***"
   ]
  },
  {
   "cell_type": "markdown",
   "id": "371680ef",
   "metadata": {},
   "source": [
    "## Overview of this Notebook\n",
    "The most important element in any data science project is the data itself. It is extremely important that this data is as clear as possible, so that we do not misinterpret any structure inherent to the problem.  \n",
    "Data Preparations does Data Transformations and Manipulations. This step is a very important step in Machine Learning model and takes typically 80% of the time in the entire life cycle. The real world data is mostly incomplete, and has several missing values. Missing values can be because of the unavailability of data or inconsistancy present in the data. There might be several errors and outliers in the data. \n",
    "Preprocessing of data involves various steps\n",
    "1. Combinating attributes or columns  \n",
    "2. Data Imputation\n",
    "3. Data Cleaning\n",
    "4. Data Imputation\n",
    "5. Dummy Variables\n",
    "6. Outlier Detection\n",
    "7. Feature Scaling\n",
    "8. Feature Engineering\n",
    "9. Feature Selection\n",
    "10. Feature Extration"
   ]
  },
  {
   "cell_type": "markdown",
   "id": "24c94031",
   "metadata": {},
   "source": [
    "Please select the  published conda envionment data-science-gmlv1_0_v1 before proceeding further. "
   ]
  },
  {
   "cell_type": "markdown",
   "id": "74cbf4f5",
   "metadata": {},
   "source": [
    "First the necessary imports are made. From ads, DatasetBrowser, dataset factory, feature_engineering are imported. pandas, numpy packages are also imported. From plots matplotlib.pyplot is imported."
   ]
  },
  {
   "cell_type": "code",
   "execution_count": 3,
   "id": "d1b87196",
   "metadata": {},
   "outputs": [],
   "source": [
    "import ads\n",
    "import logging\n",
    "import numpy as np\n",
    "import os\n",
    "import pandas as pd\n",
    "import shutil\n",
    "import tempfile\n",
    "import warnings\n",
    "from ads.dataset.dataset_browser import DatasetBrowser\n",
    "from ads.dataset.factory import DatasetFactory\n",
    "from os import path\n",
    "from sqlalchemy import create_engine\n",
    "import seaborn as sns\n",
    "\n",
    "from ads.dataset.dataset_browser import DatasetBrowser\n",
    "from ads.feature_engineering import feature_type_manager, FeatureType\n",
    "import matplotlib.pyplot as plt\n",
    "from os import path\n",
    "\n",
    "warnings.filterwarnings('ignore')\n",
    "logging.basicConfig(format='%(levelname)s:%(message)s', level=logging.ERROR)"
   ]
  },
  {
   "cell_type": "code",
   "execution_count": 4,
   "id": "b3eecf13",
   "metadata": {},
   "outputs": [
    {
     "name": "stdout",
     "output_type": "stream",
     "text": [
      "\n",
      "\n",
      "  O  o-o   o-o\n",
      " / \\ |  \\ |\n",
      "o---o|   O o-o\n",
      "|   ||  /     |\n",
      "o   oo-o  o--o\n",
      "\n",
      "ads v2.8.11\n",
      "oci v2.114.0\n",
      "ocifs v1.1.3\n",
      "\n",
      "\n"
     ]
    }
   ],
   "source": [
    "ads.hello()"
   ]
  },
  {
   "cell_type": "code",
   "execution_count": 3,
   "id": "0d880df5",
   "metadata": {},
   "outputs": [],
   "source": [
    "wine = pd.read_csv(\"winequalityN.csv\")"
   ]
  },
  {
   "cell_type": "markdown",
   "id": "abdf7ee2",
   "metadata": {},
   "source": [
    "WinequalityN.csv  dataset is downloaded as a csv file from <here> https://www.kaggle.com/datasets/rajyellow46/wine-quality </here>\n",
    "In this example, the csv file is read in a pandas core framework. This can be checked by viewing the type of dataset"
   ]
  },
  {
   "cell_type": "code",
   "execution_count": 4,
   "id": "a93431c7",
   "metadata": {},
   "outputs": [
    {
     "data": {
      "text/plain": [
       "pandas.core.frame.DataFrame"
      ]
     },
     "execution_count": 4,
     "metadata": {},
     "output_type": "execute_result"
    }
   ],
   "source": [
    "type(wine) "
   ]
  },
  {
   "cell_type": "code",
   "execution_count": 5,
   "id": "b85b9bfe",
   "metadata": {},
   "outputs": [
    {
     "data": {
      "text/html": [
       "<div>\n",
       "<style scoped>\n",
       "    .dataframe tbody tr th:only-of-type {\n",
       "        vertical-align: middle;\n",
       "    }\n",
       "\n",
       "    .dataframe tbody tr th {\n",
       "        vertical-align: top;\n",
       "    }\n",
       "\n",
       "    .dataframe thead th {\n",
       "        text-align: right;\n",
       "    }\n",
       "</style>\n",
       "<table border=\"1\" class=\"dataframe\">\n",
       "  <thead>\n",
       "    <tr style=\"text-align: right;\">\n",
       "      <th></th>\n",
       "      <th>type</th>\n",
       "      <th>fixed acidity</th>\n",
       "      <th>volatile acidity</th>\n",
       "      <th>citric acid</th>\n",
       "      <th>residual sugar</th>\n",
       "      <th>chlorides</th>\n",
       "      <th>free sulfur dioxide</th>\n",
       "      <th>total sulfur dioxide</th>\n",
       "      <th>density</th>\n",
       "      <th>pH</th>\n",
       "      <th>sulphates</th>\n",
       "      <th>alcohol</th>\n",
       "      <th>quality</th>\n",
       "    </tr>\n",
       "  </thead>\n",
       "  <tbody>\n",
       "    <tr>\n",
       "      <th>0</th>\n",
       "      <td>white</td>\n",
       "      <td>7.0</td>\n",
       "      <td>0.27</td>\n",
       "      <td>0.36</td>\n",
       "      <td>20.70</td>\n",
       "      <td>0.045</td>\n",
       "      <td>45.0</td>\n",
       "      <td>170.0</td>\n",
       "      <td>1.0010</td>\n",
       "      <td>3.00</td>\n",
       "      <td>0.45</td>\n",
       "      <td>8.8</td>\n",
       "      <td>6</td>\n",
       "    </tr>\n",
       "    <tr>\n",
       "      <th>1</th>\n",
       "      <td>white</td>\n",
       "      <td>6.3</td>\n",
       "      <td>0.30</td>\n",
       "      <td>0.34</td>\n",
       "      <td>1.60</td>\n",
       "      <td>0.049</td>\n",
       "      <td>14.0</td>\n",
       "      <td>132.0</td>\n",
       "      <td>0.9940</td>\n",
       "      <td>3.30</td>\n",
       "      <td>0.49</td>\n",
       "      <td>9.5</td>\n",
       "      <td>6</td>\n",
       "    </tr>\n",
       "    <tr>\n",
       "      <th>2</th>\n",
       "      <td>white</td>\n",
       "      <td>8.1</td>\n",
       "      <td>0.28</td>\n",
       "      <td>0.40</td>\n",
       "      <td>6.90</td>\n",
       "      <td>0.050</td>\n",
       "      <td>30.0</td>\n",
       "      <td>97.0</td>\n",
       "      <td>0.9951</td>\n",
       "      <td>3.26</td>\n",
       "      <td>0.44</td>\n",
       "      <td>10.1</td>\n",
       "      <td>6</td>\n",
       "    </tr>\n",
       "    <tr>\n",
       "      <th>3</th>\n",
       "      <td>white</td>\n",
       "      <td>7.2</td>\n",
       "      <td>0.23</td>\n",
       "      <td>0.32</td>\n",
       "      <td>8.50</td>\n",
       "      <td>0.058</td>\n",
       "      <td>47.0</td>\n",
       "      <td>186.0</td>\n",
       "      <td>0.9956</td>\n",
       "      <td>3.19</td>\n",
       "      <td>0.40</td>\n",
       "      <td>9.9</td>\n",
       "      <td>6</td>\n",
       "    </tr>\n",
       "    <tr>\n",
       "      <th>4</th>\n",
       "      <td>white</td>\n",
       "      <td>7.2</td>\n",
       "      <td>0.23</td>\n",
       "      <td>0.32</td>\n",
       "      <td>8.50</td>\n",
       "      <td>0.058</td>\n",
       "      <td>47.0</td>\n",
       "      <td>186.0</td>\n",
       "      <td>0.9956</td>\n",
       "      <td>3.19</td>\n",
       "      <td>0.40</td>\n",
       "      <td>9.9</td>\n",
       "      <td>6</td>\n",
       "    </tr>\n",
       "    <tr>\n",
       "      <th>5</th>\n",
       "      <td>white</td>\n",
       "      <td>8.1</td>\n",
       "      <td>0.28</td>\n",
       "      <td>0.40</td>\n",
       "      <td>6.90</td>\n",
       "      <td>0.050</td>\n",
       "      <td>30.0</td>\n",
       "      <td>97.0</td>\n",
       "      <td>0.9951</td>\n",
       "      <td>3.26</td>\n",
       "      <td>0.44</td>\n",
       "      <td>10.1</td>\n",
       "      <td>6</td>\n",
       "    </tr>\n",
       "    <tr>\n",
       "      <th>6</th>\n",
       "      <td>white</td>\n",
       "      <td>6.2</td>\n",
       "      <td>0.32</td>\n",
       "      <td>0.16</td>\n",
       "      <td>7.00</td>\n",
       "      <td>0.045</td>\n",
       "      <td>30.0</td>\n",
       "      <td>136.0</td>\n",
       "      <td>0.9949</td>\n",
       "      <td>3.18</td>\n",
       "      <td>0.47</td>\n",
       "      <td>9.6</td>\n",
       "      <td>6</td>\n",
       "    </tr>\n",
       "    <tr>\n",
       "      <th>7</th>\n",
       "      <td>white</td>\n",
       "      <td>7.0</td>\n",
       "      <td>0.27</td>\n",
       "      <td>0.36</td>\n",
       "      <td>20.70</td>\n",
       "      <td>0.045</td>\n",
       "      <td>45.0</td>\n",
       "      <td>170.0</td>\n",
       "      <td>1.0010</td>\n",
       "      <td>3.00</td>\n",
       "      <td>0.45</td>\n",
       "      <td>8.8</td>\n",
       "      <td>6</td>\n",
       "    </tr>\n",
       "    <tr>\n",
       "      <th>8</th>\n",
       "      <td>white</td>\n",
       "      <td>6.3</td>\n",
       "      <td>0.30</td>\n",
       "      <td>0.34</td>\n",
       "      <td>1.60</td>\n",
       "      <td>0.049</td>\n",
       "      <td>14.0</td>\n",
       "      <td>132.0</td>\n",
       "      <td>0.9940</td>\n",
       "      <td>3.30</td>\n",
       "      <td>0.49</td>\n",
       "      <td>9.5</td>\n",
       "      <td>6</td>\n",
       "    </tr>\n",
       "    <tr>\n",
       "      <th>9</th>\n",
       "      <td>white</td>\n",
       "      <td>8.1</td>\n",
       "      <td>0.22</td>\n",
       "      <td>0.43</td>\n",
       "      <td>1.50</td>\n",
       "      <td>0.044</td>\n",
       "      <td>28.0</td>\n",
       "      <td>129.0</td>\n",
       "      <td>0.9938</td>\n",
       "      <td>3.22</td>\n",
       "      <td>0.45</td>\n",
       "      <td>11.0</td>\n",
       "      <td>6</td>\n",
       "    </tr>\n",
       "    <tr>\n",
       "      <th>10</th>\n",
       "      <td>white</td>\n",
       "      <td>8.1</td>\n",
       "      <td>0.27</td>\n",
       "      <td>0.41</td>\n",
       "      <td>1.45</td>\n",
       "      <td>0.033</td>\n",
       "      <td>11.0</td>\n",
       "      <td>63.0</td>\n",
       "      <td>0.9908</td>\n",
       "      <td>2.99</td>\n",
       "      <td>0.56</td>\n",
       "      <td>12.0</td>\n",
       "      <td>5</td>\n",
       "    </tr>\n",
       "    <tr>\n",
       "      <th>11</th>\n",
       "      <td>white</td>\n",
       "      <td>8.6</td>\n",
       "      <td>0.23</td>\n",
       "      <td>0.40</td>\n",
       "      <td>4.20</td>\n",
       "      <td>0.035</td>\n",
       "      <td>17.0</td>\n",
       "      <td>109.0</td>\n",
       "      <td>0.9947</td>\n",
       "      <td>3.14</td>\n",
       "      <td>0.53</td>\n",
       "      <td>9.7</td>\n",
       "      <td>5</td>\n",
       "    </tr>\n",
       "    <tr>\n",
       "      <th>12</th>\n",
       "      <td>white</td>\n",
       "      <td>7.9</td>\n",
       "      <td>0.18</td>\n",
       "      <td>0.37</td>\n",
       "      <td>1.20</td>\n",
       "      <td>0.040</td>\n",
       "      <td>16.0</td>\n",
       "      <td>75.0</td>\n",
       "      <td>0.9920</td>\n",
       "      <td>3.18</td>\n",
       "      <td>0.63</td>\n",
       "      <td>10.8</td>\n",
       "      <td>5</td>\n",
       "    </tr>\n",
       "    <tr>\n",
       "      <th>13</th>\n",
       "      <td>white</td>\n",
       "      <td>6.6</td>\n",
       "      <td>0.16</td>\n",
       "      <td>0.40</td>\n",
       "      <td>1.50</td>\n",
       "      <td>0.044</td>\n",
       "      <td>48.0</td>\n",
       "      <td>143.0</td>\n",
       "      <td>0.9912</td>\n",
       "      <td>3.54</td>\n",
       "      <td>0.52</td>\n",
       "      <td>12.4</td>\n",
       "      <td>7</td>\n",
       "    </tr>\n",
       "    <tr>\n",
       "      <th>14</th>\n",
       "      <td>white</td>\n",
       "      <td>8.3</td>\n",
       "      <td>0.42</td>\n",
       "      <td>0.62</td>\n",
       "      <td>19.25</td>\n",
       "      <td>0.040</td>\n",
       "      <td>41.0</td>\n",
       "      <td>172.0</td>\n",
       "      <td>1.0002</td>\n",
       "      <td>2.98</td>\n",
       "      <td>0.67</td>\n",
       "      <td>9.7</td>\n",
       "      <td>5</td>\n",
       "    </tr>\n",
       "    <tr>\n",
       "      <th>15</th>\n",
       "      <td>white</td>\n",
       "      <td>6.6</td>\n",
       "      <td>0.17</td>\n",
       "      <td>0.38</td>\n",
       "      <td>1.50</td>\n",
       "      <td>0.032</td>\n",
       "      <td>28.0</td>\n",
       "      <td>112.0</td>\n",
       "      <td>0.9914</td>\n",
       "      <td>3.25</td>\n",
       "      <td>0.55</td>\n",
       "      <td>11.4</td>\n",
       "      <td>7</td>\n",
       "    </tr>\n",
       "    <tr>\n",
       "      <th>16</th>\n",
       "      <td>white</td>\n",
       "      <td>6.3</td>\n",
       "      <td>0.48</td>\n",
       "      <td>0.04</td>\n",
       "      <td>1.10</td>\n",
       "      <td>0.046</td>\n",
       "      <td>30.0</td>\n",
       "      <td>99.0</td>\n",
       "      <td>0.9928</td>\n",
       "      <td>3.24</td>\n",
       "      <td>0.36</td>\n",
       "      <td>9.6</td>\n",
       "      <td>6</td>\n",
       "    </tr>\n",
       "    <tr>\n",
       "      <th>17</th>\n",
       "      <td>white</td>\n",
       "      <td>NaN</td>\n",
       "      <td>0.66</td>\n",
       "      <td>0.48</td>\n",
       "      <td>1.20</td>\n",
       "      <td>0.029</td>\n",
       "      <td>29.0</td>\n",
       "      <td>75.0</td>\n",
       "      <td>0.9892</td>\n",
       "      <td>3.33</td>\n",
       "      <td>0.39</td>\n",
       "      <td>12.8</td>\n",
       "      <td>8</td>\n",
       "    </tr>\n",
       "    <tr>\n",
       "      <th>18</th>\n",
       "      <td>white</td>\n",
       "      <td>7.4</td>\n",
       "      <td>0.34</td>\n",
       "      <td>0.42</td>\n",
       "      <td>1.10</td>\n",
       "      <td>0.033</td>\n",
       "      <td>17.0</td>\n",
       "      <td>171.0</td>\n",
       "      <td>0.9917</td>\n",
       "      <td>3.12</td>\n",
       "      <td>0.53</td>\n",
       "      <td>11.3</td>\n",
       "      <td>6</td>\n",
       "    </tr>\n",
       "    <tr>\n",
       "      <th>19</th>\n",
       "      <td>white</td>\n",
       "      <td>6.5</td>\n",
       "      <td>0.31</td>\n",
       "      <td>0.14</td>\n",
       "      <td>7.50</td>\n",
       "      <td>0.044</td>\n",
       "      <td>34.0</td>\n",
       "      <td>133.0</td>\n",
       "      <td>0.9955</td>\n",
       "      <td>3.22</td>\n",
       "      <td>0.50</td>\n",
       "      <td>9.5</td>\n",
       "      <td>5</td>\n",
       "    </tr>\n",
       "  </tbody>\n",
       "</table>\n",
       "</div>"
      ],
      "text/plain": [
       "     type  fixed acidity  volatile acidity  citric acid  residual sugar  \\\n",
       "0   white            7.0              0.27         0.36           20.70   \n",
       "1   white            6.3              0.30         0.34            1.60   \n",
       "2   white            8.1              0.28         0.40            6.90   \n",
       "3   white            7.2              0.23         0.32            8.50   \n",
       "4   white            7.2              0.23         0.32            8.50   \n",
       "5   white            8.1              0.28         0.40            6.90   \n",
       "6   white            6.2              0.32         0.16            7.00   \n",
       "7   white            7.0              0.27         0.36           20.70   \n",
       "8   white            6.3              0.30         0.34            1.60   \n",
       "9   white            8.1              0.22         0.43            1.50   \n",
       "10  white            8.1              0.27         0.41            1.45   \n",
       "11  white            8.6              0.23         0.40            4.20   \n",
       "12  white            7.9              0.18         0.37            1.20   \n",
       "13  white            6.6              0.16         0.40            1.50   \n",
       "14  white            8.3              0.42         0.62           19.25   \n",
       "15  white            6.6              0.17         0.38            1.50   \n",
       "16  white            6.3              0.48         0.04            1.10   \n",
       "17  white            NaN              0.66         0.48            1.20   \n",
       "18  white            7.4              0.34         0.42            1.10   \n",
       "19  white            6.5              0.31         0.14            7.50   \n",
       "\n",
       "    chlorides  free sulfur dioxide  total sulfur dioxide  density    pH  \\\n",
       "0       0.045                 45.0                 170.0   1.0010  3.00   \n",
       "1       0.049                 14.0                 132.0   0.9940  3.30   \n",
       "2       0.050                 30.0                  97.0   0.9951  3.26   \n",
       "3       0.058                 47.0                 186.0   0.9956  3.19   \n",
       "4       0.058                 47.0                 186.0   0.9956  3.19   \n",
       "5       0.050                 30.0                  97.0   0.9951  3.26   \n",
       "6       0.045                 30.0                 136.0   0.9949  3.18   \n",
       "7       0.045                 45.0                 170.0   1.0010  3.00   \n",
       "8       0.049                 14.0                 132.0   0.9940  3.30   \n",
       "9       0.044                 28.0                 129.0   0.9938  3.22   \n",
       "10      0.033                 11.0                  63.0   0.9908  2.99   \n",
       "11      0.035                 17.0                 109.0   0.9947  3.14   \n",
       "12      0.040                 16.0                  75.0   0.9920  3.18   \n",
       "13      0.044                 48.0                 143.0   0.9912  3.54   \n",
       "14      0.040                 41.0                 172.0   1.0002  2.98   \n",
       "15      0.032                 28.0                 112.0   0.9914  3.25   \n",
       "16      0.046                 30.0                  99.0   0.9928  3.24   \n",
       "17      0.029                 29.0                  75.0   0.9892  3.33   \n",
       "18      0.033                 17.0                 171.0   0.9917  3.12   \n",
       "19      0.044                 34.0                 133.0   0.9955  3.22   \n",
       "\n",
       "    sulphates  alcohol  quality  \n",
       "0        0.45      8.8        6  \n",
       "1        0.49      9.5        6  \n",
       "2        0.44     10.1        6  \n",
       "3        0.40      9.9        6  \n",
       "4        0.40      9.9        6  \n",
       "5        0.44     10.1        6  \n",
       "6        0.47      9.6        6  \n",
       "7        0.45      8.8        6  \n",
       "8        0.49      9.5        6  \n",
       "9        0.45     11.0        6  \n",
       "10       0.56     12.0        5  \n",
       "11       0.53      9.7        5  \n",
       "12       0.63     10.8        5  \n",
       "13       0.52     12.4        7  \n",
       "14       0.67      9.7        5  \n",
       "15       0.55     11.4        7  \n",
       "16       0.36      9.6        6  \n",
       "17       0.39     12.8        8  \n",
       "18       0.53     11.3        6  \n",
       "19       0.50      9.5        5  "
      ]
     },
     "execution_count": 5,
     "metadata": {},
     "output_type": "execute_result"
    }
   ],
   "source": [
    "wine.head(20)\n"
   ]
  },
  {
   "cell_type": "code",
   "execution_count": 6,
   "id": "41b9067b",
   "metadata": {},
   "outputs": [
    {
     "data": {
      "application/vnd.jupyter.widget-view+json": {
       "model_id": "",
       "version_major": 2,
       "version_minor": 0
      },
      "text/plain": [
       "loop1:   0%|          | 0/4 [00:00<?, ?it/s]"
      ]
     },
     "metadata": {},
     "output_type": "display_data"
    }
   ],
   "source": [
    "ds = DatasetFactory.from_dataframe(pd.DataFrame(wine), target = 'quality')"
   ]
  },
  {
   "cell_type": "code",
   "execution_count": 7,
   "id": "e5cb24d4",
   "metadata": {},
   "outputs": [
    {
     "data": {
      "text/plain": [
       "ads.dataset.classification_dataset.MultiClassClassificationDataset"
      ]
     },
     "execution_count": 7,
     "metadata": {},
     "output_type": "execute_result"
    }
   ],
   "source": [
    "type(ds)"
   ]
  },
  {
   "cell_type": "code",
   "execution_count": 8,
   "id": "03db7d74",
   "metadata": {},
   "outputs": [
    {
     "data": {
      "text/html": [
       "<div>\n",
       "<style scoped>\n",
       "    .dataframe tbody tr th:only-of-type {\n",
       "        vertical-align: middle;\n",
       "    }\n",
       "\n",
       "    .dataframe tbody tr th {\n",
       "        vertical-align: top;\n",
       "    }\n",
       "\n",
       "    .dataframe thead th {\n",
       "        text-align: right;\n",
       "    }\n",
       "</style>\n",
       "<table border=\"1\" class=\"dataframe\">\n",
       "  <thead>\n",
       "    <tr style=\"text-align: right;\">\n",
       "      <th></th>\n",
       "      <th>type</th>\n",
       "      <th>fixed_acidity</th>\n",
       "      <th>volatile_acidity</th>\n",
       "      <th>citric_acid</th>\n",
       "      <th>residual_sugar</th>\n",
       "      <th>chlorides</th>\n",
       "      <th>free_sulfur_dioxide</th>\n",
       "      <th>total_sulfur_dioxide</th>\n",
       "      <th>density</th>\n",
       "      <th>pH</th>\n",
       "      <th>sulphates</th>\n",
       "      <th>alcohol</th>\n",
       "      <th>quality</th>\n",
       "    </tr>\n",
       "  </thead>\n",
       "  <tbody>\n",
       "    <tr>\n",
       "      <th>0</th>\n",
       "      <td>white</td>\n",
       "      <td>7.0</td>\n",
       "      <td>0.27</td>\n",
       "      <td>0.36</td>\n",
       "      <td>20.7</td>\n",
       "      <td>0.045</td>\n",
       "      <td>45.0</td>\n",
       "      <td>170.0</td>\n",
       "      <td>1.0010</td>\n",
       "      <td>3.00</td>\n",
       "      <td>0.45</td>\n",
       "      <td>8.8</td>\n",
       "      <td>6</td>\n",
       "    </tr>\n",
       "    <tr>\n",
       "      <th>1</th>\n",
       "      <td>white</td>\n",
       "      <td>6.3</td>\n",
       "      <td>0.30</td>\n",
       "      <td>0.34</td>\n",
       "      <td>1.6</td>\n",
       "      <td>0.049</td>\n",
       "      <td>14.0</td>\n",
       "      <td>132.0</td>\n",
       "      <td>0.9940</td>\n",
       "      <td>3.30</td>\n",
       "      <td>0.49</td>\n",
       "      <td>9.5</td>\n",
       "      <td>6</td>\n",
       "    </tr>\n",
       "    <tr>\n",
       "      <th>2</th>\n",
       "      <td>white</td>\n",
       "      <td>8.1</td>\n",
       "      <td>0.28</td>\n",
       "      <td>0.40</td>\n",
       "      <td>6.9</td>\n",
       "      <td>0.050</td>\n",
       "      <td>30.0</td>\n",
       "      <td>97.0</td>\n",
       "      <td>0.9951</td>\n",
       "      <td>3.26</td>\n",
       "      <td>0.44</td>\n",
       "      <td>10.1</td>\n",
       "      <td>6</td>\n",
       "    </tr>\n",
       "    <tr>\n",
       "      <th>3</th>\n",
       "      <td>white</td>\n",
       "      <td>7.2</td>\n",
       "      <td>0.23</td>\n",
       "      <td>0.32</td>\n",
       "      <td>8.5</td>\n",
       "      <td>0.058</td>\n",
       "      <td>47.0</td>\n",
       "      <td>186.0</td>\n",
       "      <td>0.9956</td>\n",
       "      <td>3.19</td>\n",
       "      <td>0.40</td>\n",
       "      <td>9.9</td>\n",
       "      <td>6</td>\n",
       "    </tr>\n",
       "    <tr>\n",
       "      <th>4</th>\n",
       "      <td>white</td>\n",
       "      <td>7.2</td>\n",
       "      <td>0.23</td>\n",
       "      <td>0.32</td>\n",
       "      <td>8.5</td>\n",
       "      <td>0.058</td>\n",
       "      <td>47.0</td>\n",
       "      <td>186.0</td>\n",
       "      <td>0.9956</td>\n",
       "      <td>3.19</td>\n",
       "      <td>0.40</td>\n",
       "      <td>9.9</td>\n",
       "      <td>6</td>\n",
       "    </tr>\n",
       "  </tbody>\n",
       "</table>\n",
       "</div>"
      ],
      "text/plain": [
       "    type  fixed_acidity  volatile_acidity  citric_acid  residual_sugar  \\\n",
       "0  white            7.0              0.27         0.36            20.7   \n",
       "1  white            6.3              0.30         0.34             1.6   \n",
       "2  white            8.1              0.28         0.40             6.9   \n",
       "3  white            7.2              0.23         0.32             8.5   \n",
       "4  white            7.2              0.23         0.32             8.5   \n",
       "\n",
       "   chlorides  free_sulfur_dioxide  total_sulfur_dioxide  density    pH  \\\n",
       "0      0.045                 45.0                 170.0   1.0010  3.00   \n",
       "1      0.049                 14.0                 132.0   0.9940  3.30   \n",
       "2      0.050                 30.0                  97.0   0.9951  3.26   \n",
       "3      0.058                 47.0                 186.0   0.9956  3.19   \n",
       "4      0.058                 47.0                 186.0   0.9956  3.19   \n",
       "\n",
       "   sulphates  alcohol  quality  \n",
       "0       0.45      8.8        6  \n",
       "1       0.49      9.5        6  \n",
       "2       0.44     10.1        6  \n",
       "3       0.40      9.9        6  \n",
       "4       0.40      9.9        6  "
      ]
     },
     "execution_count": 8,
     "metadata": {},
     "output_type": "execute_result"
    }
   ],
   "source": [
    "ds.head()"
   ]
  },
  {
   "cell_type": "code",
   "execution_count": 9,
   "id": "8ae22bcc",
   "metadata": {},
   "outputs": [
    {
     "data": {
      "text/plain": [
       "(6497, 13)"
      ]
     },
     "execution_count": 9,
     "metadata": {},
     "output_type": "execute_result"
    }
   ],
   "source": [
    "ds.shape"
   ]
  },
  {
   "cell_type": "markdown",
   "id": "e69e17f8",
   "metadata": {},
   "source": [
    "The wine dataset has 6497 rows and 13 attributes which is used to decide the quality of wine. This is a multi catagory dataset having 7 different wine categories.\n"
   ]
  },
  {
   "cell_type": "code",
   "execution_count": 10,
   "id": "366107c8",
   "metadata": {},
   "outputs": [
    {
     "data": {
      "text/plain": [
       "6    2836\n",
       "5    2138\n",
       "7    1079\n",
       "4     216\n",
       "8     193\n",
       "3      30\n",
       "9       5\n",
       "Name: quality, dtype: int64"
      ]
     },
     "execution_count": 10,
     "metadata": {},
     "output_type": "execute_result"
    }
   ],
   "source": [
    "wine['quality'].value_counts()"
   ]
  },
  {
   "cell_type": "markdown",
   "id": "63fd13ca",
   "metadata": {},
   "source": [
    "This dataset is a typical case of case imbalance problem. Class 9 has minimum number of rows. Also there are some null values. "
   ]
  },
  {
   "cell_type": "code",
   "execution_count": 11,
   "id": "1c005ef3",
   "metadata": {},
   "outputs": [
    {
     "data": {
      "text/plain": [
       "type                     0\n",
       "fixed_acidity           10\n",
       "volatile_acidity         8\n",
       "citric_acid              3\n",
       "residual_sugar           2\n",
       "chlorides                2\n",
       "free_sulfur_dioxide      0\n",
       "total_sulfur_dioxide     0\n",
       "density                  0\n",
       "pH                       9\n",
       "sulphates                4\n",
       "alcohol                  0\n",
       "quality                  0\n",
       "dtype: int64"
      ]
     },
     "execution_count": 11,
     "metadata": {},
     "output_type": "execute_result"
    }
   ],
   "source": [
    "wine.isna().sum()"
   ]
  },
  {
   "cell_type": "markdown",
   "id": "b9db48bc",
   "metadata": {},
   "source": [
    "The null values are minimum when compared to the number of tuples. So those null value rows can be deleted. The 'dropna' method is used to drop the rows having null values. "
   ]
  },
  {
   "cell_type": "code",
   "execution_count": 12,
   "id": "5a1f1c9c",
   "metadata": {},
   "outputs": [],
   "source": [
    "wine_notnull = wine.dropna()"
   ]
  },
  {
   "cell_type": "code",
   "execution_count": 13,
   "id": "31f9fb94",
   "metadata": {},
   "outputs": [
    {
     "data": {
      "text/plain": [
       "(6463, 13)"
      ]
     },
     "execution_count": 13,
     "metadata": {},
     "output_type": "execute_result"
    }
   ],
   "source": [
    "wine_notnull.shape"
   ]
  },
  {
   "cell_type": "code",
   "execution_count": 14,
   "id": "9f5d7b9f",
   "metadata": {},
   "outputs": [
    {
     "data": {
      "text/plain": [
       "white    4898\n",
       "red      1599\n",
       "Name: type, dtype: int64"
      ]
     },
     "execution_count": 14,
     "metadata": {},
     "output_type": "execute_result"
    }
   ],
   "source": [
    "wine['type'].value_counts()"
   ]
  },
  {
   "cell_type": "code",
   "execution_count": 15,
   "id": "8fe642cf",
   "metadata": {},
   "outputs": [
    {
     "data": {
      "application/vnd.jupyter.widget-view+json": {
       "model_id": "4b7a7096d4a14335835e471c28439b67",
       "version_major": 2,
       "version_minor": 0
      },
      "text/plain": [
       "Accordion(children=(HTML(value='<h1>Name: User Provided DataFrame</h1><h3>Type: MultiClassClassificationDatase…"
      ]
     },
     "metadata": {},
     "output_type": "display_data"
    }
   ],
   "source": [
    "ds.show_in_notebook()"
   ]
  },
  {
   "cell_type": "markdown",
   "id": "fa52fb71",
   "metadata": {},
   "source": [
    "Wine Dataset is an example of Multiclass Classification model. \n"
   ]
  },
  {
   "cell_type": "markdown",
   "id": "59f6204a",
   "metadata": {},
   "source": [
    "ADS offers a smart visualization tool that automatically detects the type of your data columns and offers the best way to plot your data. You can also create custom visualizations with ADS by using your preferred plotting libraries and packages. The correlation plot gives an idea on totally correlated pairwise attributes. Highly correlated attributes contribute less to decision making. So it is better to avoid those attributes. So the tranformed dataset ensures that such attributes are avoided. The drop column feature drops those columns which are correlated. Show_in_notebook() shows these correlations in the form of heatmaps. \n",
    "The ADS show_in_notebook() method creates a comprehensive preview of all the basic information about a dataset including:\n",
    "\n",
    "a. The predictive data type (for example, regression, binary classification, or multinomial classification).\n",
    "\n",
    "b. The number of columns and rows.\n",
    "\n",
    "c. Feature type information.\n",
    "\n",
    "d. Summary visualization of each feature.\n",
    "\n",
    "e. The correlation map.\n",
    "\n",
    "f. Any warnings about data conditions that you should be aware of.\n",
    "To improve plotting performance, the ADS show_in_notebook() method uses an optimized subset of the data. This smart sample is selected so that it is statistically representative of the full dataset. The correlation map is only displayed when the data only has numerical (continuous or oridinal) columns.\n",
    "In WineDataset there exists no feature warnings\n"
   ]
  },
  {
   "cell_type": "code",
   "execution_count": 16,
   "id": "e30adbd6",
   "metadata": {},
   "outputs": [
    {
     "data": {
      "application/vnd.jupyter.widget-view+json": {
       "model_id": "3d39c39da6e74496bec575aa1acc6b8f",
       "version_major": 2,
       "version_minor": 0
      },
      "text/plain": [
       "Output()"
      ]
     },
     "metadata": {},
     "output_type": "display_data"
    },
    {
     "data": {
      "text/html": [],
      "text/plain": [
       "<ads.dataset.recommendation.Recommendation at 0x7f0ac5a98df0>"
      ]
     },
     "execution_count": 16,
     "metadata": {},
     "output_type": "execute_result"
    }
   ],
   "source": [
    "ds.get_recommendations()"
   ]
  },
  {
   "cell_type": "code",
   "execution_count": 17,
   "id": "fedd7a45",
   "metadata": {},
   "outputs": [
    {
     "data": {
      "text/html": [
       "\n",
       "        <style>\n",
       "            .mostly-customized-scrollbar {\n",
       "              display: block;\n",
       "              width: 100%;\n",
       "              overflow: auto;\n",
       "            }\n",
       "\n",
       "            .mostly-customized-scrollbar::-webkit-scrollbar {\n",
       "              width: 5px;\n",
       "              height: 8px;\n",
       "              background-color: #aaa;\n",
       "            }\n",
       "\n",
       "            .mostly-customized-scrollbar::-webkit-scrollbar-thumb {\n",
       "                background: #000;\n",
       "                border-radius: 10px;\n",
       "            }\n",
       "        </style>\n",
       "\n",
       "        <div style=\"width=100%; display: flex; flex-wrap: nowrap; overflow-x: auto;\">\n",
       "            <div class=\"mostly-customized-scrollbar\">\n",
       "                <style type=\"text/css\">\n",
       "#T_311f8_ tbody tr:nth-child(even) {\n",
       "  background-color: #F8F8F8;\n",
       "}\n",
       "#T_311f8_ tbody tr:hover {\n",
       "  background-color: #D9EDFD;\n",
       "}\n",
       "#T_311f8_ th {\n",
       "  font-size: 12px;\n",
       "  text-align: center;\n",
       "  font-weight: bold;\n",
       "  background-color: #D3D3D3;\n",
       "  padding-left: 5px;\n",
       "  padding-right: 5px;\n",
       "  text-align: right;\n",
       "}\n",
       "#T_311f8_ td {\n",
       "  font-size: 12px;\n",
       "  text_wrap: False;\n",
       "  white-space: nowrap;\n",
       "  overflow: hidden;\n",
       "  text-overflow: ellipsis;\n",
       "  max-width: 75px;\n",
       "}\n",
       "</style>\n",
       "<table id=\"T_311f8_\" class=table>\n",
       "  <thead>\n",
       "    <tr>\n",
       "      <th class=\"col_heading level0 col0\" >quality</th>\n",
       "      <th class=\"col_heading level0 col1\" >alcohol</th>\n",
       "      <th class=\"col_heading level0 col2\" >density</th>\n",
       "      <th class=\"col_heading level0 col3\" >volatile_acidity</th>\n",
       "      <th class=\"col_heading level0 col4\" >chlorides</th>\n",
       "      <th class=\"col_heading level0 col5\" >type</th>\n",
       "      <th class=\"col_heading level0 col6\" >free_sulfur_dioxide</th>\n",
       "      <th class=\"col_heading level0 col7\" >citric_acid</th>\n",
       "      <th class=\"col_heading level0 col8\" >residual_sugar</th>\n",
       "      <th class=\"col_heading level0 col9\" >fixed_acidity</th>\n",
       "      <th class=\"col_heading level0 col10\" >total_sulfur_dioxide</th>\n",
       "      <th class=\"col_heading level0 col11\" >sulphates</th>\n",
       "      <th class=\"col_heading level0 col12\" >pH</th>\n",
       "    </tr>\n",
       "  </thead>\n",
       "  <tbody>\n",
       "    <tr>\n",
       "      <td id=\"T_311f8_row0_col0\" class=\"data row0 col0\" >6</td>\n",
       "      <td id=\"T_311f8_row0_col1\" class=\"data row0 col1\" >8.800000</td>\n",
       "      <td id=\"T_311f8_row0_col2\" class=\"data row0 col2\" >1.001000</td>\n",
       "      <td id=\"T_311f8_row0_col3\" class=\"data row0 col3\" >0.270000</td>\n",
       "      <td id=\"T_311f8_row0_col4\" class=\"data row0 col4\" >0.045000</td>\n",
       "      <td id=\"T_311f8_row0_col5\" class=\"data row0 col5\" >white</td>\n",
       "      <td id=\"T_311f8_row0_col6\" class=\"data row0 col6\" >45.000000</td>\n",
       "      <td id=\"T_311f8_row0_col7\" class=\"data row0 col7\" >0.360000</td>\n",
       "      <td id=\"T_311f8_row0_col8\" class=\"data row0 col8\" >20.700000</td>\n",
       "      <td id=\"T_311f8_row0_col9\" class=\"data row0 col9\" >7.000000</td>\n",
       "      <td id=\"T_311f8_row0_col10\" class=\"data row0 col10\" >170.000000</td>\n",
       "      <td id=\"T_311f8_row0_col11\" class=\"data row0 col11\" >0.450000</td>\n",
       "      <td id=\"T_311f8_row0_col12\" class=\"data row0 col12\" >3.000000</td>\n",
       "    </tr>\n",
       "    <tr>\n",
       "      <td id=\"T_311f8_row1_col0\" class=\"data row1 col0\" >6</td>\n",
       "      <td id=\"T_311f8_row1_col1\" class=\"data row1 col1\" >9.500000</td>\n",
       "      <td id=\"T_311f8_row1_col2\" class=\"data row1 col2\" >0.994000</td>\n",
       "      <td id=\"T_311f8_row1_col3\" class=\"data row1 col3\" >0.300000</td>\n",
       "      <td id=\"T_311f8_row1_col4\" class=\"data row1 col4\" >0.049000</td>\n",
       "      <td id=\"T_311f8_row1_col5\" class=\"data row1 col5\" >white</td>\n",
       "      <td id=\"T_311f8_row1_col6\" class=\"data row1 col6\" >14.000000</td>\n",
       "      <td id=\"T_311f8_row1_col7\" class=\"data row1 col7\" >0.340000</td>\n",
       "      <td id=\"T_311f8_row1_col8\" class=\"data row1 col8\" >1.600000</td>\n",
       "      <td id=\"T_311f8_row1_col9\" class=\"data row1 col9\" >6.300000</td>\n",
       "      <td id=\"T_311f8_row1_col10\" class=\"data row1 col10\" >132.000000</td>\n",
       "      <td id=\"T_311f8_row1_col11\" class=\"data row1 col11\" >0.490000</td>\n",
       "      <td id=\"T_311f8_row1_col12\" class=\"data row1 col12\" >3.300000</td>\n",
       "    </tr>\n",
       "    <tr>\n",
       "      <td id=\"T_311f8_row2_col0\" class=\"data row2 col0\" >6</td>\n",
       "      <td id=\"T_311f8_row2_col1\" class=\"data row2 col1\" >10.100000</td>\n",
       "      <td id=\"T_311f8_row2_col2\" class=\"data row2 col2\" >0.995100</td>\n",
       "      <td id=\"T_311f8_row2_col3\" class=\"data row2 col3\" >0.280000</td>\n",
       "      <td id=\"T_311f8_row2_col4\" class=\"data row2 col4\" >0.050000</td>\n",
       "      <td id=\"T_311f8_row2_col5\" class=\"data row2 col5\" >white</td>\n",
       "      <td id=\"T_311f8_row2_col6\" class=\"data row2 col6\" >30.000000</td>\n",
       "      <td id=\"T_311f8_row2_col7\" class=\"data row2 col7\" >0.400000</td>\n",
       "      <td id=\"T_311f8_row2_col8\" class=\"data row2 col8\" >6.900000</td>\n",
       "      <td id=\"T_311f8_row2_col9\" class=\"data row2 col9\" >8.100000</td>\n",
       "      <td id=\"T_311f8_row2_col10\" class=\"data row2 col10\" >97.000000</td>\n",
       "      <td id=\"T_311f8_row2_col11\" class=\"data row2 col11\" >0.440000</td>\n",
       "      <td id=\"T_311f8_row2_col12\" class=\"data row2 col12\" >3.260000</td>\n",
       "    </tr>\n",
       "    <tr>\n",
       "      <td id=\"T_311f8_row3_col0\" class=\"data row3 col0\" >6</td>\n",
       "      <td id=\"T_311f8_row3_col1\" class=\"data row3 col1\" >9.900000</td>\n",
       "      <td id=\"T_311f8_row3_col2\" class=\"data row3 col2\" >0.995600</td>\n",
       "      <td id=\"T_311f8_row3_col3\" class=\"data row3 col3\" >0.230000</td>\n",
       "      <td id=\"T_311f8_row3_col4\" class=\"data row3 col4\" >0.058000</td>\n",
       "      <td id=\"T_311f8_row3_col5\" class=\"data row3 col5\" >white</td>\n",
       "      <td id=\"T_311f8_row3_col6\" class=\"data row3 col6\" >47.000000</td>\n",
       "      <td id=\"T_311f8_row3_col7\" class=\"data row3 col7\" >0.320000</td>\n",
       "      <td id=\"T_311f8_row3_col8\" class=\"data row3 col8\" >8.500000</td>\n",
       "      <td id=\"T_311f8_row3_col9\" class=\"data row3 col9\" >7.200000</td>\n",
       "      <td id=\"T_311f8_row3_col10\" class=\"data row3 col10\" >186.000000</td>\n",
       "      <td id=\"T_311f8_row3_col11\" class=\"data row3 col11\" >0.400000</td>\n",
       "      <td id=\"T_311f8_row3_col12\" class=\"data row3 col12\" >3.190000</td>\n",
       "    </tr>\n",
       "    <tr>\n",
       "      <td id=\"T_311f8_row4_col0\" class=\"data row4 col0\" >6</td>\n",
       "      <td id=\"T_311f8_row4_col1\" class=\"data row4 col1\" >9.900000</td>\n",
       "      <td id=\"T_311f8_row4_col2\" class=\"data row4 col2\" >0.995600</td>\n",
       "      <td id=\"T_311f8_row4_col3\" class=\"data row4 col3\" >0.230000</td>\n",
       "      <td id=\"T_311f8_row4_col4\" class=\"data row4 col4\" >0.058000</td>\n",
       "      <td id=\"T_311f8_row4_col5\" class=\"data row4 col5\" >white</td>\n",
       "      <td id=\"T_311f8_row4_col6\" class=\"data row4 col6\" >47.000000</td>\n",
       "      <td id=\"T_311f8_row4_col7\" class=\"data row4 col7\" >0.320000</td>\n",
       "      <td id=\"T_311f8_row4_col8\" class=\"data row4 col8\" >8.500000</td>\n",
       "      <td id=\"T_311f8_row4_col9\" class=\"data row4 col9\" >7.200000</td>\n",
       "      <td id=\"T_311f8_row4_col10\" class=\"data row4 col10\" >186.000000</td>\n",
       "      <td id=\"T_311f8_row4_col11\" class=\"data row4 col11\" >0.400000</td>\n",
       "      <td id=\"T_311f8_row4_col12\" class=\"data row4 col12\" >3.190000</td>\n",
       "    </tr>\n",
       "  </tbody>\n",
       "</table>\n",
       "\n",
       "            </div>\n",
       "        </div>\n",
       "    "
      ],
      "text/plain": [
       "<IPython.core.display.HTML object>"
      ]
     },
     "metadata": {},
     "output_type": "display_data"
    },
    {
     "data": {
      "text/plain": [
       "MultiClassClassificationDataset(target: quality) 6,497 rows, 13 columns"
      ]
     },
     "execution_count": 17,
     "metadata": {},
     "output_type": "execute_result"
    }
   ],
   "source": [
    "ds.select_best_features()"
   ]
  },
  {
   "cell_type": "markdown",
   "id": "680d468d",
   "metadata": {},
   "source": [
    "The select best features automatically removes the missing values. "
   ]
  },
  {
   "cell_type": "markdown",
   "id": "8a42c9c4",
   "metadata": {},
   "source": [
    "## Automated Transformations\n",
    "ADS has built in automatic transform tools for datasets. When the get_recommendations() tool is applied to an ADSDataset object, it shows the user detected issues with the data and recommends changes to apply to the dataset. You can accept the changes is as easy as clicking a button in the drop down menu. After all the changes are applied, the transformed dataset can be retrieved by calling get_transformed_dataset()."
   ]
  },
  {
   "cell_type": "code",
   "execution_count": 18,
   "id": "0cdcede4",
   "metadata": {},
   "outputs": [
    {
     "data": {
      "application/vnd.jupyter.widget-view+json": {
       "model_id": "",
       "version_major": 2,
       "version_minor": 0
      },
      "text/plain": [
       "loop1:   0%|          | 0/7 [00:00<?, ?it/s]"
      ]
     },
     "metadata": {},
     "output_type": "display_data"
    },
    {
     "data": {
      "text/html": [
       "\n",
       "        <style>\n",
       "            .mostly-customized-scrollbar {\n",
       "              display: block;\n",
       "              width: 100%;\n",
       "              overflow: auto;\n",
       "            }\n",
       "\n",
       "            .mostly-customized-scrollbar::-webkit-scrollbar {\n",
       "              width: 5px;\n",
       "              height: 8px;\n",
       "              background-color: #aaa;\n",
       "            }\n",
       "\n",
       "            .mostly-customized-scrollbar::-webkit-scrollbar-thumb {\n",
       "                background: #000;\n",
       "                border-radius: 10px;\n",
       "            }\n",
       "        </style>\n",
       "\n",
       "        <div style=\"width=100%; display: flex; flex-wrap: nowrap; overflow-x: auto;\">\n",
       "            <div class=\"mostly-customized-scrollbar\">\n",
       "                <style type=\"text/css\">\n",
       "#T_a7353_ tbody tr:nth-child(even) {\n",
       "  background-color: #F8F8F8;\n",
       "}\n",
       "#T_a7353_ tbody tr:hover {\n",
       "  background-color: #D9EDFD;\n",
       "}\n",
       "#T_a7353_ th {\n",
       "  font-size: 12px;\n",
       "  text-align: center;\n",
       "  font-weight: bold;\n",
       "  background-color: #D3D3D3;\n",
       "  padding-left: 5px;\n",
       "  padding-right: 5px;\n",
       "  text-align: right;\n",
       "}\n",
       "#T_a7353_ td {\n",
       "  font-size: 12px;\n",
       "  text_wrap: False;\n",
       "  white-space: nowrap;\n",
       "  overflow: hidden;\n",
       "  text-overflow: ellipsis;\n",
       "  max-width: 75px;\n",
       "}\n",
       "</style>\n",
       "<table id=\"T_a7353_\" class=table>\n",
       "  <thead>\n",
       "    <tr>\n",
       "      <th class=\"col_heading level0 col0\" >quality</th>\n",
       "      <th class=\"col_heading level0 col1\" >type</th>\n",
       "      <th class=\"col_heading level0 col2\" >fixed_acidity</th>\n",
       "      <th class=\"col_heading level0 col3\" >volatile_acidity</th>\n",
       "      <th class=\"col_heading level0 col4\" >citric_acid</th>\n",
       "      <th class=\"col_heading level0 col5\" >residual_sugar</th>\n",
       "      <th class=\"col_heading level0 col6\" >chlorides</th>\n",
       "      <th class=\"col_heading level0 col7\" >free_sulfur_dioxide</th>\n",
       "      <th class=\"col_heading level0 col8\" >density</th>\n",
       "      <th class=\"col_heading level0 col9\" >pH</th>\n",
       "      <th class=\"col_heading level0 col10\" >sulphates</th>\n",
       "      <th class=\"col_heading level0 col11\" >alcohol</th>\n",
       "    </tr>\n",
       "  </thead>\n",
       "  <tbody>\n",
       "    <tr>\n",
       "      <td id=\"T_a7353_row0_col0\" class=\"data row0 col0\" >6</td>\n",
       "      <td id=\"T_a7353_row0_col1\" class=\"data row0 col1\" >white</td>\n",
       "      <td id=\"T_a7353_row0_col2\" class=\"data row0 col2\" >7.000000</td>\n",
       "      <td id=\"T_a7353_row0_col3\" class=\"data row0 col3\" >0.270000</td>\n",
       "      <td id=\"T_a7353_row0_col4\" class=\"data row0 col4\" >0.360000</td>\n",
       "      <td id=\"T_a7353_row0_col5\" class=\"data row0 col5\" >20.700000</td>\n",
       "      <td id=\"T_a7353_row0_col6\" class=\"data row0 col6\" >0.045000</td>\n",
       "      <td id=\"T_a7353_row0_col7\" class=\"data row0 col7\" >45.000000</td>\n",
       "      <td id=\"T_a7353_row0_col8\" class=\"data row0 col8\" >1.001000</td>\n",
       "      <td id=\"T_a7353_row0_col9\" class=\"data row0 col9\" >3.000000</td>\n",
       "      <td id=\"T_a7353_row0_col10\" class=\"data row0 col10\" >0.450000</td>\n",
       "      <td id=\"T_a7353_row0_col11\" class=\"data row0 col11\" >8.800000</td>\n",
       "    </tr>\n",
       "    <tr>\n",
       "      <td id=\"T_a7353_row1_col0\" class=\"data row1 col0\" >6</td>\n",
       "      <td id=\"T_a7353_row1_col1\" class=\"data row1 col1\" >white</td>\n",
       "      <td id=\"T_a7353_row1_col2\" class=\"data row1 col2\" >6.300000</td>\n",
       "      <td id=\"T_a7353_row1_col3\" class=\"data row1 col3\" >0.300000</td>\n",
       "      <td id=\"T_a7353_row1_col4\" class=\"data row1 col4\" >0.340000</td>\n",
       "      <td id=\"T_a7353_row1_col5\" class=\"data row1 col5\" >1.600000</td>\n",
       "      <td id=\"T_a7353_row1_col6\" class=\"data row1 col6\" >0.049000</td>\n",
       "      <td id=\"T_a7353_row1_col7\" class=\"data row1 col7\" >14.000000</td>\n",
       "      <td id=\"T_a7353_row1_col8\" class=\"data row1 col8\" >0.994000</td>\n",
       "      <td id=\"T_a7353_row1_col9\" class=\"data row1 col9\" >3.300000</td>\n",
       "      <td id=\"T_a7353_row1_col10\" class=\"data row1 col10\" >0.490000</td>\n",
       "      <td id=\"T_a7353_row1_col11\" class=\"data row1 col11\" >9.500000</td>\n",
       "    </tr>\n",
       "    <tr>\n",
       "      <td id=\"T_a7353_row2_col0\" class=\"data row2 col0\" >6</td>\n",
       "      <td id=\"T_a7353_row2_col1\" class=\"data row2 col1\" >white</td>\n",
       "      <td id=\"T_a7353_row2_col2\" class=\"data row2 col2\" >8.100000</td>\n",
       "      <td id=\"T_a7353_row2_col3\" class=\"data row2 col3\" >0.280000</td>\n",
       "      <td id=\"T_a7353_row2_col4\" class=\"data row2 col4\" >0.400000</td>\n",
       "      <td id=\"T_a7353_row2_col5\" class=\"data row2 col5\" >6.900000</td>\n",
       "      <td id=\"T_a7353_row2_col6\" class=\"data row2 col6\" >0.050000</td>\n",
       "      <td id=\"T_a7353_row2_col7\" class=\"data row2 col7\" >30.000000</td>\n",
       "      <td id=\"T_a7353_row2_col8\" class=\"data row2 col8\" >0.995100</td>\n",
       "      <td id=\"T_a7353_row2_col9\" class=\"data row2 col9\" >3.260000</td>\n",
       "      <td id=\"T_a7353_row2_col10\" class=\"data row2 col10\" >0.440000</td>\n",
       "      <td id=\"T_a7353_row2_col11\" class=\"data row2 col11\" >10.100000</td>\n",
       "    </tr>\n",
       "    <tr>\n",
       "      <td id=\"T_a7353_row3_col0\" class=\"data row3 col0\" >6</td>\n",
       "      <td id=\"T_a7353_row3_col1\" class=\"data row3 col1\" >white</td>\n",
       "      <td id=\"T_a7353_row3_col2\" class=\"data row3 col2\" >7.200000</td>\n",
       "      <td id=\"T_a7353_row3_col3\" class=\"data row3 col3\" >0.230000</td>\n",
       "      <td id=\"T_a7353_row3_col4\" class=\"data row3 col4\" >0.320000</td>\n",
       "      <td id=\"T_a7353_row3_col5\" class=\"data row3 col5\" >8.500000</td>\n",
       "      <td id=\"T_a7353_row3_col6\" class=\"data row3 col6\" >0.058000</td>\n",
       "      <td id=\"T_a7353_row3_col7\" class=\"data row3 col7\" >47.000000</td>\n",
       "      <td id=\"T_a7353_row3_col8\" class=\"data row3 col8\" >0.995600</td>\n",
       "      <td id=\"T_a7353_row3_col9\" class=\"data row3 col9\" >3.190000</td>\n",
       "      <td id=\"T_a7353_row3_col10\" class=\"data row3 col10\" >0.400000</td>\n",
       "      <td id=\"T_a7353_row3_col11\" class=\"data row3 col11\" >9.900000</td>\n",
       "    </tr>\n",
       "    <tr>\n",
       "      <td id=\"T_a7353_row4_col0\" class=\"data row4 col0\" >6</td>\n",
       "      <td id=\"T_a7353_row4_col1\" class=\"data row4 col1\" >white</td>\n",
       "      <td id=\"T_a7353_row4_col2\" class=\"data row4 col2\" >7.200000</td>\n",
       "      <td id=\"T_a7353_row4_col3\" class=\"data row4 col3\" >0.230000</td>\n",
       "      <td id=\"T_a7353_row4_col4\" class=\"data row4 col4\" >0.320000</td>\n",
       "      <td id=\"T_a7353_row4_col5\" class=\"data row4 col5\" >8.500000</td>\n",
       "      <td id=\"T_a7353_row4_col6\" class=\"data row4 col6\" >0.058000</td>\n",
       "      <td id=\"T_a7353_row4_col7\" class=\"data row4 col7\" >47.000000</td>\n",
       "      <td id=\"T_a7353_row4_col8\" class=\"data row4 col8\" >0.995600</td>\n",
       "      <td id=\"T_a7353_row4_col9\" class=\"data row4 col9\" >3.190000</td>\n",
       "      <td id=\"T_a7353_row4_col10\" class=\"data row4 col10\" >0.400000</td>\n",
       "      <td id=\"T_a7353_row4_col11\" class=\"data row4 col11\" >9.900000</td>\n",
       "    </tr>\n",
       "  </tbody>\n",
       "</table>\n",
       "\n",
       "            </div>\n",
       "        </div>\n",
       "    "
      ],
      "text/plain": [
       "<IPython.core.display.HTML object>"
      ]
     },
     "metadata": {},
     "output_type": "display_data"
    },
    {
     "data": {
      "text/plain": [
       "MultiClassClassificationDataset(target: quality) 6,497 rows, 12 columns"
      ]
     },
     "execution_count": 18,
     "metadata": {},
     "output_type": "execute_result"
    }
   ],
   "source": [
    "ds.auto_transform()"
   ]
  },
  {
   "cell_type": "code",
   "execution_count": 19,
   "id": "01726935",
   "metadata": {},
   "outputs": [
    {
     "data": {
      "image/svg+xml": [
       "<svg xmlns=\"http://www.w3.org/2000/svg\" xmlns:xlink=\"http://www.w3.org/1999/xlink\" width=\"296pt\" height=\"238pt\" viewBox=\"0.00 0.00 296.00 238.00\">\n",
       "<g id=\"graph0\" class=\"graph\" transform=\"scale(1 1) rotate(0) translate(4 234)\">\n",
       "<title>%3</title>\n",
       "<polygon fill=\"white\" stroke=\"white\" points=\"-4,5 -4,-234 293,-234 293,5 -4,5\"/>\n",
       "<!-- partitions -->\n",
       "<g id=\"node1\" class=\"node\"><title>partitions</title>\n",
       "<polygon fill=\"dimgray\" stroke=\"black\" points=\"134,-230 12,-230 12,-234 0,-234 0,-168 134,-168 134,-230\"/>\n",
       "<polyline fill=\"none\" stroke=\"black\" points=\"0,-230 12,-230 \"/>\n",
       "<text text-anchor=\"start\" x=\"18\" y=\"-202.4\" font-family=\"Courier,monospace\" font-size=\"12.00\" fill=\"white\">- rows: 6497</text>\n",
       "<text text-anchor=\"start\" x=\"18\" y=\"-189.4\" font-family=\"Courier,monospace\" font-size=\"12.00\" fill=\"white\">- columns: 13</text>\n",
       "</g>\n",
       "<!-- prepare -->\n",
       "<g id=\"node2\" class=\"node\"><title>prepare</title>\n",
       "<polygon fill=\"azure\" stroke=\"black\" points=\"211.25,-217 152.75,-217 152.75,-213 148.75,-213 148.75,-209 152.75,-209 152.75,-189 148.75,-189 148.75,-185 152.75,-185 152.75,-181 211.25,-181 211.25,-217\"/>\n",
       "<polyline fill=\"none\" stroke=\"black\" points=\"152.75,-213 156.75,-213 156.75,-209 152.75,-209 \"/>\n",
       "<polyline fill=\"none\" stroke=\"black\" points=\"152.75,-189 156.75,-189 156.75,-185 152.75,-185 \"/>\n",
       "<text text-anchor=\"middle\" x=\"182\" y=\"-196.5\" font-family=\"Courier,monospace\" font-size=\"10.00\">prepare</text>\n",
       "</g>\n",
       "<!-- type_discovery -->\n",
       "<g id=\"node3\" class=\"node\"><title>type_discovery</title>\n",
       "<polygon fill=\"azure\" stroke=\"black\" points=\"232.25,-120 131.75,-120 131.75,-116 127.75,-116 127.75,-112 131.75,-112 131.75,-92 127.75,-92 127.75,-88 131.75,-88 131.75,-84 232.25,-84 232.25,-120\"/>\n",
       "<polyline fill=\"none\" stroke=\"black\" points=\"131.75,-116 135.75,-116 135.75,-112 131.75,-112 \"/>\n",
       "<polyline fill=\"none\" stroke=\"black\" points=\"131.75,-92 135.75,-92 135.75,-88 131.75,-88 \"/>\n",
       "<text text-anchor=\"middle\" x=\"182\" y=\"-99.5\" font-family=\"Courier,monospace\" font-size=\"10.00\">type_discovery</text>\n",
       "</g>\n",
       "<!-- prepare&#45;&gt;type_discovery -->\n",
       "<g id=\"edge1\" class=\"edge\"><title>prepare-&gt;type_discovery</title>\n",
       "<path fill=\"none\" stroke=\"black\" d=\"M182,-180.576C182,-166.648 182,-146.861 182,-130.757\"/>\n",
       "<polygon fill=\"black\" stroke=\"black\" points=\"185.5,-130.314 182,-120.314 178.5,-130.314 185.5,-130.314\"/>\n",
       "<text text-anchor=\"start\" x=\"182.5\" y=\"-142.5\" font-family=\"Courier,monospace\" font-size=\"10.00\"> </text>\n",
       "<text text-anchor=\"start\" x=\"189.5\" y=\"-142.5\" font-family=\"Courier,monospace\" font-weight=\"bold\" font-size=\"10.00\">fix_column_names</text>\n",
       "<text text-anchor=\"start\" x=\"280.5\" y=\"-142.5\" font-family=\"Courier,monospace\" font-size=\"10.00\"> </text>\n",
       "</g>\n",
       "<!-- terminus -->\n",
       "<g id=\"node4\" class=\"node\"><title>terminus</title>\n",
       "<polygon fill=\"white\" stroke=\"black\" points=\"185,-18 185,-24 191,-24 191,-30 173,-30 173,-24 179,-24 179,-18 185,-18\"/>\n",
       "<polyline fill=\"none\" stroke=\"black\" points=\"155,-18 209,-18 \"/>\n",
       "</g>\n",
       "<!-- type_discovery&#45;&gt;terminus -->\n",
       "<g id=\"edge2\" class=\"edge\"><title>type_discovery-&gt;terminus</title>\n",
       "<path fill=\"none\" stroke=\"black\" d=\"M182,-83.6099C182,-72.7743 182,-58.6012 182,-46.2913\"/>\n",
       "<polygon fill=\"black\" stroke=\"black\" points=\"185.5,-46.0838 182,-36.0838 178.5,-46.0839 185.5,-46.0838\"/>\n",
       "<text text-anchor=\"start\" x=\"182.5\" y=\"-58.5\" font-family=\"Courier,monospace\" font-size=\"10.00\"> </text>\n",
       "<text text-anchor=\"start\" x=\"189.5\" y=\"-58.5\" font-family=\"Courier,monospace\" font-weight=\"bold\" font-size=\"10.00\">convert_columns</text>\n",
       "<text text-anchor=\"start\" x=\"280.5\" y=\"-58.5\" font-family=\"Courier,monospace\" font-size=\"10.00\"> </text>\n",
       "</g>\n",
       "</g>\n",
       "</svg>"
      ],
      "text/plain": [
       "<IPython.core.display.SVG object>"
      ]
     },
     "metadata": {},
     "output_type": "display_data"
    }
   ],
   "source": [
    "ds.visualize_transforms()"
   ]
  },
  {
   "cell_type": "markdown",
   "id": "abc9f49b",
   "metadata": {},
   "source": [
    "You can visualize the transformation that has been performed on a dataset by calling visualize_transforms(). \n",
    "The preprocessed data is then used for training the machine learning model "
   ]
  }
 ],
 "metadata": {
  "kernelspec": {
   "display_name": "Python [conda env:data-science-gmlv1_0_v1]",
   "language": "python",
   "name": "conda-env-data-science-gmlv1_0_v1-py"
  },
  "language_info": {
   "codemirror_mode": {
    "name": "ipython",
    "version": 3
   },
   "file_extension": ".py",
   "mimetype": "text/x-python",
   "name": "python",
   "nbconvert_exporter": "python",
   "pygments_lexer": "ipython3",
   "version": "3.8.13"
  }
 },
 "nbformat": 4,
 "nbformat_minor": 5
}
