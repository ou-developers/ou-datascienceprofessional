{
 "cells": [
  {
   "cell_type": "markdown",
   "id": "da74ed8a",
   "metadata": {},
   "source": [
    "***\n",
    "# <font> Data Connectivity and Vault</font>\n",
    "<p style=\"margin-left:10%; margin-right:10%;\">by the <font color=teal> OU OCI Delivery </font></p>\n",
    "\n",
    "***"
   ]
  },
  {
   "cell_type": "markdown",
   "id": "56dcf3a6",
   "metadata": {},
   "source": [
    "## Overview:\n",
    "Data scientists often need to access information stored from different data sources such as object storage, databases and so on. This notebook demonstrates how to how to create a vault, key and secret along with some CRUD operation. This notebook also demostrates how to connect to an Oracle Autonomous Database (ADB) and pull data from ADB into a notebook. Oracle offers two type of ADB, the Autonomous Data Warehouse (ADW) and the Autonomous Transaction Processing (ATP) databases. In general, there are no differences in how a connection is made to these different types of databases. We will use Autonomous Transaction Processing (ATP) for our use case."
   ]
  },
  {
   "cell_type": "markdown",
   "id": "0c137f23",
   "metadata": {},
   "source": [
    "## Dataset:\n",
    "<p>We will be using \"Iris Dataset\" from UCI machine learning repo. The link to the dataset is <br> https://archive.ics.uci.edu/ml/datasets/iris "
   ]
  },
  {
   "cell_type": "markdown",
   "id": "9d3a0270",
   "metadata": {},
   "source": [
    "## Execution Environment:\n",
    "The General Machine Learning for CPUs conda environment includes Oracle AutoML, libraries for data manipulation, and libraries for supervised machine learning through sklearn, xgboost, and lightGBM. This environment provides a good baseline for generic machine learning tasks. The slug for this environment is \"generalml_p37_cpu_v1\" <p>"
   ]
  },
  {
   "cell_type": "markdown",
   "id": "7e271f79",
   "metadata": {},
   "source": [
    "First we will start with importing the libraries, you can definitely read about these libraries and functions in ADS class documentation <br> https://accelerated-data-science.readthedocs.io/en/latest/ads.html#subpackages <br>\n",
    "https://docs.oracle.com/en-us/iaas/tools/python/2.93.0/api/vault.html"
   ]
  },
  {
   "cell_type": "code",
   "execution_count": 1,
   "id": "f93585a5",
   "metadata": {},
   "outputs": [],
   "source": [
    "import ads\n",
    "import logging\n",
    "import pandas as pd\n",
    "import warnings\n",
    "import os\n",
    "import oci\n",
    "import base64\n",
    "import json\n",
    "\n",
    "from oci.config import from_file\n",
    "\n",
    "from ads.vault.vault import Vault\n",
    "from ads.common.auth import default_signer\n",
    "from urllib.request import urlopen\n",
    "\n",
    "from oci.key_management import KmsManagementClient\n",
    "from oci.key_management import KmsManagementClientCompositeOperations\n",
    "from oci.key_management import KmsVaultClient\n",
    "from oci.key_management import KmsVaultClientCompositeOperations\n",
    "from oci.key_management.models import CreateVaultDetails\n",
    "from oci.key_management.models import KeyShape\n",
    "from oci.key_management.models import CreateKeyDetails\n",
    "from oci.vault.models import Base64SecretContentDetails\n",
    "from oci.vault.models import CreateSecretDetails\n",
    "from oci.vault import VaultsClientCompositeOperations\n",
    "from oci.secrets import SecretsClient\n",
    "from oci.vault import VaultsClient\n",
    "from oci.vault.models import UpdateSecretDetails\n",
    "from oci.vault.models import ScheduleSecretDeletionDetails\n",
    "from oci.key_management.models import ScheduleKeyDeletionDetails\n",
    "from oci.key_management.models import ScheduleVaultDeletionDetails\n",
    "\n",
    "from ads.database import connection \n",
    "from ads.database.connection import Connector\n",
    "from ads.dataset.factory import DatasetFactory\n",
    "\n",
    "warnings.filterwarnings(\"ignore\", category=DeprecationWarning) \n",
    "logging.basicConfig(format='%(levelname)s:%(message)s', level=logging.INFO)\n",
    "\n",
    "warnings.filterwarnings('ignore')\n",
    "logging.basicConfig(format='%(levelname)s:%(message)s', level=logging.ERROR)"
   ]
  },
  {
   "cell_type": "markdown",
   "id": "6ddceac0",
   "metadata": {},
   "source": [
    "Helper Functions <br>\n",
    "Base64 is used to encode binary data as printable text. This allows you to transport binary over protocols or mediums that cannot handle binary data formats and require simple text.\n",
    "json.load() takes a file object and returns the json object. It is used to read JSON encoded data from a file and convert it into a Python dictionary and deserialize a file itself i.e. it accepts a file object."
   ]
  },
  {
   "cell_type": "code",
   "execution_count": 2,
   "id": "3e89adb1",
   "metadata": {},
   "outputs": [],
   "source": [
    "def dict_to_secret(dictionary):\n",
    "    return base64.b64encode(json.dumps(dictionary).encode('ascii')).decode(\"ascii\")\n",
    "\n",
    "def secret_to_dict(wallet):\n",
    "    return json.loads(base64.b64decode(wallet.encode('ascii')).decode('ascii'))"
   ]
  },
  {
   "cell_type": "markdown",
   "id": "4e64370d",
   "metadata": {},
   "source": [
    "# Access with Vault"
   ]
  },
  {
   "cell_type": "markdown",
   "id": "2b58b4fb",
   "metadata": {},
   "source": [
    "\n",
    "The [Oracle Cloud Infrastructure Vault](https://docs.cloud.oracle.com/en-us/iaas/Content/KeyManagement/Concepts/keyoverview.htm) lets you centrally manage the encryption keys that protect your data and the secret credentials that you use to securely access resources.\n",
    "\n",
    "Vaults securely store master encryption keys and secrets that you might otherwise store in configuration files or in code.\n",
    "\n",
    "Use the Vault service to exercise control over the lifecycle keys and secrets. Integration with Oracle Cloud Infrastructure Identity and Access Management (IAM) lets you control who and what services can access which keys and secrets and what they can do with those resources. The Oracle Cloud Infrastructure Audit integration gives you a way to monitor key and secret use. Audit tracks administrative actions on vaults, keys, and secrets.\n",
    "\n",
    "Keys are stored on highly available and durable hardware security modules (HSM) that meet Federal Information Processing Standards (FIPS) 140-2 Security Level 3 security certification. The Vault service uses the Advanced Encryption Standard (AES) as its encryption algorithm and its keys are AES symmetric keys."
   ]
  },
  {
   "cell_type": "markdown",
   "id": "289f207b",
   "metadata": {},
   "source": [
    "### Set Up"
   ]
  },
  {
   "cell_type": "markdown",
   "id": "dff17e6d",
   "metadata": {},
   "source": [
    "A vault, key, and secret need to belong to a compartment. By default, the compartment of this notebook session is used. To set up these resources in a different compartment, enter the compartment's OCID in the compartment_id variable.\n",
    "\n",
    "**The main use case of Vault for a data scientist is to store a secret, such as an SSH key, database password, or some other credential.** To do this, a vault and key are required. By default, this notebook will create these resources. However, the vault_id and key_id variables can be updated with vault and key OCIDs to use existing resources. "
   ]
  },
  {
   "cell_type": "code",
   "execution_count": 3,
   "id": "cb1b70bc",
   "metadata": {},
   "outputs": [],
   "source": [
    "# Select the configuration file to connect to Oracle Cloud Infrastructure resources\n",
    "config = from_file(os.path.join(os.path.expanduser(\"~\"), \".oci\", \"config\"), \"DEFAULT\")\n",
    "\n",
    "# Select the compartment to create the secrets in. \n",
    "# Use the notebook compartment by default\n",
    "compartment_id = os.environ['NB_SESSION_COMPARTMENT_OCID']\n",
    "\n",
    "# Enter a vault OCID. Otherwise, one will be created.\n",
    "# \"<vault_id>\" and \"<key_id>\"\n",
    "vault_id = \"<vault_id>\"\n",
    "# Enter a KMS OCID to encrypt the secret. Otherwise, one will be created\n",
    "key_id = \"<key_id>\""
   ]
  },
  {
   "cell_type": "markdown",
   "id": "b0f966b8",
   "metadata": {},
   "source": [
    "For the purposes of this notebook, a secret is stored. The secret is the credentials needed to access a database. The notebook is designed so that any secret can be stored as long as it is in the form of a dictionary. To store your secret, just modify the dictionary."
   ]
  },
  {
   "cell_type": "code",
   "execution_count": 4,
   "id": "15316815",
   "metadata": {},
   "outputs": [],
   "source": [
    "# # Sample credentials that are going to be stored. This is a sample credential for an Autonomous Database.\n",
    "# credential = {'database_name': 'DATABASE_high', \n",
    "#               'username': 'ADMIN', \n",
    "#               'password': 'MacbookAir',\n",
    "#               'database_type':'oracle'}"
   ]
  },
  {
   "cell_type": "markdown",
   "id": "6f70a40a",
   "metadata": {},
   "source": [
    "### Check Vault under Identity & Security from Navigation Menu for each of the subsequent steps."
   ]
  },
  {
   "cell_type": "markdown",
   "id": "a7c4f24e",
   "metadata": {},
   "source": [
    "### Create a Vault"
   ]
  },
  {
   "cell_type": "markdown",
   "id": "496d034f",
   "metadata": {},
   "source": [
    "To store a secret, a key is needed to encrypt and decrypt the secret. This key and secret are stored in a vault. The code in the following cell creates a vault if you have not specified an OCID in the vault_id variable. The KmsVaultClient class takes a configuration object and establishes a connection to the key management service (KMS). Communication with KmsVaultClient is asynchronous. For the purpose of this notebook, it is better to have synchronous communication so the KmsVaultClient are wrapped in a KmsVaultClientCompositeOperations object.\n",
    "\n",
    "The details of the vault are specified using an object of the CreateVaultDetails type. A compartment ID must be provided along with the properties of the vault. For the purposes of this notebook, the vault's display name is DataScienceVault. The vault name must be unique. This value can be changed to fit your individual needs."
   ]
  },
  {
   "cell_type": "code",
   "execution_count": 5,
   "id": "3017396a",
   "metadata": {},
   "outputs": [],
   "source": [
    "# if vault_id == \"<vault_id>\":\n",
    "#     # Create a VaultClientCompositeOperations for composite operations.\n",
    "#     vault_client = KmsVaultClientCompositeOperations(KmsVaultClient(config))\n",
    "\n",
    "#     # Create vault_details object for use in creating the vault.\n",
    "#     vault_details = CreateVaultDetails(compartment_id=compartment_id,\n",
    "#     vault_type=oci.key_management.models.Vault.VAULT_TYPE_DEFAULT,\n",
    "#     display_name=\"DataScienceVaultDemo\")\n",
    "\n",
    "#     # Vault creation is asynchronous; Create the vault and wait until it becomes active.\n",
    "#     print(\"Creating vault...\", end='')\n",
    "#     vault = vault_client.create_vault_and_wait_for_state(vault_details,\n",
    "#                 wait_for_states=[oci.vault.models.Secret.LIFECYCLE_STATE_ACTIVE]).data\n",
    "#     vault_id = vault.id\n",
    "#     print('Done')\n",
    "#     print(\"Created vault: {}\".format(vault_id))\n",
    "# else:\n",
    "#     # Get the vault using the vault OCID.\n",
    "#     vault = KmsVaultClient(config).get_vault(vault_id=vault_id).data\n",
    "#     print(\"Using vault: {}\".format(vault.id))"
   ]
  },
  {
   "cell_type": "markdown",
   "id": "152ed6e9",
   "metadata": {},
   "source": [
    "### Create a Key"
   ]
  },
  {
   "cell_type": "markdown",
   "id": "15e801b2",
   "metadata": {},
   "source": [
    "The secret is encrypted and decrypted using an AES key. The code in the following cell creates a key if you have not specified an OCID in the key_id variable. The KmsManagementClient class takes a configuration object and the endpoint for the vault that is going to be used to store the key. It establishes a connection to the KMS. Communication with KmsManagementClient is asynchronous. For the purpose of this notebook, it is better to have synchronous communication so the KmsManagementClient is wrapped in a KmsManagementClientCompositeOperations object.\n",
    "\n",
    "The details of the key are specified using an object of type CreateKeyDetails. A compartment OCID must be provided along with the properties of the key. The KeyShape class defines the properties of the key. In this example, it is a 32-bit AES key.\n",
    "\n",
    "For the purposes of this notebook, the key's display name is DataScienceKey. The name of a key must be unique."
   ]
  },
  {
   "cell_type": "code",
   "execution_count": 6,
   "id": "7b2ffb62",
   "metadata": {},
   "outputs": [],
   "source": [
    "# if key_id == \"<key_id>\":\n",
    "#     # Create a vault management client using the endpoint in the vault object.\n",
    "#     vault_management_client = KmsManagementClientCompositeOperations(\n",
    "#         KmsManagementClient(config, service_endpoint=vault.management_endpoint))\n",
    "\n",
    "#     # Create key_details object that needs to be passed when creating key.\n",
    "#     key_details = CreateKeyDetails(compartment_id=compartment_id,\n",
    "#         display_name=\"DataScienceKey\", \n",
    "#         key_shape=KeyShape(algorithm=\"AES\", length=32))\n",
    "\n",
    "#     # Vault creation is asynchronous; Create the vault and wait until it becomes active.\n",
    "#     print(\"Creating key...\", end='')\n",
    "#     key = vault_management_client.create_key_and_wait_for_state(key_details,\n",
    "#               wait_for_states=[oci.key_management.models.Key.LIFECYCLE_STATE_ENABLED]).data\n",
    "#     key_id = key.id\n",
    "#     print('Done')\n",
    "#     print(\"Created key: {}\".format(key_id))\n",
    "# else:\n",
    "#     print(\"Using key: {}\".format(key_id))"
   ]
  },
  {
   "cell_type": "markdown",
   "id": "16dded0a",
   "metadata": {},
   "source": [
    "### Store a Secret"
   ]
  },
  {
   "cell_type": "markdown",
   "id": "d43a941b",
   "metadata": {},
   "source": [
    "The code in the following cell creates a secret that is to be stored. The variable credential is a dictionary and contains the information that is to be stored. The UDF dict_to_secret takes a Python dictionary, converts it to a JSON string, and then Base64 encodes it. This string is what is to be stored as a secret so the secret can be parsed by any system that may need it.\n",
    "\n",
    "The VaultsClient class takes a configuration object and establishes a connection to the Vault service. Communication with VaultsClient is asynchronous. For the purpose of this notebook, it is better to have synchronous communication so VaultsClient is wrapped in a VaultsClientCompositeOperations object.\n",
    "\n",
    "The contents of the secret are stored in a Base64SecretContentDetails object. This object contains information about the encoding being used, the stage to be used,and most importantly the payload (the secret). The CreateSecretDetails class is used to wrap the Base64SecretContentDetails object and also specify other properties about the secret. It requires the compartment OCID, the vault that is to store the secret, and the key to use to encrypt the secret. For the purposes of this notebook, the secret's display name is DataScienceSecret. The name of a secret must be unique."
   ]
  },
  {
   "cell_type": "code",
   "execution_count": 7,
   "id": "38f70289",
   "metadata": {},
   "outputs": [],
   "source": [
    "# # Encode the secret.\n",
    "# secret_content_details = Base64SecretContentDetails(\n",
    "#     content_type=oci.vault.models.SecretContentDetails.CONTENT_TYPE_BASE64,\n",
    "#     stage=oci.vault.models.SecretContentDetails.STAGE_CURRENT,\n",
    "#     content=dict_to_secret(credential))\n",
    "    \n",
    "# # Bundle the secret and metadata about it.\n",
    "# secrets_details = CreateSecretDetails(\n",
    "#         compartment_id=compartment_id,\n",
    "#         description = \"Data Science service test secret\", \n",
    "#         secret_content=secret_content_details,\n",
    "#         secret_name=\"DataScienceSecret\",\n",
    "#         vault_id=vault_id,\n",
    "#         key_id=key_id)\n",
    "\n",
    "# # Store secret and wait for the secret to become active.\n",
    "# print(\"Creating secret...\", end='')\n",
    "# vaults_client_composite = VaultsClientCompositeOperations(VaultsClient(config))\n",
    "# secret = vaults_client_composite.create_secret_and_wait_for_state(\n",
    "#              create_secret_details=secrets_details,\n",
    "#              wait_for_states=[oci.vault.models.Secret.LIFECYCLE_STATE_ACTIVE]).data\n",
    "# secret_id = secret.id\n",
    "# print('Done')\n",
    "# print(\"Created secret: {}\".format(secret_id))"
   ]
  },
  {
   "cell_type": "markdown",
   "id": "507252fd",
   "metadata": {},
   "source": [
    "### Retrieve a Secret"
   ]
  },
  {
   "cell_type": "markdown",
   "id": "7b4f0f66",
   "metadata": {},
   "source": [
    "The SecretsClient class takes a configuration object. The get_secret_budle method takes the secret's OCID and returns a Response object. Its data attribute returns SecretBundle object. This has an attribute secret_bundle_content that has the object Base64SecretBundleContentDetails and the content attribute of this object has the actual secret. This returns the Base64 encoded JSON string that was created with the .dict_to_secret() method. The process can be reversed with the .secret_to_dict() method. This will return a dictionary with the secrets."
   ]
  },
  {
   "cell_type": "code",
   "execution_count": 8,
   "id": "14b17ceb",
   "metadata": {},
   "outputs": [],
   "source": [
    "# secret_bundle = SecretsClient(config).get_secret_bundle(secret_id)\n",
    "# secret_content = secret_to_dict(secret_bundle.data.secret_bundle_content.content)    \n",
    "\n",
    "# print(secret_content)"
   ]
  },
  {
   "cell_type": "markdown",
   "id": "c5bd3a9d",
   "metadata": {},
   "source": [
    "### Update a Secret"
   ]
  },
  {
   "cell_type": "markdown",
   "id": "55730190",
   "metadata": {},
   "source": [
    "Secrets are immutable but it is possible to update them by creating new versions. In the code in the following cell, the credential object updates the password key. To update the secret, a Base64SecretContentDetails object must be created. The process is the same as previously described in the Store a Secret section. However, instead of using a CreateSecretDetails object, an UpdateSecretDetails object is used and only the information that is being changed is passed in.\n",
    "\n",
    "Note that the OCID of the secret does not change. A new secret version is created and the old secret is rotated out of use, but it may still be available depending on the tenancy configuration.\n",
    "\n",
    "The code in the following cell updates the secret. It then prints the OCID of the old secret and the new secret (they will be the same). It also retrieves the updated secret, converts it into a dictionary, and prints it. This shows that the password was actually updated."
   ]
  },
  {
   "cell_type": "code",
   "execution_count": 9,
   "id": "edb46360",
   "metadata": {},
   "outputs": [],
   "source": [
    "# # Update the password in the secret.\n",
    "# credential['password'] = 'MacbookPro'\n",
    "\n",
    "# # Encode the secret.\n",
    "# secret_content_details = Base64SecretContentDetails(\n",
    "#     content_type=oci.vault.models.SecretContentDetails.CONTENT_TYPE_BASE64,\n",
    "#     stage=oci.vault.models.SecretContentDetails.STAGE_CURRENT,\n",
    "#     content=dict_to_secret(credential))\n",
    "\n",
    "# # Store the details to update.\n",
    "# secrets_details = UpdateSecretDetails(secret_content=secret_content_details)\n",
    "     \n",
    "# #Create new secret version and wait for the new version to become active.\n",
    "# secret_update = vaults_client_composite.update_secret_and_wait_for_state(\n",
    "#     secret_id, \n",
    "#     secrets_details,\n",
    "#     wait_for_states=[oci.vault.models.Secret.LIFECYCLE_STATE_ACTIVE]).data\n",
    "\n",
    "# # The secret OCID does not change.\n",
    "# print(\"Orginal Secret OCID: {}\".format(secret_id))\n",
    "# print(\"Updated Secret OCID: {}\".format(secret_update.id))\n",
    "\n",
    "# ### Read a secret's value.\n",
    "# secret_bundle = SecretsClient(config).get_secret_bundle(secret_update.id)\n",
    "# secret_content = secret_to_dict(secret_bundle.data.secret_bundle_content.content)    \n",
    "\n",
    "# print(secret_content)"
   ]
  },
  {
   "cell_type": "markdown",
   "id": "56d19782",
   "metadata": {},
   "source": [
    "### Delete a Secret"
   ]
  },
  {
   "cell_type": "markdown",
   "id": "aec2723f",
   "metadata": {},
   "source": [
    "Vaults, keys, and secrets cannot be deleted immediately. They are marked as pending deletion. By default, they are deleted 30 days after they request for deletion. The length of time before deletion is configurable.\n",
    "\n",
    "The schedule_secret_deletion method of the VaultsClient class is used to delete a secret. It requires the secret's OCID and a ScheduleSecretDeletionDetails object. The ScheduleSecretDeletionDetails provides details about when the secret is deleted.\n",
    "\n",
    "The schedule_secret_deletion method returns a Response object that has information about the deletion process. If the key has already been marked for deletion, a ServiceError occurs with information about the key."
   ]
  },
  {
   "cell_type": "code",
   "execution_count": 10,
   "id": "36ff324e",
   "metadata": {},
   "outputs": [],
   "source": [
    "# try:\n",
    "#     VaultsClient(config).schedule_secret_deletion(secret_id, ScheduleSecretDeletionDetails())\n",
    "# except:\n",
    "#     print(\"The secret has already been deleted?\")"
   ]
  },
  {
   "cell_type": "markdown",
   "id": "f5fa48c1",
   "metadata": {},
   "source": [
    "## Autonomous Database with Vault"
   ]
  },
  {
   "cell_type": "markdown",
   "id": "9773ea99",
   "metadata": {},
   "source": [
    "Oracle offers two type of ADB, the Autonomous Data Warehouse (ADW) and the Autonomous Transaction Processing (ATP) databases. In general, there are no differences in how a connection is made to these different types of databases.\n",
    "\n",
    "\n",
    "The [Oracle Cloud Infrastructure Vault](https://docs.cloud.oracle.com/en-us/iaas/Content/KeyManagement/Concepts/keyoverview.htm) lets you centrally manage the encryption keys that protect your data and the secret credentials that you use to securely access resources.\n",
    "\n",
    "Vaults securely store master encryption keys and secrets that you might otherwise store in configuration files or in code.\n",
    "\n",
    "Use the Vault service to exercise control over the lifecycle keys and secrets. Integration with Oracle Cloud Infrastructure Identity and Access Management (IAM) lets you control who and what services can access which keys and secrets and what they can do with those resources. The Oracle Cloud Infrastructure Audit integration gives you a way to monitor key and secret use. Audit tracks administrative actions on vaults, keys, and secrets.\n",
    "\n",
    "Keys are stored on highly available and durable hardware security modules (HSM) that meet Federal Information Processing Standards (FIPS) 140-2 Security Level 3 security certification. The Vault service uses the Advanced Encryption Standard (AES) as its encryption algorithm and its keys are AES symmetric keys."
   ]
  },
  {
   "cell_type": "markdown",
   "id": "4deaec7c",
   "metadata": {},
   "source": [
    "<a id='setup'></a>\n",
    "## Setting Up the Notebook Session to Access ADB\n",
    "\n",
    "To access ADB, (ADW or ATP databases) from the notebook environment, the database's wallet and user credentials will be needed for our demo. You can refer ADS documentation if you want to do it without the wallet. The wallet is a ZIP file that contains connection information and the encryption keys that are needed to establish a secure connection to the database.\n",
    "\n",
    "The following instructions are for the ADW though the steps are identical for an ATP database. \n",
    "\n",
    "Upload the wallet to the notebook. The wallet can be obtained from your database administrator, Oracle Cloud Infrastructure API, Oracle CLI, or from the Console. In this example, it is downloaded from the Console.\n",
    "\n",
    "<a id='setup_01'></a>\n",
    "### 1. Go to the database console\n",
    "\n",
    "In the Console, navigate to the **Autonomous Data Warehouse** or **Autonomous Transaction Processing** section. \n",
    "\n",
    "<a id='setup_02'></a>\n",
    "### 2. Select the database\n",
    "\n",
    "Select the database to connect to. If one does not exist, one may need to be created. Follow Step 3 to create otherwise skip tp Step 5\n",
    "\n",
    "<a id='setup_03'></a>\n",
    "### 3. Create database\n",
    "\n",
    "On the main page, click on create Autonomous Database:\n",
    "Next, Provide basic information for the Autonomous Database such as Compartment, Display name and Database name.\n",
    "Select Transaction Processing for our usecase.\n",
    "Choose Shared infrastructure as deployment type.\n",
    "Provide administrator credentials.\n",
    "Click on Create.\n",
    "\n",
    "<a id='setup_04'></a>\n",
    "### 4. Upload data\n",
    "\n",
    "On the main page of the database, once the database is active, click **Database Actions**.\n",
    "On the new page, click on SQL in the Development section.\n",
    "If prompted, provide credentials created in step 3.\n",
    "you will see an SQL development environment, upload the iris.csv through Data Loading.\n",
    "\n",
    "\n",
    "<a id='setup_05'></a>\n",
    "### 5. Open DB Connection\n",
    "\n",
    "On the main page of the database, click **DB Connection** on an active database.\n",
    "\n",
    "<a id='setup_06'></a>\n",
    "### 6. Download the wallet\n",
    "\n",
    "Click **Download Wallet**. You are asked to create a password.\n",
    "\n",
    "<a id='setup_07'></a>\n",
    "### 7. Check the wallet\n",
    "\n",
    "It has a name like `Wallet_<database_name>.zip`. For example, `Wallet_production.zip`.\n",
    "\n",
    "<a id='setup_08'></a>\n",
    "### 8. Upload the wallet to the notebook\n",
    "\n",
    "To upload the wallet, drag and drop it into the file browser, or click upload."
   ]
  },
  {
   "cell_type": "markdown",
   "id": "258f0fa0",
   "metadata": {},
   "source": [
    "<a id='setup_09'></a>\n",
    "### 9. Creating credentials\n",
    "\n",
    "`ADS` methods for working with credentials uses a Python `dict` to store the key/value pairs. Therefore, any arbitrary values can be stored. Below is a common use case to store credentials to access an Oracle Autonomous Database.\n",
    "\n",
    "In the `credential` variable, the following values can be updated to store the desired authentication information; `<service_name>`, `<user_name>`, `<password>` and `<wallet_location>`.\n",
    "\n",
    "Usually for ADW you will have identifiers endings with `_high`, `_medium` and `_low`. All 3 will connect to the same database, only difference is in how they allocate database resources."
   ]
  },
  {
   "cell_type": "code",
   "execution_count": 55,
   "id": "a2d13f11",
   "metadata": {},
   "outputs": [],
   "source": [
    "# Sample credentials that are going to be stored.\n",
    "credential1 = {'service_name': 'dbtester_high',\n",
    "              'user_name': 'ADMIN', \n",
    "              'password': 'MacbookPro123',\n",
    "               'wallet_location':'/home/datascience/Wallet_dbtester_high.zip'\n",
    "              }"
   ]
  },
  {
   "cell_type": "markdown",
   "id": "b4d8daf2",
   "metadata": {},
   "source": [
    "## <a id='setup_10'></a>\n",
    "### 10. Store Credentials\n",
    "\n",
    "It is best practice to store credentials outside of the notebook. Therefore, the preferred method is to use the Oracle Cloud Infrastructure Vault. If your tenancy is not configured to use the Vault, it is recommended that it be configured as this is the most secure method."
   ]
  },
  {
   "cell_type": "markdown",
   "id": "96490b59",
   "metadata": {},
   "source": [
    "The `ADS` vault methods assume that the data being stored is in a dictionary. Internally it stores it as an encoded JSON object.\n",
    "\n",
    "In the following cell, update `<vault_id>` with the OCID for the vault that you wish to connect to. To encrypt/decrypt the data an encryption key is needed. This key is part of the vault. If one does not exist you may have to create it. Update `<key_id>` with the OCID of the encryption key."
   ]
  },
  {
   "cell_type": "code",
   "execution_count": 56,
   "id": "817af591",
   "metadata": {},
   "outputs": [
    {
     "name": "stdout",
     "output_type": "stream",
     "text": [
      "ocid1.vault.oc1.phx.bzscckuuaaaxo.abyhqljs6urnutgv6rlmajkisrtmklfig3l66dzjzyebojndxfreimtyrjxa\n",
      "ocid1.key.oc1.phx.bzscckuuaaaxo.abyhqljtwmvxgxyfwem6sgzqobu4iawox5hlrddbevdcjv6wkcsmlpiii3xa\n",
      "<secret_id>\n"
     ]
    }
   ],
   "source": [
    "vault_id = \"ocid1.vault.oc1.phx.bzscckuuaaaxo.abyhqljs6urnutgv6rlmajkisrtmklfig3l66dzjzyebojndxfreimtyrjxa\"\n",
    "key_id = \"ocid1.key.oc1.phx.bzscckuuaaaxo.abyhqljtwmvxgxyfwem6sgzqobu4iawox5hlrddbevdcjv6wkcsmlpiii3xa\"\n",
    "# secret_id = \"ocid1.vaultsecret.oc1.phx.amaaaaaanf25m3qad5mb43c72bejtvuppqg4bshvlo5hja4i226s4u6tbbuq\"\n",
    "# secret_id = \"ocid1.vaultsecret.oc1.phx.amaaaaaanf25m3qa6lltdedajws26l7ldjiz7amdb6jubvzl2luhfgr7dura\"\n",
    "secret_id = \"<secret_id>\"\n",
    "print(vault_id)\n",
    "print(key_id)\n",
    "print(secret_id)"
   ]
  },
  {
   "cell_type": "markdown",
   "id": "f2c7f5f1",
   "metadata": {},
   "source": [
    "The following cell obtains a handle to the vault."
   ]
  },
  {
   "cell_type": "code",
   "execution_count": 57,
   "id": "4d2d1947",
   "metadata": {},
   "outputs": [],
   "source": [
    "if vault_id != \"<vault_id>\" and key_id != \"<key_id>\":\n",
    "    vault = Vault(vault_id=vault_id, key_id=key_id)\n",
    "    secret_id = vault.create_secret(credential1)"
   ]
  },
  {
   "cell_type": "markdown",
   "id": "93ed1d3f",
   "metadata": {},
   "source": [
    "Create a secret if you do not have it. It returns the OCID to the secret so that it can be accessed."
   ]
  },
  {
   "cell_type": "markdown",
   "id": "33dc4b99",
   "metadata": {},
   "source": [
    "There are a few attributes on the Vault class that provide information about the actual vault connections."
   ]
  },
  {
   "cell_type": "code",
   "execution_count": 58,
   "id": "7a98d0b7",
   "metadata": {},
   "outputs": [
    {
     "name": "stdout",
     "output_type": "stream",
     "text": [
      "Vault OCID: ocid1.vault.oc1.phx.bzscckuuaaaxo.abyhqljs6urnutgv6rlmajkisrtmklfig3l66dzjzyebojndxfreimtyrjxa\n",
      "Encryption Key OCID: ocid1.key.oc1.phx.bzscckuuaaaxo.abyhqljtwmvxgxyfwem6sgzqobu4iawox5hlrddbevdcjv6wkcsmlpiii3xa\n",
      "Compartment OCID: ocid1.compartment.oc1..aaaaaaaarxbwpf4b5mquu54ibgl7ne2dukgddm5uzhroou6ofu342i54orza\n",
      "Secret OCID: ocid1.vaultsecret.oc1.phx.amaaaaaanf25m3qaop46gblsnlbvktdxcrb4gdmppzjdeis3fxmyxc6m5bya\n",
      "Secret: {'service_name': 'dbtester_high', 'user_name': 'ADMIN', 'password': 'MacbookPro123', 'wallet_location': '/home/datascience/Wallet_dbtester_high.zip'}\n"
     ]
    }
   ],
   "source": [
    "if \"vault\" in globals():\n",
    "    print(f\"Vault OCID: {vault.id}\")\n",
    "    print(f\"Encryption Key OCID: {vault.key_id}\")\n",
    "    print(f\"Compartment OCID: {vault.compartment_id}\")\n",
    "    print(f\"Secret OCID: {secret_id}\")\n",
    "    print(f\"Secret: {vault.get_secret(secret_id)}\")\n",
    "else:\n",
    "    print(\"Skipping as it appears that you do not have vault configured.\")"
   ]
  },
  {
   "cell_type": "code",
   "execution_count": 59,
   "id": "70425a20",
   "metadata": {},
   "outputs": [
    {
     "name": "stdout",
     "output_type": "stream",
     "text": [
      "/home/datascience/Wallet_dbtester_high.zip\n"
     ]
    }
   ],
   "source": [
    "database_name = \"dbtester\"\n",
    "wallet_path = os.path.join(os.path.expanduser(\"~\"), f\"Wallet_{database_name}_high.zip\")\n",
    "print(wallet_path)"
   ]
  },
  {
   "cell_type": "code",
   "execution_count": 60,
   "id": "9ca4d320",
   "metadata": {},
   "outputs": [
    {
     "name": "stdout",
     "output_type": "stream",
     "text": [
      "There is public internet access\n"
     ]
    }
   ],
   "source": [
    "try:\n",
    "    urlopen('http://oracle.com', timeout=5)\n",
    "    print(\"There is public internet access\")\n",
    "except:\n",
    "    print(\"There is no public internet access\")"
   ]
  },
  {
   "cell_type": "markdown",
   "id": "005cf337",
   "metadata": {},
   "source": [
    "### <a id='setup_11'></a>\n",
    "### 11. Connect to Autonomous Database\n",
    "\n",
    "To make a connection using a secret in the Vault, set the parameter secret_id to the secret OCID. The get_secret_budle method takes the secret's OCID and returns a Response object. Its data attribute returns SecretBundle object. This has an attribute secret_bundle_content that has the object Base64SecretBundleContentDetails and the content attribute of this object has the actual secret. "
   ]
  },
  {
   "cell_type": "code",
   "execution_count": 61,
   "id": "645989c5",
   "metadata": {},
   "outputs": [
    {
     "name": "stdout",
     "output_type": "stream",
     "text": [
      "{'service_name': 'dbtester_high', 'user_name': 'ADMIN', 'password': 'MacbookPro123', 'wallet_location': '/home/datascience/Wallet_dbtester_high.zip'}\n"
     ]
    }
   ],
   "source": [
    "secret_bundle = SecretsClient(config).get_secret_bundle(secret_id)\n",
    "secret_content = secret_to_dict(secret_bundle.data.secret_bundle_content.content) \n",
    "print(secret_content)"
   ]
  },
  {
   "cell_type": "code",
   "execution_count": 63,
   "id": "f652329d",
   "metadata": {},
   "outputs": [],
   "source": [
    "# simple read of a SQL query into a dataframe with no bind variables\n",
    "df = pd.DataFrame.ads.read_sql(\n",
    "    \"SELECT * FROM IRIS\",\n",
    "    connection_parameters=secret_content,\n",
    ")"
   ]
  },
  {
   "cell_type": "code",
   "execution_count": 64,
   "id": "e06a5440",
   "metadata": {},
   "outputs": [
    {
     "data": {
      "text/html": [
       "<div>\n",
       "<style scoped>\n",
       "    .dataframe tbody tr th:only-of-type {\n",
       "        vertical-align: middle;\n",
       "    }\n",
       "\n",
       "    .dataframe tbody tr th {\n",
       "        vertical-align: top;\n",
       "    }\n",
       "\n",
       "    .dataframe thead th {\n",
       "        text-align: right;\n",
       "    }\n",
       "</style>\n",
       "<table border=\"1\" class=\"dataframe\">\n",
       "  <thead>\n",
       "    <tr style=\"text-align: right;\">\n",
       "      <th></th>\n",
       "      <th>ID</th>\n",
       "      <th>SEPALLENGTHCM</th>\n",
       "      <th>SEPALWIDTHCM</th>\n",
       "      <th>PETALLENGTHCM</th>\n",
       "      <th>PETALWIDTHCM</th>\n",
       "      <th>SPECIES</th>\n",
       "    </tr>\n",
       "  </thead>\n",
       "  <tbody>\n",
       "    <tr>\n",
       "      <th>0</th>\n",
       "      <td>1</td>\n",
       "      <td>5.1</td>\n",
       "      <td>3.5</td>\n",
       "      <td>1.4</td>\n",
       "      <td>0.2</td>\n",
       "      <td>Iris-setosa</td>\n",
       "    </tr>\n",
       "    <tr>\n",
       "      <th>1</th>\n",
       "      <td>2</td>\n",
       "      <td>4.9</td>\n",
       "      <td>3.0</td>\n",
       "      <td>1.4</td>\n",
       "      <td>0.2</td>\n",
       "      <td>Iris-setosa</td>\n",
       "    </tr>\n",
       "    <tr>\n",
       "      <th>2</th>\n",
       "      <td>3</td>\n",
       "      <td>4.7</td>\n",
       "      <td>3.2</td>\n",
       "      <td>1.3</td>\n",
       "      <td>0.2</td>\n",
       "      <td>Iris-setosa</td>\n",
       "    </tr>\n",
       "    <tr>\n",
       "      <th>3</th>\n",
       "      <td>4</td>\n",
       "      <td>4.6</td>\n",
       "      <td>3.1</td>\n",
       "      <td>1.5</td>\n",
       "      <td>0.2</td>\n",
       "      <td>Iris-setosa</td>\n",
       "    </tr>\n",
       "    <tr>\n",
       "      <th>4</th>\n",
       "      <td>5</td>\n",
       "      <td>5.0</td>\n",
       "      <td>3.6</td>\n",
       "      <td>1.4</td>\n",
       "      <td>0.2</td>\n",
       "      <td>Iris-setosa</td>\n",
       "    </tr>\n",
       "  </tbody>\n",
       "</table>\n",
       "</div>"
      ],
      "text/plain": [
       "   ID  SEPALLENGTHCM  SEPALWIDTHCM  PETALLENGTHCM  PETALWIDTHCM      SPECIES\n",
       "0   1            5.1           3.5            1.4           0.2  Iris-setosa\n",
       "1   2            4.9           3.0            1.4           0.2  Iris-setosa\n",
       "2   3            4.7           3.2            1.3           0.2  Iris-setosa\n",
       "3   4            4.6           3.1            1.5           0.2  Iris-setosa\n",
       "4   5            5.0           3.6            1.4           0.2  Iris-setosa"
      ]
     },
     "execution_count": 64,
     "metadata": {},
     "output_type": "execute_result"
    }
   ],
   "source": [
    "df.head()"
   ]
  },
  {
   "cell_type": "code",
   "execution_count": null,
   "id": "56416df6",
   "metadata": {},
   "outputs": [],
   "source": []
  }
 ],
 "metadata": {
  "kernelspec": {
   "display_name": "Python [conda env:generalmachinelearningforcpusonpython3_7vy]",
   "language": "python",
   "name": "conda-env-generalmachinelearningforcpusonpython3_7vy-py"
  },
  "language_info": {
   "codemirror_mode": {
    "name": "ipython",
    "version": 3
   },
   "file_extension": ".py",
   "mimetype": "text/x-python",
   "name": "python",
   "nbconvert_exporter": "python",
   "pygments_lexer": "ipython3",
   "version": "3.7.12"
  }
 },
 "nbformat": 4,
 "nbformat_minor": 5
}
