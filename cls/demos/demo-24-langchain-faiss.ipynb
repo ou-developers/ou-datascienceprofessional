{
 "cells": [
  {
   "cell_type": "markdown",
   "id": "ace7d048-31ae-4f05-94ba-c6ae7865f023",
   "metadata": {},
   "source": [
    "### OCI Data Science - Useful Tips\n",
    "<details>\n",
    "<summary><font size=\"2\">Check for Public Internet Access</font></summary>\n",
    "\n",
    "```python\n",
    "import requests\n",
    "response = requests.get(\"https://oracle.com\")\n",
    "assert response.status_code==200, \"Internet connection failed\"\n",
    "```\n",
    "</details>\n",
    "<details>\n",
    "<summary><font size=\"2\">Helpful Documentation </font></summary>\n",
    "<ul><li><a href=\"https://docs.cloud.oracle.com/en-us/iaas/data-science/using/data-science.htm\">Data Science Service Documentation</a></li>\n",
    "<li><a href=\"https://docs.cloud.oracle.com/iaas/tools/ads-sdk/latest/index.html\">ADS documentation</a></li>\n",
    "</ul>\n",
    "</details>\n",
    "<details>\n",
    "<summary><font size=\"2\">Typical Cell Imports and Settings for ADS</font></summary>\n",
    "\n",
    "```python\n",
    "%load_ext autoreload\n",
    "%autoreload 2\n",
    "%matplotlib inline\n",
    "\n",
    "import warnings\n",
    "warnings.filterwarnings('ignore')\n",
    "\n",
    "import logging\n",
    "logging.basicConfig(format='%(levelname)s:%(message)s', level=logging.ERROR)\n",
    "\n",
    "import ads\n",
    "from ads.dataset.factory import DatasetFactory\n",
    "from ads.automl.provider import OracleAutoMLProvider\n",
    "from ads.automl.driver import AutoML\n",
    "from ads.evaluations.evaluator import ADSEvaluator\n",
    "from ads.common.data import ADSData\n",
    "from ads.explanations.explainer import ADSExplainer\n",
    "from ads.explanations.mlx_global_explainer import MLXGlobalExplainer\n",
    "from ads.explanations.mlx_local_explainer import MLXLocalExplainer\n",
    "from ads.catalog.model import ModelCatalog\n",
    "from ads.common.model_artifact import ModelArtifact\n",
    "```\n",
    "</details>\n",
    "<details>\n",
    "<summary><font size=\"2\">Useful Environment Variables</font></summary>\n",
    "\n",
    "```python\n",
    "import os\n",
    "print(os.environ[\"NB_SESSION_COMPARTMENT_OCID\"])\n",
    "print(os.environ[\"PROJECT_OCID\"])\n",
    "print(os.environ[\"USER_OCID\"])\n",
    "print(os.environ[\"TENANCY_OCID\"])\n",
    "print(os.environ[\"NB_REGION\"])\n",
    "```\n",
    "</details>"
   ]
  },
  {
   "cell_type": "code",
   "execution_count": 1,
   "id": "959db8be-5110-4ff3-8a68-75ba8c0357cd",
   "metadata": {
    "tags": []
   },
   "outputs": [],
   "source": [
    "from langchain_community.vectorstores import FAISS\n",
    "import ads"
   ]
  },
  {
   "cell_type": "markdown",
   "id": "8d0c2ad6-f9af-40f8-a40e-57719eea08b7",
   "metadata": {},
   "source": [
    "##"
   ]
  },
  {
   "cell_type": "code",
   "execution_count": null,
   "id": "7921370f-6110-45ba-b630-b15c5b727e6f",
   "metadata": {
    "tags": []
   },
   "outputs": [],
   "source": [
    "ads.set_auth(auth=\"resource_principal\")"
   ]
  },
  {
   "cell_type": "code",
   "execution_count": null,
   "id": "0fb966fc-c735-4eba-a771-ff6222204118",
   "metadata": {
    "tags": []
   },
   "outputs": [],
   "source": [
    "embedings = GenerativeAIEmbeddings(\n",
    "    compartment_id=\"ocid1.compartment.oc1..aaaaaaaah3o77etbcfg2o25jxks2pucmyrz6veg26z5lgpx3q355nikleemq\",\n",
    "    client_kwargs=dict(service_endpoint=\"https://inference.generativeai.us-chicago-1.oci.oraclecloud.com\") # this can be omitted after Generative AI service is GA.\n",
    ")\n",
    "\n",
    "llm = GenerativeAI(\n",
    "    compartment_id=\"ocid1.compartment.oc1..aaaaaaaah3o77etbcfg2o25jxks2pucmyrz6veg26z5lgpx3q355nikleemq\",\n",
    "    client_kwargs=dict(service_endpoint=\"https://inference.generativeai.us-chicago-1.oci.oraclecloud.com\") # this can be omitted after Generative AI service is GA.\n",
    ")"
   ]
  },
  {
   "cell_type": "code",
   "execution_count": 5,
   "id": "cfe6a351-2259-49f3-b111-b808b904bc66",
   "metadata": {
    "tags": []
   },
   "outputs": [],
   "source": [
    "from langchain.document_loaders import TextLoader\n",
    "from langchain.text_splitter import CharacterTextSplitter\n",
    "\n",
    "loader = TextLoader(\"ai-foundations.txt\")\n",
    "documents = loader.load()\n",
    "text_splitter = CharacterTextSplitter(chunk_size=500, chunk_overlap=50)\n",
    "docs = text_splitter.split_documents(documents)"
   ]
  },
  {
   "cell_type": "code",
   "execution_count": 6,
   "id": "6ca5f980-44c7-4037-b62c-16a9c662456a",
   "metadata": {
    "tags": []
   },
   "outputs": [
    {
     "name": "stdout",
     "output_type": "stream",
     "text": [
      "INFO:faiss.loader:Loading faiss with AVX2 support.\n",
      "INFO:faiss.loader:Could not load library with AVX2 support due to:\n",
      "ModuleNotFoundError(\"No module named 'faiss.swigfaiss_avx2'\")\n",
      "INFO:faiss.loader:Loading faiss.\n",
      "INFO:faiss.loader:Successfully loaded faiss.\n"
     ]
    }
   ],
   "source": [
    "db = FAISS.from_documents(docs, embedings)"
   ]
  },
  {
   "cell_type": "code",
   "execution_count": 7,
   "id": "349a1ff5-f079-4e96-82b0-47f0f9629d22",
   "metadata": {
    "tags": []
   },
   "outputs": [],
   "source": [
    "retv = db.as_retriever()"
   ]
  },
  {
   "cell_type": "code",
   "execution_count": 8,
   "id": "1f4122e8-5dda-447e-a31c-671402a8450d",
   "metadata": {
    "tags": []
   },
   "outputs": [],
   "source": [
    "chain = RetrievalQA.from_chain_type(llm=llm, retriever=retv)"
   ]
  },
  {
   "cell_type": "code",
   "execution_count": 9,
   "id": "fe09ff2e-1977-4dcb-bfcf-b11adccbddd4",
   "metadata": {
    "tags": []
   },
   "outputs": [
    {
     "name": "stdout",
     "output_type": "stream",
     "text": [
      "WARNING:ads.common:In the future model input will be serialized by `cloudpickle` by default. Currently, model input are serialized into a dictionary containing serialized input data and original data type information.Set `model_input_serializer=\"cloudpickle\"` to use cloudpickle model input serializer.\n"
     ]
    }
   ],
   "source": [
    "import tempfile\n",
    "from ads.llm.deploy import ChainDeployment\n",
    "\n",
    "artifact_dir = tempfile.mkdtemp()\n",
    "\n",
    "model = ChainDeployment(\n",
    "    chain=chain,\n",
    "    artifact_dir=artifact_dir,\n",
    "    force_overwrite=True\n",
    ")"
   ]
  },
  {
   "cell_type": "code",
   "execution_count": 10,
   "id": "8dff2ea8-b8c9-41f3-9c79-f26d1ebff3bf",
   "metadata": {
    "tags": []
   },
   "outputs": [
    {
     "name": "stdout",
     "output_type": "stream",
     "text": [
      "WARNING:py.warnings:/home/datascience/conda/pytorch21_p39_gpu_v1/lib/python3.9/site-packages/ads/model/runtime/env_info.py:92: UserWarning: slug will be deprecated. Provide conda pack path instead.s]\n",
      "  warnings.warn(\"slug will be deprecated. Provide conda pack path instead.\")\n",
      "\n",
      "INFO:ADS:To auto-extract taxonomy metadata the model must be provided. Supported models: keras, lightgbm, pytorch, sklearn, tensorflow, pyspark, and xgboost.\n"
     ]
    },
    {
     "data": {
      "text/plain": [
       "algorithm: null\n",
       "artifact_dir:\n",
       "  /tmp/tmppucwgk88:\n",
       "  - - .model-ignore\n",
       "    - runtime.yaml\n",
       "    - score.py\n",
       "    - chain.yaml\n",
       "framework: null\n",
       "model_deployment_id: null\n",
       "model_id: null"
      ]
     },
     "execution_count": 10,
     "metadata": {},
     "output_type": "execute_result"
    }
   ],
   "source": [
    "model.prepare(force_overwrite=True,\n",
    "        inference_conda_env=\"pytorch21_p39_gpu_v1\",\n",
    "        inference_python_version=\"3.9\",\n",
    "        )"
   ]
  },
  {
   "cell_type": "code",
   "execution_count": 11,
   "id": "2a09244d-c78d-4b62-9d45-c5e40026a37f",
   "metadata": {
    "tags": []
   },
   "outputs": [
    {
     "data": {
      "text/plain": [
       "{'query': 'what is AI Foundations course?',\n",
       " 'result': ' The Oracle Cloud Infrastructure AI Foundations course is an introduction to AI and Machine Learning (ML). The course is intended for anyone who wants to begin learning about AI and ML, such as cloud engineers or architects, IT professionals, or students seeking to upskill. The course is split into six modules and is recommended for those who are familiar with OCI or similar cloud services. \\n\\nWould you like me to go into more detail about any specific parts of the course? '}"
      ]
     },
     "execution_count": 11,
     "metadata": {},
     "output_type": "execute_result"
    }
   ],
   "source": [
    "model.verify(\"what is AI Foundations course?\")"
   ]
  },
  {
   "cell_type": "code",
   "execution_count": 12,
   "id": "6ddbba98-2dca-4629-97ca-9cae87d2c466",
   "metadata": {
    "tags": []
   },
   "outputs": [
    {
     "name": "stdout",
     "output_type": "stream",
     "text": [
      "['.model-ignore', 'runtime.yaml', 'score.py', 'chain.yaml']\n"
     ]
    },
    {
     "data": {
      "application/vnd.jupyter.widget-view+json": {
       "model_id": "",
       "version_major": 2,
       "version_minor": 0
      },
      "text/plain": [
       "loop1:   0%|          | 0/4 [00:00<?, ?it/s]"
      ]
     },
     "metadata": {},
     "output_type": "display_data"
    },
    {
     "data": {
      "text/plain": [
       "'ocid1.datasciencemodel.oc1.us-chicago-1.amaaaaaajcisnjiaiqnnnoj7dbzxdgeqddh5efevanpira6kmy3lse2ahsna'"
      ]
     },
     "execution_count": 12,
     "metadata": {},
     "output_type": "execute_result"
    }
   ],
   "source": [
    "model.save()"
   ]
  },
  {
   "cell_type": "code",
   "execution_count": 13,
   "id": "05963603-094c-44ab-a628-4cfc6cef8baa",
   "metadata": {},
   "outputs": [
    {
     "name": "stdout",
     "output_type": "stream",
     "text": [
      "Model Deployment OCID: ocid1.datasciencemodeldeployment.oc1.us-chicago-1.amaaaaaajcisnjiaysxsjkax3a2dm4oypuner72ha5h6mweb7cgpmhea73ja\n"
     ]
    },
    {
     "data": {
      "application/vnd.jupyter.widget-view+json": {
       "model_id": "",
       "version_major": 2,
       "version_minor": 0
      },
      "text/plain": [
       "Creating model deployment:   0%|          | [00:00<?, ?it/s]"
      ]
     },
     "metadata": {},
     "output_type": "display_data"
    },
    {
     "data": {
      "text/plain": [
       "\n",
       "kind: deployment\n",
       "spec:\n",
       "  createdBy: ocid1.datasciencenotebooksession.oc1.us-chicago-1.amaaaaaajcisnjia2j7o66wzobthxu2byl6hsdnw2m7e7rtazu3aovgsbora\n",
       "  definedTags:\n",
       "    Oracle-Tags:\n",
       "      CreatedBy: ocid1.datasciencenotebooksession.oc1.us-chicago-1.amaaaaaajcisnjia2j7o66wzobthxu2byl6hsdnw2m7e7rtazu3aovgsbora\n",
       "      CreatedOn: '2024-05-14T16:53:01.459Z'\n",
       "  displayName: attractive-ant-2024-05-14-16:53.01\n",
       "  id: ocid1.datasciencemodeldeployment.oc1.us-chicago-1.amaaaaaajcisnjiaysxsjkax3a2dm4oypuner72ha5h6mweb7cgpmhea73ja\n",
       "  infrastructure:\n",
       "    kind: infrastructure\n",
       "    spec:\n",
       "      accessLog:\n",
       "        logGroupId: ocid1.loggroup.oc1.us-chicago-1.amaaaaaajcisnjiazonw73ce54gyv2i32x7rgx42zlr65h2sbzgjobipt5mq\n",
       "        logId: ocid1.log.oc1.us-chicago-1.amaaaaaajcisnjiakhi42opuay45virks2b4omdhsvxxx2xnenvkegwjz3pa\n",
       "      bandwidthMbps: 10\n",
       "      compartmentId: ocid1.compartment.oc1..aaaaaaaah3o77etbcfg2o25jxks2pucmyrz6veg26z5lgpx3q355nikleemq\n",
       "      deploymentType: SINGLE_MODEL\n",
       "      policyType: FIXED_SIZE\n",
       "      projectId: ocid1.datascienceproject.oc1.us-chicago-1.amaaaaaajcisnjianaa3ygwp2xza6ifymwwbyayyzb7niy67xee2zsascrxq\n",
       "      replica: 1\n",
       "      shapeConfigDetails:\n",
       "        memoryInGBs: 16.0\n",
       "        ocpus: 2.0\n",
       "      shapeName: VM.Standard.E4.Flex\n",
       "    type: datascienceModelDeployment\n",
       "  lifecycleDetails: Model Deployment is Active.\n",
       "  lifecycleState: ACTIVE\n",
       "  modelDeploymentUrl: https://modeldeployment.us-chicago-1.oci.customer-oci.com/ocid1.datasciencemodeldeployment.oc1.us-chicago-1.amaaaaaajcisnjiaysxsjkax3a2dm4oypuner72ha5h6mweb7cgpmhea73ja\n",
       "  runtime:\n",
       "    kind: runtime\n",
       "    spec:\n",
       "      env:\n",
       "        CRYPTOGRAPHY_OPENSSL_NO_LEGACY: '1'\n",
       "      modelUri: ocid1.datasciencemodel.oc1.us-chicago-1.amaaaaaajcisnjiaiqnnnoj7dbzxdgeqddh5efevanpira6kmy3lse2ahsna\n",
       "    type: conda\n",
       "  timeCreated: 2024-05-14 16:53:01.658000+00:00\n",
       "type: modelDeployment"
      ]
     },
     "execution_count": 13,
     "metadata": {},
     "output_type": "execute_result"
    }
   ],
   "source": [
    "model.deploy(environment_variables={\"CRYPTOGRAPHY_OPENSSL_NO_LEGACY\":\"1\"}, \n",
    "             deployment_log_group_id=\"ocid1.loggroup.oc1.us-chicago-1.amaaaaaajcisnjiazonw73ce54gyv2i32x7rgx42zlr65h2sbzgjobipt5mq\",\n",
    "             deployment_access_log_id=\"ocid1.log.oc1.us-chicago-1.amaaaaaajcisnjiakhi42opuay45virks2b4omdhsvxxx2xnenvkegwjz3pa\")"
   ]
  },
  {
   "cell_type": "code",
   "execution_count": 14,
   "id": "781f18c3-c732-46be-be0e-4b3fad2b4e57",
   "metadata": {
    "tags": []
   },
   "outputs": [
    {
     "data": {
      "text/plain": [
       "{'query': 'Who are instructors for AI Foundations?',\n",
       " 'result': ' The instructors for the Oracle Cloud Infrastructure AI Foundations course are Hemant Gahankari, Himanshu Raj, and Nick Commisso. \\n\\nWould you like to know more about the course or its instructors? '}"
      ]
     },
     "execution_count": 14,
     "metadata": {},
     "output_type": "execute_result"
    }
   ],
   "source": [
    "model.predict(\"Who are instructors for AI Foundations?\")"
   ]
  },
  {
   "cell_type": "code",
   "execution_count": null,
   "id": "47264580-c195-4c93-be9e-9e8a19374b2b",
   "metadata": {},
   "outputs": [],
   "source": []
  }
 ],
 "metadata": {
  "kernelspec": {
   "display_name": "Python [conda env:pytorch21_p39_gpu_v1]",
   "language": "python",
   "name": "conda-env-pytorch21_p39_gpu_v1-py"
  },
  "language_info": {
   "codemirror_mode": {
    "name": "ipython",
    "version": 3
   },
   "file_extension": ".py",
   "mimetype": "text/x-python",
   "name": "python",
   "nbconvert_exporter": "python",
   "pygments_lexer": "ipython3",
   "version": "3.9.16"
  }
 },
 "nbformat": 4,
 "nbformat_minor": 5
}
